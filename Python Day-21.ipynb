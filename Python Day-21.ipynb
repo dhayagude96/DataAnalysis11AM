{
 "cells": [
  {
   "cell_type": "markdown",
   "id": "27c300b8",
   "metadata": {},
   "source": [
    "# what is module in python?\n",
    "\n",
    "In Python, a module is a file that contains Python code. This code can define functions, classes, and variables that can be used in other Python programs. Modules are a way to organize and reuse code by encapsulating related functionality into separate files."
   ]
  },
  {
   "cell_type": "markdown",
   "id": "d3d0aa0d",
   "metadata": {},
   "source": [
    "Modules are a fundamental concept in Python that promotes code organization, reusability, and maintainability. They play a crucial role in structuring Python programs and making them more manageable."
   ]
  },
  {
   "cell_type": "markdown",
   "id": "5b931ff3",
   "metadata": {},
   "source": [
    "# Built-in Modules:\n",
    "\n",
    "These are modules that come pre-installed with Python and provide core functionality. Examples include math, random, os, sys, and datetime. You can use these modules without needing to install any additional packages."
   ]
  },
  {
   "cell_type": "code",
   "execution_count": 7,
   "id": "3ef181ab",
   "metadata": {},
   "outputs": [
    {
     "data": {
      "text/plain": [
       "15.0"
      ]
     },
     "execution_count": 7,
     "metadata": {},
     "output_type": "execute_result"
    }
   ],
   "source": [
    "import random as rd\n",
    "\n",
    "import math \n",
    "\n",
    "#help(m)\n",
    "\n",
    "math.sqrt(225)"
   ]
  },
  {
   "cell_type": "code",
   "execution_count": 14,
   "id": "d8d64891",
   "metadata": {},
   "outputs": [
    {
     "name": "stdout",
     "output_type": "stream",
     "text": [
      "Area of Rec Having L & W as 10 & 12 : 120\n",
      "Area of Oct Having Side 7 :  235.20000000000002\n"
     ]
    }
   ],
   "source": [
    "import Area\n",
    "\n",
    "print(\"Area of Rec Having L & W as 10 & 12 :\" , Area.RecArea(10,12))\n",
    "\n",
    "print(\"Area of Oct Having Side 7 : \" ,Area.OctArea(7))"
   ]
  },
  {
   "cell_type": "markdown",
   "id": "3a1ee25b",
   "metadata": {},
   "source": [
    "# Why we required file Handling in python?\n",
    "\n",
    "File handling in Python is a crucial feature because it allows you to interact with external files and data, enabling you to perform various tasks such as reading data from files, writing data to files, and manipulating file content"
   ]
  },
  {
   "cell_type": "markdown",
   "id": "931a5624",
   "metadata": {},
   "source": [
    "# Reasons why file handling is required in Python:\n",
    "\n",
    "Data Storage\n",
    "\n",
    "Data Retrieval\n",
    "\n",
    "Data Persistence\n",
    "\n",
    "Data Transfer\n",
    "\n",
    "Configuration Management\n",
    "\n",
    "Logging and Debugging\n",
    "\n",
    "Data Analysis\n",
    "\n",
    "File Manipulation\n",
    "\n",
    "Text Processing\n",
    "\n",
    "Resource Management\n",
    "\n",
    "Data Serialization"
   ]
  },
  {
   "cell_type": "markdown",
   "id": "51af8e54",
   "metadata": {},
   "source": [
    "# Types of File ?\n",
    "\n",
    "Text Files: \n",
    "    \n",
    "These files contain plain text data that is typically human-readable. Examples include:\n",
    "\n",
    ".txt\n",
    ".csv\n",
    ".xml\n",
    ".json\n",
    ".html\n",
    ".log\n",
    "    \n",
    "Binary Files:\n",
    "    \n",
    "Binary files contain data in a non-human-readable format. They are often used for storing program data, images, videos, audio, and other non-textual information. Examples include:\n",
    "\n",
    ".jpg, .png, .gif: Image files.\n",
    ".mp3, .wav: Audio files.\n",
    ".avi, .mp4: Video files\n",
    ".pdf: Portable Document Format files.\n",
    ".exe, .dll: \n",
    ".zip, .tar: "
   ]
  },
  {
   "cell_type": "markdown",
   "id": "3b3acdc3",
   "metadata": {},
   "source": [
    "# File Handling Processes:\n",
    "\n",
    "1.open\n",
    "\n",
    "2.write\n",
    "\n",
    "3.close"
   ]
  },
  {
   "cell_type": "markdown",
   "id": "404067ed",
   "metadata": {},
   "source": [
    "# Read Mode ('r'):\n",
    "\n",
    "This mode is used for reading the contents of a file.\n",
    "\n",
    "It is the default mode if no mode is specified when opening a file.\n",
    "\n",
    "If the file does not exist, it will raise a FileNotFoundError"
   ]
  },
  {
   "cell_type": "code",
   "execution_count": 3,
   "id": "c9d75fb2",
   "metadata": {},
   "outputs": [
    {
     "data": {
      "text/plain": [
       "'We are Starting With File Handling in Python With 1st Mode \"Read Mode\"\\nThis is Second line in Read Mode\\nThis 3rd line in Read Mode\\''"
      ]
     },
     "execution_count": 3,
     "metadata": {},
     "output_type": "execute_result"
    }
   ],
   "source": [
    "f1 = open(\"C:/Users/Vishal/Desktop/EduTECH.txt\",\"r\")\n",
    "\n",
    "f1.read()"
   ]
  },
  {
   "cell_type": "code",
   "execution_count": 5,
   "id": "f98e42d7",
   "metadata": {},
   "outputs": [
    {
     "data": {
      "text/plain": [
       "'We are Starting With File Handling in Python With '"
      ]
     },
     "execution_count": 5,
     "metadata": {},
     "output_type": "execute_result"
    }
   ],
   "source": [
    "f1 = open(\"C:/Users/Vishal/Desktop/EdUTECH.txt\",\"r\")\n",
    "\n",
    "f1.read(50)"
   ]
  },
  {
   "cell_type": "code",
   "execution_count": 6,
   "id": "2424131e",
   "metadata": {},
   "outputs": [
    {
     "data": {
      "text/plain": [
       "'We are Starting With File Handling in Python With 1st Mode \"Read Mode\"\\n'"
      ]
     },
     "execution_count": 6,
     "metadata": {},
     "output_type": "execute_result"
    }
   ],
   "source": [
    "f1 = open(\"C:/Users/Vishal/Desktop/EdUTECH.txt\",\"r\")\n",
    "\n",
    "f1.readline()"
   ]
  },
  {
   "cell_type": "code",
   "execution_count": 13,
   "id": "4ec352ec",
   "metadata": {},
   "outputs": [
    {
     "data": {
      "text/plain": [
       "['We are Starting With File Handling in Python With 1st Mode \"Read Mode\"\\n',\n",
       " 'This is Second line in Read Mode\\n',\n",
       " \"This 3rd line in Read Mode'\"]"
      ]
     },
     "execution_count": 13,
     "metadata": {},
     "output_type": "execute_result"
    }
   ],
   "source": [
    "f1 = open(\"C:/Users/Vishal/Desktop/EdUTECH.txt\",\"r\")\n",
    "\n",
    "f1.readlines()\n",
    "\n",
    "#f1.close()"
   ]
  },
  {
   "cell_type": "code",
   "execution_count": 23,
   "id": "9e41b2cd",
   "metadata": {},
   "outputs": [
    {
     "ename": "FileNotFoundError",
     "evalue": "[Errno 2] No such file or directory: 'C:/Users/Vishal/Desktop/XYZ.txt'",
     "output_type": "error",
     "traceback": [
      "\u001b[1;31m---------------------------------------------------------------------------\u001b[0m",
      "\u001b[1;31mFileNotFoundError\u001b[0m                         Traceback (most recent call last)",
      "Cell \u001b[1;32mIn[23], line 3\u001b[0m\n\u001b[0;32m      1\u001b[0m \u001b[38;5;66;03m#FileNotFoundError\u001b[39;00m\n\u001b[1;32m----> 3\u001b[0m f2 \u001b[38;5;241m=\u001b[39m \u001b[38;5;28mopen\u001b[39m(\u001b[38;5;124m\"\u001b[39m\u001b[38;5;124mC:/Users/Vishal/Desktop/XYZ.txt\u001b[39m\u001b[38;5;124m\"\u001b[39m,\u001b[38;5;124m\"\u001b[39m\u001b[38;5;124mr\u001b[39m\u001b[38;5;124m\"\u001b[39m)\n",
      "File \u001b[1;32m~\\anaconda3\\Lib\\site-packages\\IPython\\core\\interactiveshell.py:284\u001b[0m, in \u001b[0;36m_modified_open\u001b[1;34m(file, *args, **kwargs)\u001b[0m\n\u001b[0;32m    277\u001b[0m \u001b[38;5;28;01mif\u001b[39;00m file \u001b[38;5;129;01min\u001b[39;00m {\u001b[38;5;241m0\u001b[39m, \u001b[38;5;241m1\u001b[39m, \u001b[38;5;241m2\u001b[39m}:\n\u001b[0;32m    278\u001b[0m     \u001b[38;5;28;01mraise\u001b[39;00m \u001b[38;5;167;01mValueError\u001b[39;00m(\n\u001b[0;32m    279\u001b[0m         \u001b[38;5;124mf\u001b[39m\u001b[38;5;124m\"\u001b[39m\u001b[38;5;124mIPython won\u001b[39m\u001b[38;5;124m'\u001b[39m\u001b[38;5;124mt let you open fd=\u001b[39m\u001b[38;5;132;01m{\u001b[39;00mfile\u001b[38;5;132;01m}\u001b[39;00m\u001b[38;5;124m by default \u001b[39m\u001b[38;5;124m\"\u001b[39m\n\u001b[0;32m    280\u001b[0m         \u001b[38;5;124m\"\u001b[39m\u001b[38;5;124mas it is likely to crash IPython. If you know what you are doing, \u001b[39m\u001b[38;5;124m\"\u001b[39m\n\u001b[0;32m    281\u001b[0m         \u001b[38;5;124m\"\u001b[39m\u001b[38;5;124myou can use builtins\u001b[39m\u001b[38;5;124m'\u001b[39m\u001b[38;5;124m open.\u001b[39m\u001b[38;5;124m\"\u001b[39m\n\u001b[0;32m    282\u001b[0m     )\n\u001b[1;32m--> 284\u001b[0m \u001b[38;5;28;01mreturn\u001b[39;00m io_open(file, \u001b[38;5;241m*\u001b[39margs, \u001b[38;5;241m*\u001b[39m\u001b[38;5;241m*\u001b[39mkwargs)\n",
      "\u001b[1;31mFileNotFoundError\u001b[0m: [Errno 2] No such file or directory: 'C:/Users/Vishal/Desktop/XYZ.txt'"
     ]
    }
   ],
   "source": [
    "#FileNotFoundError\n",
    "\n",
    "f2 = open(\"C:/Users/Vishal/Desktop/XYZ.txt\",\"r\")"
   ]
  },
  {
   "cell_type": "markdown",
   "id": "757b3828",
   "metadata": {},
   "source": [
    "# Write Mode ('w'):\n",
    "\n",
    "This mode is used for writing data to a file, and it will create a new file or overwrite an existing one.\n",
    "If the file does not exist, Python will create it. If it does exist, its previous content will be erased."
   ]
  },
  {
   "cell_type": "code",
   "execution_count": 14,
   "id": "0ae00406",
   "metadata": {},
   "outputs": [
    {
     "name": "stdout",
     "output_type": "stream",
     "text": [
      "Enter Your Text :This is write mode ... if file is not there it will create New one\n"
     ]
    }
   ],
   "source": [
    "f2 = open(\"C:/Users/Vishal/Desktop/EduTECHwrite.txt\",\"w\")\n",
    "\n",
    "txt = input(\"Enter Your Text :\")\n",
    "\n",
    "f2.write(txt)\n",
    "\n",
    "f2.close()"
   ]
  },
  {
   "cell_type": "code",
   "execution_count": 32,
   "id": "4e40c609",
   "metadata": {},
   "outputs": [
    {
     "ename": "ValueError",
     "evalue": "I/O operation on closed file.",
     "output_type": "error",
     "traceback": [
      "\u001b[1;31m---------------------------------------------------------------------------\u001b[0m",
      "\u001b[1;31mValueError\u001b[0m                                Traceback (most recent call last)",
      "Cell \u001b[1;32mIn[32], line 1\u001b[0m\n\u001b[1;32m----> 1\u001b[0m f2\u001b[38;5;241m.\u001b[39mread()\n",
      "\u001b[1;31mValueError\u001b[0m: I/O operation on closed file."
     ]
    }
   ],
   "source": [
    "f2.read()"
   ]
  },
  {
   "cell_type": "markdown",
   "id": "3001a857",
   "metadata": {},
   "source": [
    "# Append Mode ('a'):\n",
    "\n",
    "This mode is used for writing data to a file and is specifically designed for appending new content to an existing file.\n",
    "\n",
    "If the file already exists, the new data will be added at the end of the file without erasing the existing content.\n",
    "\n",
    "If the file does not exist, Python will create a new file."
   ]
  },
  {
   "cell_type": "code",
   "execution_count": 38,
   "id": "a603d8ab",
   "metadata": {},
   "outputs": [
    {
     "name": "stdout",
     "output_type": "stream",
     "text": [
      "Enter Your Text :Now we are adding 4th line.\n"
     ]
    }
   ],
   "source": [
    "f3 = open(\"C:/Users/Vishal/Desktop/info.txt\",\"a\")\n",
    "\n",
    "txt = input(\"Enter Your Text :\")\n",
    "\n",
    "txt = txt + \".\\n\"\n",
    "\n",
    "f3.write(txt)\n",
    "\n",
    "f3.close()"
   ]
  },
  {
   "cell_type": "markdown",
   "id": "bf20feb8",
   "metadata": {},
   "source": [
    "# Read and Write Mode ('r+'):\n",
    "\n",
    "This mode allows both reading and writing to a file.\n",
    "\n",
    "It opens the file for reading and writing, and it doesn't create a new file if it doesn't exist.\n",
    "\n",
    "If the file exists, you can read its contents and modify them."
   ]
  },
  {
   "cell_type": "code",
   "execution_count": null,
   "id": "d1dcd944",
   "metadata": {},
   "outputs": [],
   "source": []
  },
  {
   "cell_type": "markdown",
   "id": "3c1942ca",
   "metadata": {},
   "source": [
    "# Write and Read Mode ('w+'):\n",
    "\n",
    "This mode allows both reading and writing to a file.\n",
    "\n",
    "Similar to 'w', it opens the file for writing, and if the file doesn't exist, Python will create it.\n",
    "\n",
    "You can read its contents and modify them.\n",
    "\n",
    "Be cautious with this mode as it overwrites the file's contents if it exists."
   ]
  }
 ],
 "metadata": {
  "kernelspec": {
   "display_name": "Python 3 (ipykernel)",
   "language": "python",
   "name": "python3"
  },
  "language_info": {
   "codemirror_mode": {
    "name": "ipython",
    "version": 3
   },
   "file_extension": ".py",
   "mimetype": "text/x-python",
   "name": "python",
   "nbconvert_exporter": "python",
   "pygments_lexer": "ipython3",
   "version": "3.11.5"
  }
 },
 "nbformat": 4,
 "nbformat_minor": 5
}
