{
 "cells": [
  {
   "cell_type": "code",
   "execution_count": 1,
   "id": "ad1e785e",
   "metadata": {},
   "outputs": [
    {
     "name": "stdout",
     "output_type": "stream",
     "text": [
      "how many star you give 1 to 5 : 2\n",
      "Enter Your ReviewNot had Nice experice should work on Time management\n",
      "User Rating : **\n",
      "Not had Nice experice should work on Time management\n"
     ]
    }
   ],
   "source": [
    "user = int(input(\"how many star you give 1 to 5 : \"))\n",
    "review = input(\"Enter Your Review\")\n",
    "\n",
    "if user==1:\n",
    "    print('User Rating : *' )\n",
    "    print(review)\n",
    "elif user == 2:\n",
    "    print('User Rating : **')\n",
    "    print(review)\n",
    "elif user < 4 and user > 2:\n",
    "    print(' very good rating')\n",
    "elif user < 5 and user > 3:\n",
    "    print('hit rating')\n",
    "else :\n",
    "    print(\"Plz provide Valid Input\")"
   ]
  },
  {
   "cell_type": "code",
   "execution_count": null,
   "id": "ecb7f61b",
   "metadata": {},
   "outputs": [],
   "source": [
    "\"\"\"\n",
    "in c or java\n",
    "\n",
    "for (int i=1 ; i<=5 ; i++){\n",
    "\n",
    "}\n",
    "\n",
    "\"\"\""
   ]
  },
  {
   "cell_type": "markdown",
   "id": "8253131f",
   "metadata": {},
   "source": [
    "# Range Function"
   ]
  },
  {
   "cell_type": "code",
   "execution_count": 6,
   "id": "d663a91e",
   "metadata": {},
   "outputs": [
    {
     "name": "stdout",
     "output_type": "stream",
     "text": [
      "Using List :  [1, 2, 3, 4, 5, 6, 7, 8, 9, 10]\n",
      "Using Range Function :  [1, 2, 3, 4, 5, 6, 7, 8, 9, 10]\n"
     ]
    }
   ],
   "source": [
    "L1 = [1,2,3,4,5,6,7,8,9,10]\n",
    "\n",
    "print(\"Using List : \" , L1)\n",
    "\n",
    "L2 = list(range(1,11))\n",
    "\n",
    "print(\"Using Range Function : \" ,L2)"
   ]
  },
  {
   "cell_type": "code",
   "execution_count": 7,
   "id": "5dd604b8",
   "metadata": {},
   "outputs": [
    {
     "data": {
      "text/plain": [
       "[0, 1, 2, 3, 4, 5, 6, 7, 8, 9, 10, 11, 12, 13, 14]"
      ]
     },
     "execution_count": 7,
     "metadata": {},
     "output_type": "execute_result"
    }
   ],
   "source": [
    "l4 = list(range(15)) #range(start,end,step)\n",
    "\n",
    "l4"
   ]
  },
  {
   "cell_type": "code",
   "execution_count": 9,
   "id": "24aeebc2",
   "metadata": {},
   "outputs": [
    {
     "data": {
      "text/plain": [
       "[100, 101, 102, 103, 104, 105, 106, 107, 108, 109]"
      ]
     },
     "execution_count": 9,
     "metadata": {},
     "output_type": "execute_result"
    }
   ],
   "source": [
    "l5 = list(range(100,110))\n",
    "\n",
    "l5"
   ]
  },
  {
   "cell_type": "code",
   "execution_count": 11,
   "id": "aa969902",
   "metadata": {},
   "outputs": [
    {
     "data": {
      "text/plain": [
       "[1, 4, 7, 10, 13, 16, 19]"
      ]
     },
     "execution_count": 11,
     "metadata": {},
     "output_type": "execute_result"
    }
   ],
   "source": [
    "l6 = list(range(1,20,3))\n",
    "\n",
    "l6"
   ]
  },
  {
   "cell_type": "code",
   "execution_count": 14,
   "id": "45d42601",
   "metadata": {},
   "outputs": [
    {
     "data": {
      "text/plain": [
       "[10, 15, 20, 25, 30, 35, 40, 45]"
      ]
     },
     "execution_count": 14,
     "metadata": {},
     "output_type": "execute_result"
    }
   ],
   "source": [
    "l7 = list(range(10,50,5))\n",
    "\n",
    "l7"
   ]
  },
  {
   "cell_type": "code",
   "execution_count": null,
   "id": "16ca09ea",
   "metadata": {},
   "outputs": [],
   "source": [
    "\"\"\"\n",
    "in c or java\n",
    "\n",
    "for (int i=1 ; i<=5 ; i++){\n",
    "\n",
    "}\n",
    "\n",
    "\"\"\""
   ]
  },
  {
   "cell_type": "code",
   "execution_count": 15,
   "id": "2ca8fbcd",
   "metadata": {},
   "outputs": [
    {
     "name": "stdout",
     "output_type": "stream",
     "text": [
      "Hello All\n",
      "Hello All\n",
      "Hello All\n",
      "Hello All\n",
      "Hello All\n"
     ]
    }
   ],
   "source": [
    "for i in range(1,6):\n",
    "    print(\"Hello All\")"
   ]
  },
  {
   "cell_type": "code",
   "execution_count": 16,
   "id": "ac09ca36",
   "metadata": {},
   "outputs": [
    {
     "name": "stdout",
     "output_type": "stream",
     "text": [
      "1\n",
      "2\n",
      "3\n",
      "4\n",
      "5\n",
      "6\n",
      "7\n",
      "8\n",
      "9\n",
      "10\n"
     ]
    }
   ],
   "source": [
    "for i in range(1,11):\n",
    "    print(i)"
   ]
  },
  {
   "cell_type": "code",
   "execution_count": 19,
   "id": "cb3a625d",
   "metadata": {},
   "outputs": [
    {
     "name": "stdout",
     "output_type": "stream",
     "text": [
      "2\n",
      "4\n",
      "6\n",
      "8\n",
      "10\n",
      "12\n",
      "14\n",
      "16\n",
      "18\n",
      "20\n"
     ]
    }
   ],
   "source": [
    "#Table of 2 using for Loop\n",
    "\n",
    "for i in range(1,11):\n",
    "    print(i*2)"
   ]
  },
  {
   "cell_type": "code",
   "execution_count": 21,
   "id": "9846aaf7",
   "metadata": {},
   "outputs": [
    {
     "name": "stdout",
     "output_type": "stream",
     "text": [
      "Enter Number : 21\n",
      "21\n",
      "42\n",
      "63\n",
      "84\n",
      "105\n",
      "126\n",
      "147\n",
      "168\n",
      "189\n",
      "210\n"
     ]
    }
   ],
   "source": [
    "#Ask user for input & print table for user input\n",
    "\n",
    "num = int(input(\"Enter Number : \"))\n",
    "\n",
    "for i in range(1,11):\n",
    "    print(i*num)"
   ]
  },
  {
   "cell_type": "code",
   "execution_count": 23,
   "id": "caf1d242",
   "metadata": {},
   "outputs": [
    {
     "name": "stdout",
     "output_type": "stream",
     "text": [
      "['Ajay', 'Vishal', 'Govind', 'Ankita', 'Rajshree']\n",
      "Hello  Ajay\n",
      "Hello  Vishal\n",
      "Hello  Govind\n",
      "Hello  Ankita\n",
      "Hello  Rajshree\n"
     ]
    }
   ],
   "source": [
    "name = [\"Ajay\",\"Vishal\",\"Govind\",\"Ankita\",\"Rajshree\"]\n",
    "\n",
    "print(name)\n",
    "\n",
    "for i in name:\n",
    "    print(\"Hello \" , i)"
   ]
  },
  {
   "cell_type": "code",
   "execution_count": 24,
   "id": "e5b0db83",
   "metadata": {},
   "outputs": [
    {
     "name": "stdout",
     "output_type": "stream",
     "text": [
      "Hello  Ajay\n",
      "Hello  Vishal\n",
      "Hello  Govind\n",
      "Hello  Ankita\n",
      "Hello  Rajshree\n"
     ]
    }
   ],
   "source": [
    "name = [\"Ajay\",\"Vishal\",\"Govind\",\"Ankita\",\"Rajshree\"]\n",
    "\n",
    "i =0\n",
    "\n",
    "while i<=4:\n",
    "    print('Hello ' , name[i])\n",
    "    i+=1"
   ]
  },
  {
   "cell_type": "code",
   "execution_count": 25,
   "id": "8d85c534",
   "metadata": {},
   "outputs": [
    {
     "name": "stdout",
     "output_type": "stream",
     "text": [
      "Hello  Ajay\n",
      "Hello  Vishal\n",
      "Hello  Govind\n",
      "Hello  Ankita\n",
      "Hello  Rajshree\n"
     ]
    }
   ],
   "source": [
    "name = [\"Ajay\",\"Vishal\",\"Govind\",\"Ankita\",\"Rajshree\"]\n",
    "\n",
    "i =0\n",
    "\n",
    "while i<len(name):\n",
    "    print('Hello ' , name[i])\n",
    "    i+=1"
   ]
  },
  {
   "cell_type": "code",
   "execution_count": 30,
   "id": "ea811379",
   "metadata": {},
   "outputs": [
    {
     "name": "stdout",
     "output_type": "stream",
     "text": [
      "* * * \n",
      "* * * \n",
      "* * * \n"
     ]
    }
   ],
   "source": [
    "#Nested for Loop\n",
    "\n",
    "for i in range(1,4):\n",
    "    for j in range(1,4):\n",
    "        print(\"*\" , end = \" \")\n",
    "        \n",
    "    print()"
   ]
  },
  {
   "cell_type": "code",
   "execution_count": null,
   "id": "832cb48b",
   "metadata": {},
   "outputs": [],
   "source": [
    "\"\"\"\n",
    "\n",
    "1 1 1\n",
    "2 2 2\n",
    "3 3 3\n",
    "-----------\n",
    "\n",
    "1 2 3 \n",
    "1 2 3 \n",
    "1 2 3\n",
    "-----------\n",
    "\n",
    "*\n",
    "* * \n",
    "* * *\n",
    "----------------\n",
    "\n",
    "1\n",
    "1 2\n",
    "1 2 3\n",
    "----------------\n",
    "\n",
    "1\n",
    "2 2 \n",
    "3 3 3\n",
    "\n",
    "\n",
    "\n",
    "\n",
    "\n",
    "\n",
    "\"\"\""
   ]
  },
  {
   "cell_type": "code",
   "execution_count": 2,
   "id": "368152bc",
   "metadata": {},
   "outputs": [
    {
     "data": {
      "text/plain": [
       "[1, 2, 3, 4]"
      ]
     },
     "execution_count": 2,
     "metadata": {},
     "output_type": "execute_result"
    }
   ],
   "source": [
    "l1 = [1,2,3]\n",
    "\n",
    "l2 = list(range(1,5))\n",
    "\n",
    "l2"
   ]
  },
  {
   "cell_type": "code",
   "execution_count": 4,
   "id": "f7549eb4",
   "metadata": {},
   "outputs": [
    {
     "data": {
      "text/plain": [
       "[1, 3, 5, 7, 9, 11]"
      ]
     },
     "execution_count": 4,
     "metadata": {},
     "output_type": "execute_result"
    }
   ],
   "source": [
    "l3 =list(range(1,12,2))\n",
    "\n",
    "l3"
   ]
  },
  {
   "cell_type": "code",
   "execution_count": 6,
   "id": "6857d798",
   "metadata": {},
   "outputs": [
    {
     "name": "stdout",
     "output_type": "stream",
     "text": [
      "EduTECH\n",
      "EduTECH\n",
      "EduTECH\n"
     ]
    }
   ],
   "source": [
    "for i in range(1,6):\n",
    "    print(\"EduTECH\")"
   ]
  },
  {
   "cell_type": "code",
   "execution_count": 8,
   "id": "73236a5b",
   "metadata": {},
   "outputs": [
    {
     "name": "stdout",
     "output_type": "stream",
     "text": [
      "Welcome to EduTECH Vishal\n",
      "Welcome to EduTECH Ajinkya\n",
      "Welcome to EduTECH Ajay\n"
     ]
    }
   ],
   "source": [
    "name = [\"Vishal\",\"Ajinkya\",\"Ajay\"]\n",
    "\n",
    "for i in name:\n",
    "    print(\"Welcome to EduTECH\",i)"
   ]
  },
  {
   "cell_type": "code",
   "execution_count": 9,
   "id": "881f69f9",
   "metadata": {},
   "outputs": [
    {
     "name": "stdout",
     "output_type": "stream",
     "text": [
      "* * * \n",
      "* * * \n",
      "* * * \n"
     ]
    }
   ],
   "source": [
    "for i in range(1,4):\n",
    "    for j in range(1,4):\n",
    "        print(\"*\" , end=\" \")\n",
    "    print()"
   ]
  },
  {
   "cell_type": "code",
   "execution_count": 11,
   "id": "5ec1962e",
   "metadata": {},
   "outputs": [
    {
     "name": "stdout",
     "output_type": "stream",
     "text": [
      "1 2 3 \n",
      "1 2 3 \n",
      "1 2 3 \n"
     ]
    }
   ],
   "source": [
    "for i in range(1,4):\n",
    "    for j in range(1,4):\n",
    "        print(j , end=\" \")\n",
    "    print()"
   ]
  },
  {
   "cell_type": "code",
   "execution_count": null,
   "id": "3747c0d0",
   "metadata": {},
   "outputs": [],
   "source": [
    "r = 3\n",
    "\n",
    "for i in range(1,r+1):\n",
    "    for j in"
   ]
  }
 ],
 "metadata": {
  "kernelspec": {
   "display_name": "Python 3 (ipykernel)",
   "language": "python",
   "name": "python3"
  },
  "language_info": {
   "codemirror_mode": {
    "name": "ipython",
    "version": 3
   },
   "file_extension": ".py",
   "mimetype": "text/x-python",
   "name": "python",
   "nbconvert_exporter": "python",
   "pygments_lexer": "ipython3",
   "version": "3.11.5"
  }
 },
 "nbformat": 4,
 "nbformat_minor": 5
}
