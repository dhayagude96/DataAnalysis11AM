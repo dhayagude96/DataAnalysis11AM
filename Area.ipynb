{
 "cells": [
  {
   "cell_type": "code",
   "execution_count": null,
   "id": "ac7bc059",
   "metadata": {},
   "outputs": [],
   "source": [
    "def RecArea(l,w):\n",
    "    return l*w\n",
    "\n",
    "def CircArea(r):\n",
    "    return 3.14*r*r\n",
    "\n",
    "def SqArea(s):\n",
    "    return s*s\n",
    "\n",
    "def triArea(b,h):\n",
    "    return 0.5*b*h\n",
    "\n",
    "def OctArea(s):\n",
    "    return 4.8*s*s\n",
    "\n",
    "def HexaArea(s):\n",
    "    return 2.59*s*s\n",
    "\n"
   ]
  }
 ],
 "metadata": {
  "kernelspec": {
   "display_name": "Python 3 (ipykernel)",
   "language": "python",
   "name": "python3"
  },
  "language_info": {
   "codemirror_mode": {
    "name": "ipython",
    "version": 3
   },
   "file_extension": ".py",
   "mimetype": "text/x-python",
   "name": "python",
   "nbconvert_exporter": "python",
   "pygments_lexer": "ipython3",
   "version": "3.11.3"
  }
 },
 "nbformat": 4,
 "nbformat_minor": 5
}
