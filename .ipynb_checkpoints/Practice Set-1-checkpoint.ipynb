{
 "cells": [
  {
   "cell_type": "markdown",
   "id": "132a37f4",
   "metadata": {},
   "source": [
    "# Write a Program to Accept User Name & Password .... Print both value with Proper formating"
   ]
  },
  {
   "cell_type": "code",
   "execution_count": 1,
   "id": "b6fa0767",
   "metadata": {},
   "outputs": [
    {
     "name": "stdout",
     "output_type": "stream",
     "text": [
      "Enter Your User Name :Vishal\n",
      "Enter Your Password123456\n",
      "User Name is :  Vishal  Your Password is :  123456\n"
     ]
    }
   ],
   "source": [
    "#Without Function\n",
    "\n",
    "userName = input(\"Enter Your User Name :\")\n",
    "\n",
    "pwd = input(\"Enter Your Password\")\n",
    "\n",
    "print(\"User Name is : \" , userName ,\" Your Password is : \" , pwd)\n"
   ]
  },
  {
   "cell_type": "code",
   "execution_count": 2,
   "id": "b24dafad",
   "metadata": {},
   "outputs": [],
   "source": [
    "#With Function\n",
    "\n",
    "def userinfo(userName,pwd):\n",
    "    print(\"User Name is : \" , userName ,\" Your Password is : \" , pwd)\n",
    "    "
   ]
  },
  {
   "cell_type": "code",
   "execution_count": 3,
   "id": "580d83ae",
   "metadata": {},
   "outputs": [
    {
     "name": "stdout",
     "output_type": "stream",
     "text": [
      "User Name is :  Vishal  Your Password is :  123456\n"
     ]
    }
   ],
   "source": [
    "userinfo(\"Vishal\",123456)"
   ]
  },
  {
   "cell_type": "markdown",
   "id": "2e93c5fd",
   "metadata": {},
   "source": [
    "# 1.Write a program to do addition : take input from the user : No of Input 3"
   ]
  },
  {
   "cell_type": "code",
   "execution_count": 5,
   "id": "db4f7530",
   "metadata": {},
   "outputs": [
    {
     "name": "stdout",
     "output_type": "stream",
     "text": [
      "Enter 1st Number : 18\n",
      "Enter 2nd Number : 25\n",
      "Enter 3rd Number : 16\n",
      "Add of Three Number is :  59\n"
     ]
    }
   ],
   "source": [
    "#Without Function\n",
    "\n",
    "num1 = int(input(\"Enter 1st Number : \"))\n",
    "num2 = int(input(\"Enter 2nd Number : \"))\n",
    "num3 = int(input(\"Enter 3rd Number : \"))\n",
    "\n",
    "Sum = num1+num2+num3\n",
    "\n",
    "#print(\"Add of Three Number is : \" , Sum)\n",
    "\n",
    "print(\"Add of Three Number is : \" , num1+num2+num3)"
   ]
  },
  {
   "cell_type": "code",
   "execution_count": 6,
   "id": "6cbc3aaf",
   "metadata": {},
   "outputs": [],
   "source": [
    "#With Function\n",
    "\n",
    "def add(a,b,c):\n",
    "    return a+b+c\n"
   ]
  },
  {
   "cell_type": "code",
   "execution_count": 7,
   "id": "2396f61c",
   "metadata": {},
   "outputs": [
    {
     "name": "stdout",
     "output_type": "stream",
     "text": [
      "Add of Three Number :  59\n"
     ]
    }
   ],
   "source": [
    "print(\"Add of Three Number : \" , add(18,25,16))"
   ]
  },
  {
   "cell_type": "markdown",
   "id": "ca63721d",
   "metadata": {},
   "source": [
    "# 2.Write a program to calculate area of Rectangle : Take input from User"
   ]
  },
  {
   "cell_type": "code",
   "execution_count": 9,
   "id": "cf513b18",
   "metadata": {},
   "outputs": [
    {
     "name": "stdout",
     "output_type": "stream",
     "text": [
      "Enter Length : 14\n",
      "Enter Width : 10\n",
      "Area of Rec :  140\n"
     ]
    }
   ],
   "source": [
    "l = int(input(\"Enter Length : \"))\n",
    "w = int(input(\"Enter Width : \"))\n",
    "\n",
    "areaRec = l * w\n",
    "\n",
    "#print(\"Area of Rec : \" , areaRec)\n",
    "print(\"Area of Rec : \" , l*w)"
   ]
  },
  {
   "cell_type": "markdown",
   "id": "503b286d",
   "metadata": {},
   "source": [
    "# 3.Write a program to print wether enter number is odd or even : take input from user"
   ]
  },
  {
   "cell_type": "code",
   "execution_count": 14,
   "id": "b2ffe109",
   "metadata": {},
   "outputs": [
    {
     "name": "stdout",
     "output_type": "stream",
     "text": [
      "Enter Number : 2\n",
      "Enter Number is Even \n"
     ]
    }
   ],
   "source": [
    "#odd : 1,3,5,7,9.....\n",
    "#even : 2,4,6,8,10.....\n",
    "\n",
    "\n",
    "#without if-else\n",
    "\n",
    "num = int(input(\"Enter Number : \" ))\n",
    "\n",
    "#print(\"Enter Number is Even ? \" , num%2==0)\n",
    "\n",
    "#Using if-else \n",
    "\n",
    "if num%2==0:\n",
    "    print(\"Enter Number is Even \")\n",
    "else :\n",
    "    print(\"Number id odd\")"
   ]
  },
  {
   "cell_type": "markdown",
   "id": "b5c32263",
   "metadata": {},
   "source": [
    "# 4.Write a Program to check whether enter number is postive or negative"
   ]
  },
  {
   "cell_type": "code",
   "execution_count": 16,
   "id": "0bdff936",
   "metadata": {},
   "outputs": [
    {
     "name": "stdout",
     "output_type": "stream",
     "text": [
      "Enter Number -5\n",
      "Entered Number is Postive ?  False\n"
     ]
    }
   ],
   "source": [
    "num1 = int(input(\"Enter Number \"))\n",
    "\n",
    "print(\"Entered Number is Postive ? \" , num1>0)"
   ]
  },
  {
   "cell_type": "markdown",
   "id": "8cc8b2d8",
   "metadata": {},
   "source": [
    "# 5.Write a program to convert kilometer to miles"
   ]
  },
  {
   "cell_type": "code",
   "execution_count": 19,
   "id": "6f30e822",
   "metadata": {},
   "outputs": [
    {
     "name": "stdout",
     "output_type": "stream",
     "text": [
      "Enter Kilometers : 25\n",
      "25.0 kilometer to  15.534275000000001  Miles\n"
     ]
    }
   ],
   "source": [
    "kilometer = float(input(\"Enter Kilometers : \"))\n",
    "\n",
    "\n",
    "miles = kilometer * 0.621371\n",
    "\n",
    "print(kilometer ,\"kilometer to \", miles ,\" Miles\")"
   ]
  },
  {
   "cell_type": "markdown",
   "id": "d6222403",
   "metadata": {},
   "source": [
    "# 6.Write a program to Convert celsius into fehernheit"
   ]
  },
  {
   "cell_type": "code",
   "execution_count": 20,
   "id": "500b4060",
   "metadata": {},
   "outputs": [
    {
     "name": "stdout",
     "output_type": "stream",
     "text": [
      "Enter Degree in Celsius : 12\n",
      "12.0 Celsius into f is :  53.6\n"
     ]
    }
   ],
   "source": [
    "c = float(input(\"Enter Degree in Celsius : \" ))\n",
    "\n",
    "f = (c*1.8) + 32\n",
    "\n",
    "print(c , \"Celsius into f is : \" , f)"
   ]
  }
 ],
 "metadata": {
  "kernelspec": {
   "display_name": "Python 3 (ipykernel)",
   "language": "python",
   "name": "python3"
  },
  "language_info": {
   "codemirror_mode": {
    "name": "ipython",
    "version": 3
   },
   "file_extension": ".py",
   "mimetype": "text/x-python",
   "name": "python",
   "nbconvert_exporter": "python",
   "pygments_lexer": "ipython3",
   "version": "3.11.3"
  }
 },
 "nbformat": 4,
 "nbformat_minor": 5
}
