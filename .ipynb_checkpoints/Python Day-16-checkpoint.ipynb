{
 "cells": [
  {
   "cell_type": "markdown",
   "id": "f304e2e5",
   "metadata": {},
   "source": [
    "# what is constructor in python?\n",
    "\n",
    "In Python, a constructor is a special method that gets called when you create an instance (object) of a class. The constructor method is named __init__() (with double underscores before and after \"init\"). It is used to initialize the attributes (data members) of an object when it is created."
   ]
  },
  {
   "cell_type": "code",
   "execution_count": 1,
   "id": "565e3928",
   "metadata": {
    "scrolled": true
   },
   "outputs": [],
   "source": [
    "class fract :\n",
    "    \n",
    "    def __init__(self,n,d):\n",
    "        self.num = n\n",
    "        self.deo = d\n",
    "        \n",
    "    def __str__(self):\n",
    "        \n",
    "        return \"{}/{}\".format(self.num,self.deo)\n",
    "    \n",
    "    def __add__(self,other):\n",
    "        \n",
    "        temp_num = self.num * other.deo + self.deo * other.num\n",
    "        temp_deo = self.deo * other.deo\n",
    "        \n",
    "        return \"{}/{}\".format(temp_num,temp_deo)\n",
    "    \n",
    "    def __sub__(self,other):\n",
    "        \n",
    "        temp_num = self.num * other.deo - self.deo * other.num\n",
    "        temp_deo = self.deo * other.deo\n",
    "        \n",
    "        return \"{}/{}\".format(temp_num,temp_deo)\n",
    "    \n",
    "    def __mul__(self,other):\n",
    "        \n",
    "        temp_num = self.num * other.deo \n",
    "        temp_deo = self.deo * other.num\n",
    "        \n",
    "        return \"{}/{}\".format(temp_num,temp_deo)\n",
    "    \n",
    "    def __truediv__(self,other):\n",
    "        \n",
    "        temp_num = self.num / other.deo \n",
    "        temp_deo = self.deo / other.num\n",
    "        \n",
    "        return \"{}/{}\".format(temp_num,temp_deo)\n",
    "        \n",
    "        \n",
    "\n",
    "        "
   ]
  },
  {
   "cell_type": "code",
   "execution_count": 2,
   "id": "44640649",
   "metadata": {},
   "outputs": [
    {
     "name": "stdout",
     "output_type": "stream",
     "text": [
      "1/3\n",
      "9/9\n",
      "-3/9\n",
      "3/6\n"
     ]
    }
   ],
   "source": [
    "f1 = fract(1,3)\n",
    "\n",
    "print(f1)\n",
    "\n",
    "f2 = fract(2,3)\n",
    "\n",
    "print(f1 + f2)\n",
    "\n",
    "print(f1 - f2)\n",
    "\n",
    "print(f1*f2)"
   ]
  }
 ],
 "metadata": {
  "kernelspec": {
   "display_name": "Python 3 (ipykernel)",
   "language": "python",
   "name": "python3"
  },
  "language_info": {
   "codemirror_mode": {
    "name": "ipython",
    "version": 3
   },
   "file_extension": ".py",
   "mimetype": "text/x-python",
   "name": "python",
   "nbconvert_exporter": "python",
   "pygments_lexer": "ipython3",
   "version": "3.11.3"
  }
 },
 "nbformat": 4,
 "nbformat_minor": 5
}
