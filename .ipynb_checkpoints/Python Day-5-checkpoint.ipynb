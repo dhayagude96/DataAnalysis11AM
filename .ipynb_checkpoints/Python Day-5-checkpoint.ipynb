{
 "cells": [
  {
   "cell_type": "code",
   "execution_count": null,
   "id": "dd431eda",
   "metadata": {},
   "outputs": [],
   "source": [
    "\"\"\"\n",
    "\n",
    "Data Types :\n",
    "\n",
    "String/List/Tuple/Set/Dict\n",
    "\n",
    "String :-->\n",
    "\n",
    "1.Creating \n",
    "2.Accessing \n",
    "3.Adding Char\n",
    "4.Editing String\n",
    "5.Deleting String\n",
    "-----------------------------------------------------------\n",
    "6.Operators on String\n",
    "-----------------------------------------------------------\n",
    "7.String Function\n",
    "\n",
    "Common Function :  min/max/len/sorted\n",
    "\n",
    "capitalize/title/upper/lower/swapcase/count/find/index\n",
    "\n",
    "endswith & startswith\n",
    "\n",
    "Format : 4 option\n",
    "\n",
    "Split\n",
    "\n",
    "\n",
    "\"\"\""
   ]
  },
  {
   "cell_type": "markdown",
   "id": "2c4473c7",
   "metadata": {},
   "source": [
    "# 1.Creating "
   ]
  },
  {
   "cell_type": "code",
   "execution_count": 2,
   "id": "413483c2",
   "metadata": {},
   "outputs": [
    {
     "name": "stdout",
     "output_type": "stream",
     "text": [
      "Vishal Dhayagude\n",
      "EduTECH Warje\n",
      "EduTECH Warje\n"
     ]
    }
   ],
   "source": [
    "s1 = 'Vishal Dhayagude'\n",
    "s2 = \"EduTECH Warje\"\n",
    "s3 = \"\"\"Data Analysis\"\"\"\n",
    "\n",
    "print(s1,s2,s2 , sep = '\\n')"
   ]
  },
  {
   "cell_type": "markdown",
   "id": "6c36747f",
   "metadata": {},
   "source": [
    "# 2.Accessing "
   ]
  },
  {
   "cell_type": "code",
   "execution_count": 11,
   "id": "3b8c285a",
   "metadata": {},
   "outputs": [
    {
     "name": "stdout",
     "output_type": "stream",
     "text": [
      "At index 3 Char is :  h\n",
      "At index 1 Char is :  i\n",
      "\n",
      "At index -4 Char is :  s\n",
      "At index -6 Char is :  V\n",
      "t value :  t\n"
     ]
    }
   ],
   "source": [
    "\n",
    "\"\"\"\n",
    "String is a Collection of Char\n",
    "\n",
    "name = \"v  i  s  h  a  l\"\n",
    "Index   0  1  2  3  4  5 \n",
    "       -6 -5 -4 -3 -2 -1\n",
    "\n",
    "\n",
    "\"\"\"\n",
    "\n",
    "name = \"Vishal\"\n",
    "\n",
    "\n",
    "#Postive Indexing\n",
    "\n",
    "print(\"At index 3 Char is : \" , name[3])\n",
    "print(\"At index 1 Char is : \" , name[1])\n",
    "\n",
    "print()\n",
    "\n",
    "#Negative Indexing\n",
    "print(\"At index -4 Char is : \" , name[-4])\n",
    "print(\"At index -6 Char is : \" , name[-6])\n",
    "\n",
    "msg = \"Welcome to EduTECH World of EduCATION\"\n",
    "\n",
    "print(\"t value : \" , msg[8])\n",
    "\n"
   ]
  },
  {
   "cell_type": "code",
   "execution_count": 19,
   "id": "e015053e",
   "metadata": {},
   "outputs": [
    {
     "name": "stdout",
     "output_type": "stream",
     "text": [
      "Welcome\n",
      "EduCATION\n"
     ]
    }
   ],
   "source": [
    "#slicing\n",
    "\n",
    "msg = \"Welcome to EduTECH World of EduCATION \"\n",
    "\n",
    "print(msg[0:7])\n",
    "print(msg[-10:-1])"
   ]
  },
  {
   "cell_type": "code",
   "execution_count": 21,
   "id": "d595372c",
   "metadata": {},
   "outputs": [
    {
     "name": "stdout",
     "output_type": "stream",
     "text": [
      "Starting Wit\n"
     ]
    }
   ],
   "source": [
    "info = \"We are Starting With Data Analysis\"\n",
    "\n",
    "print(info[7:15])"
   ]
  },
  {
   "cell_type": "markdown",
   "id": "c2403487",
   "metadata": {},
   "source": [
    "# 3.Adding Char/4.Editing String/5.Deleting String"
   ]
  },
  {
   "cell_type": "code",
   "execution_count": 22,
   "id": "15168335",
   "metadata": {},
   "outputs": [
    {
     "ename": "TypeError",
     "evalue": "'str' object does not support item assignment",
     "output_type": "error",
     "traceback": [
      "\u001b[1;31m---------------------------------------------------------------------------\u001b[0m",
      "\u001b[1;31mTypeError\u001b[0m                                 Traceback (most recent call last)",
      "Cell \u001b[1;32mIn[22], line 3\u001b[0m\n\u001b[0;32m      1\u001b[0m name \u001b[38;5;241m=\u001b[39m \u001b[38;5;124m\"\u001b[39m\u001b[38;5;124mVishal\u001b[39m\u001b[38;5;124m\"\u001b[39m\n\u001b[1;32m----> 3\u001b[0m name[\u001b[38;5;241m0\u001b[39m] \u001b[38;5;241m=\u001b[39m \u001b[38;5;124m\"\u001b[39m\u001b[38;5;124mB\u001b[39m\u001b[38;5;124m\"\u001b[39m\n",
      "\u001b[1;31mTypeError\u001b[0m: 'str' object does not support item assignment"
     ]
    }
   ],
   "source": [
    "name = \"Vishal\"\n",
    "\n",
    "name[0] = \"B\" #str' object does not support item assignment\n",
    "\n",
    "#String & Tuple is a Immutable Data Type we cannot add/edit/del specific char\n"
   ]
  },
  {
   "cell_type": "code",
   "execution_count": 23,
   "id": "13cbe631",
   "metadata": {},
   "outputs": [
    {
     "ename": "TypeError",
     "evalue": "'str' object doesn't support item deletion",
     "output_type": "error",
     "traceback": [
      "\u001b[1;31m---------------------------------------------------------------------------\u001b[0m",
      "\u001b[1;31mTypeError\u001b[0m                                 Traceback (most recent call last)",
      "Cell \u001b[1;32mIn[23], line 3\u001b[0m\n\u001b[0;32m      1\u001b[0m msg \u001b[38;5;241m=\u001b[39m \u001b[38;5;124m\"\u001b[39m\u001b[38;5;124mHello Student\u001b[39m\u001b[38;5;124m\"\u001b[39m\n\u001b[1;32m----> 3\u001b[0m \u001b[38;5;28;01mdel\u001b[39;00m(msg[\u001b[38;5;241m0\u001b[39m])\n",
      "\u001b[1;31mTypeError\u001b[0m: 'str' object doesn't support item deletion"
     ]
    }
   ],
   "source": [
    "msg = \"Hello Student\"\n",
    "\n",
    "del(msg[0])"
   ]
  },
  {
   "cell_type": "code",
   "execution_count": 24,
   "id": "34a64e24",
   "metadata": {},
   "outputs": [
    {
     "ename": "NameError",
     "evalue": "name 'msg' is not defined",
     "output_type": "error",
     "traceback": [
      "\u001b[1;31m---------------------------------------------------------------------------\u001b[0m",
      "\u001b[1;31mNameError\u001b[0m                                 Traceback (most recent call last)",
      "Cell \u001b[1;32mIn[24], line 5\u001b[0m\n\u001b[0;32m      1\u001b[0m msg \u001b[38;5;241m=\u001b[39m \u001b[38;5;124m\"\u001b[39m\u001b[38;5;124mHello Student\u001b[39m\u001b[38;5;124m\"\u001b[39m\n\u001b[0;32m      3\u001b[0m \u001b[38;5;28;01mdel\u001b[39;00m(msg)\n\u001b[1;32m----> 5\u001b[0m \u001b[38;5;28mprint\u001b[39m(msg)\n",
      "\u001b[1;31mNameError\u001b[0m: name 'msg' is not defined"
     ]
    }
   ],
   "source": [
    "msg = \"Hello Student\"\n",
    "\n",
    "del(msg)\n",
    "\n",
    "print(msg)"
   ]
  },
  {
   "cell_type": "code",
   "execution_count": 25,
   "id": "accca409",
   "metadata": {},
   "outputs": [
    {
     "name": "stdout",
     "output_type": "stream",
     "text": [
      "Before Reassigmnet :  Vishal\n",
      "After Reassigmnet :  Bishal\n"
     ]
    }
   ],
   "source": [
    "name = \"Vishal\"\n",
    "\n",
    "print(\"Before Reassigmnet : \" , name)\n",
    "\n",
    "name = \"Bishal\"\n",
    "\n",
    "print(\"After Reassigmnet : \" , name)\n"
   ]
  },
  {
   "cell_type": "markdown",
   "id": "110c1e6b",
   "metadata": {},
   "source": [
    "# 6.Operators on String"
   ]
  },
  {
   "cell_type": "code",
   "execution_count": 31,
   "id": "8f50047b",
   "metadata": {},
   "outputs": [
    {
     "name": "stdout",
     "output_type": "stream",
     "text": [
      "Data  Analaysis\n",
      "Data Data Data \n"
     ]
    }
   ],
   "source": [
    "#Arithmatic : + & *\n",
    "\n",
    "msg1 = \"Data \"\n",
    "msg2 = \" Analaysis\"\n",
    "\n",
    "print(msg1+msg2)\n",
    "print(msg1*3)\n",
    "\n",
    "#print(msg1-msg2) #unsupported operand type(s) for -: 'str' and 'str'\n",
    "#print(msg1/msg2) #unsupported operand type(s) for /: 'str' and 'str'"
   ]
  },
  {
   "cell_type": "code",
   "execution_count": 35,
   "id": "c60086be",
   "metadata": {},
   "outputs": [
    {
     "name": "stdout",
     "output_type": "stream",
     "text": [
      "True\n"
     ]
    }
   ],
   "source": [
    "#Relational : <,>,<=,>=,==,!=\n",
    "\n",
    "city1 = \"pune\"\n",
    "city2 = \"mumbai\"\n",
    "\n",
    "print(city1>city2)\n",
    "\n"
   ]
  },
  {
   "cell_type": "code",
   "execution_count": 39,
   "id": "69389f01",
   "metadata": {},
   "outputs": [
    {
     "name": "stdout",
     "output_type": "stream",
     "text": [
      "Enter Your ID edutech\n",
      "Enter Password124649\n",
      "False\n"
     ]
    }
   ],
   "source": [
    "ID = \"edutech\"\n",
    "pwd = \"1234\"\n",
    "\n",
    "user_id = input(\"Enter Your ID \")\n",
    "user_pwd = input(\"Enter Password\")\n",
    "\n",
    "\n",
    "print(user_id == ID and user_pwd == pwd)\n"
   ]
  },
  {
   "cell_type": "code",
   "execution_count": 42,
   "id": "3bbed9c7",
   "metadata": {},
   "outputs": [
    {
     "name": "stdout",
     "output_type": "stream",
     "text": [
      "True\n",
      "True\n",
      "False\n"
     ]
    }
   ],
   "source": [
    "#Membesrhip Operator: in or Not in\n",
    "\n",
    "info = \"We are Starting With Data Analysis\"\n",
    "\n",
    "print(\"s\" in info)\n",
    "print(\"Data\" in info)\n",
    "print(\"Data\" not in info)"
   ]
  },
  {
   "cell_type": "code",
   "execution_count": 44,
   "id": "c7c96004",
   "metadata": {},
   "outputs": [
    {
     "name": "stdout",
     "output_type": "stream",
     "text": [
      "True\n",
      "1968749740720\n",
      "1968749740720\n"
     ]
    }
   ],
   "source": [
    "name = \"eudtech\"\n",
    "name1 = \"eudtech\"\n",
    "\n",
    "print(name is name1)\n",
    "print(id(name))\n",
    "print(id(name1))"
   ]
  },
  {
   "cell_type": "markdown",
   "id": "bc47c902",
   "metadata": {},
   "source": [
    "# 7.String Function\n",
    "\n",
    "Common Function :  min/max/len/sorted\n",
    "\n",
    "capitalize/title/upper/lower/swapcase/count/find/index\n",
    "\n",
    "endswith & startswith\n",
    "\n",
    "Format : 4 option\n",
    "\n",
    "Split\n",
    "\n",
    "\n",
    "\"\"\""
   ]
  },
  {
   "cell_type": "markdown",
   "id": "eab1a6f0",
   "metadata": {},
   "source": [
    "Common Function : min/max/len/sorted"
   ]
  },
  {
   "cell_type": "code",
   "execution_count": 10,
   "id": "7b99906c",
   "metadata": {},
   "outputs": [
    {
     "name": "stdout",
     "output_type": "stream",
     "text": [
      "Max Value :  y\n",
      "Min Value :  C\n",
      "Number of Char :  39\n",
      "['C', 'E', 'E', 'H', 'T', 'd', 'u']\n"
     ]
    }
   ],
   "source": [
    "msg = \"Started with String Functions in Python\"\n",
    "\n",
    "s2 = \"EduTECH\"\n",
    "\n",
    "print(\"Max Value : \" , max(msg))\n",
    "print(\"Min Value : \" , min(s2))\n",
    "print(\"Number of Char : \" , len(msg))\n",
    "print(sorted(s2) )"
   ]
  },
  {
   "cell_type": "markdown",
   "id": "ec3412af",
   "metadata": {},
   "source": [
    "# capitalize/title/upper/lower/swapcase/count/find/index"
   ]
  },
  {
   "cell_type": "code",
   "execution_count": 16,
   "id": "a33991e1",
   "metadata": {},
   "outputs": [
    {
     "name": "stdout",
     "output_type": "stream",
     "text": [
      "Enter Your NameVisHal DhAyAgude\n",
      "This is Using capitalize function :  Vishal dhayagude\n",
      "This is Using title function :  Vishal Dhayagude\n",
      "This is Using Upper case function :  VISHAL DHAYAGUDE\n",
      "This is Using Lower case function :  vishal dhayagude\n",
      "This is Using Swap case function :  vIShAL dHaYaGUDE\n"
     ]
    }
   ],
   "source": [
    "user_name = input(\"Enter Your Name\")\n",
    "\n",
    "print(\"This is Using capitalize function : \" , user_name.capitalize())\n",
    "\n",
    "print(\"This is Using title function : \" , user_name.title())\n",
    "\n",
    "print(\"This is Using Upper case function : \" , user_name.upper())\n",
    "\n",
    "print(\"This is Using Lower case function : \" , user_name.lower())\n",
    "\n",
    "print(\"This is Using Swap case function : \" , user_name.swapcase())\n"
   ]
  },
  {
   "cell_type": "code",
   "execution_count": 22,
   "id": "be7ccf7b",
   "metadata": {},
   "outputs": [
    {
     "name": "stdout",
     "output_type": "stream",
     "text": [
      "Python in msg :  1\n"
     ]
    }
   ],
   "source": [
    "#count :--> case senstive\n",
    "\n",
    "msg = \"Started with String Functions in Python\"\n",
    "\n",
    "print(\"Python in msg : \" , msg.count('Python'))"
   ]
  },
  {
   "cell_type": "code",
   "execution_count": 25,
   "id": "ffd161ff",
   "metadata": {},
   "outputs": [
    {
     "name": "stdout",
     "output_type": "stream",
     "text": [
      "Index Number of t in Msg using find function :  2\n",
      "Index Number of t in Msg using Index function :  2\n"
     ]
    }
   ],
   "source": [
    "#find/index\n",
    "\n",
    "msg = \"Started with String Functions in Python\"\n",
    "\n",
    "print(\"Index Number of t in Msg using find function : \" , msg.find('a'))\n",
    "print(\"Index Number of t in Msg using Index function : \" , msg.index('a'))"
   ]
  },
  {
   "cell_type": "code",
   "execution_count": 27,
   "id": "9377e6a2",
   "metadata": {},
   "outputs": [
    {
     "name": "stdout",
     "output_type": "stream",
     "text": [
      "Index Number of t in Msg using find function :  -1\n"
     ]
    },
    {
     "ename": "ValueError",
     "evalue": "substring not found",
     "output_type": "error",
     "traceback": [
      "\u001b[1;31m---------------------------------------------------------------------------\u001b[0m",
      "\u001b[1;31mValueError\u001b[0m                                Traceback (most recent call last)",
      "Cell \u001b[1;32mIn[27], line 2\u001b[0m\n\u001b[0;32m      1\u001b[0m \u001b[38;5;28mprint\u001b[39m(\u001b[38;5;124m\"\u001b[39m\u001b[38;5;124mIndex Number of t in Msg using find function : \u001b[39m\u001b[38;5;124m\"\u001b[39m , msg\u001b[38;5;241m.\u001b[39mfind(\u001b[38;5;124m'\u001b[39m\u001b[38;5;124mx\u001b[39m\u001b[38;5;124m'\u001b[39m))\n\u001b[1;32m----> 2\u001b[0m \u001b[38;5;28mprint\u001b[39m(\u001b[38;5;124m\"\u001b[39m\u001b[38;5;124mIndex Number of t in Msg using Index function : \u001b[39m\u001b[38;5;124m\"\u001b[39m , msg\u001b[38;5;241m.\u001b[39mindex(\u001b[38;5;124m'\u001b[39m\u001b[38;5;124mx\u001b[39m\u001b[38;5;124m'\u001b[39m))\n",
      "\u001b[1;31mValueError\u001b[0m: substring not found"
     ]
    }
   ],
   "source": [
    "print(\"Index Number of t in Msg using find function : \" , msg.find('x'))\n",
    "print(\"Index Number of t in Msg using Index function : \" , msg.index('x'))#ValueError: substring not found"
   ]
  },
  {
   "cell_type": "code",
   "execution_count": 32,
   "id": "1f9ff49b",
   "metadata": {},
   "outputs": [
    {
     "data": {
      "text/plain": [
       "'Hello Vishal what you want to learn ?  are you looking for Analysis'"
      ]
     },
     "execution_count": 32,
     "metadata": {},
     "output_type": "execute_result"
    }
   ],
   "source": [
    "#Format : 4 option\n",
    "\n",
    "#1st option\n",
    "\"Hello {} what you want to learn ?  are you looking for {}\".format(\"Vishal\" , \"Data Science\")\n",
    "\n",
    "#2nd option\n",
    "\"Hello {0} what you want to learn ?  are you looking for {1}\".format(\"Vishal\" , \"Data Science\")\n",
    "\n",
    "\n",
    "#3rd option\n",
    "\"Hello {n} what you want to learn ?  are you looking for {c3}\".format(n = \"Vishal\" , c1= \"Data Science\",c2=\"SAP\",c3=\"Analysis\")"
   ]
  },
  {
   "cell_type": "code",
   "execution_count": 34,
   "id": "5c855a6d",
   "metadata": {},
   "outputs": [
    {
     "name": "stdout",
     "output_type": "stream",
     "text": [
      "Enter Your Name Vishal\n",
      "Enter Your Course nameSAP MM\n",
      "Welcome to EduTECH Vishal are you looking for SAP MM ?\n"
     ]
    }
   ],
   "source": [
    "#4th Option\n",
    "name = input(\"Enter Your Name \")\n",
    "c_name = input(\"Enter Your Course name\")\n",
    "\n",
    "\n",
    "print(f\"Welcome to EduTECH {name} are you looking for {c_name} ?\" )"
   ]
  },
  {
   "cell_type": "code",
   "execution_count": 38,
   "id": "bc156c4d",
   "metadata": {},
   "outputs": [
    {
     "name": "stdout",
     "output_type": "stream",
     "text": [
      "Enter Your ID :Vishal@gmail.com\n",
      "User ID :  Vishal@gmail.com\n",
      "True\n",
      "True\n"
     ]
    }
   ],
   "source": [
    "#endswith & startswith\n",
    "\n",
    "user_id = input(\"Enter Your ID :\")\n",
    "\n",
    "print(\"User ID : \" , user_id)\n",
    "print(user_id.endswith(\"@gmail.com\"))\n",
    "print(user_id.startswith(\"Vishal\"))"
   ]
  },
  {
   "cell_type": "code",
   "execution_count": 43,
   "id": "462f2f0a",
   "metadata": {},
   "outputs": [
    {
     "data": {
      "text/plain": [
       "['EduTECH warje ', ' are looking for ']"
      ]
     },
     "execution_count": 43,
     "metadata": {},
     "output_type": "execute_result"
    }
   ],
   "source": [
    "#split\n",
    "\n",
    "s1 = \"EduTECH warje We are looking for \"\n",
    "\n",
    "s1.split('We')"
   ]
  }
 ],
 "metadata": {
  "kernelspec": {
   "display_name": "Python 3 (ipykernel)",
   "language": "python",
   "name": "python3"
  },
  "language_info": {
   "codemirror_mode": {
    "name": "ipython",
    "version": 3
   },
   "file_extension": ".py",
   "mimetype": "text/x-python",
   "name": "python",
   "nbconvert_exporter": "python",
   "pygments_lexer": "ipython3",
   "version": "3.11.3"
  }
 },
 "nbformat": 4,
 "nbformat_minor": 5
}
