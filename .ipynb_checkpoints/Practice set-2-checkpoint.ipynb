{
 "cells": [
  {
   "cell_type": "markdown",
   "id": "ad41cdc7",
   "metadata": {},
   "source": [
    "# Write a program that takes a student's score as input and calculates their grade. Use the following grading system:\n",
    "\n",
    "90-100: A\n",
    "\n",
    "80-89: B\n",
    "\n",
    "70-79: C\n",
    "\n",
    "60-69: D\n",
    "\n",
    "0-59: F"
   ]
  },
  {
   "cell_type": "code",
   "execution_count": null,
   "id": "232939d1",
   "metadata": {},
   "outputs": [],
   "source": []
  },
  {
   "cell_type": "markdown",
   "id": "d803c90e",
   "metadata": {},
   "source": [
    "# Write a Python program to calculate simple interest. Ask the user for the principal amount, the rate of interest, and the time period. Calculate and display the simple interest."
   ]
  },
  {
   "cell_type": "code",
   "execution_count": null,
   "id": "c86a0621",
   "metadata": {},
   "outputs": [],
   "source": []
  },
  {
   "cell_type": "markdown",
   "id": "bfd15103",
   "metadata": {},
   "source": [
    "# Create a Python program to calculate the Body Mass Index (BMI) of a person. Ask the user for their weight in kilograms and height in meters. Calculate and display their BMI."
   ]
  },
  {
   "cell_type": "code",
   "execution_count": null,
   "id": "ba5948c1",
   "metadata": {},
   "outputs": [],
   "source": []
  },
  {
   "cell_type": "markdown",
   "id": "3789f5a6",
   "metadata": {},
   "source": [
    "# Create a program that takes a person's age as input and classifies them into different age groups. The program should consider the following age categories:\n",
    "\n",
    "0-12: Child\n",
    "    \n",
    "13-19: Teenager\n",
    "    \n",
    "20-64: Adult\n",
    "    \n",
    "65 and above: Senior Citizen"
   ]
  },
  {
   "cell_type": "code",
   "execution_count": null,
   "id": "69c7a099",
   "metadata": {},
   "outputs": [],
   "source": []
  },
  {
   "cell_type": "markdown",
   "id": "5357b396",
   "metadata": {},
   "source": [
    "# Create a Python program to calculate the final price of an item with a discount. Ask the user for the original price and the discount percentage. Calculate and display the final price."
   ]
  },
  {
   "cell_type": "code",
   "execution_count": null,
   "id": "eeadbcd8",
   "metadata": {},
   "outputs": [],
   "source": []
  },
  {
   "cell_type": "markdown",
   "id": "0964c29a",
   "metadata": {},
   "source": [
    "# Write a Python program that checks if a year is a leap year or not. Ask the user for a year and display whether it's a leap year or not."
   ]
  },
  {
   "cell_type": "code",
   "execution_count": null,
   "id": "76ebc83d",
   "metadata": {},
   "outputs": [],
   "source": []
  },
  {
   "cell_type": "markdown",
   "id": "badfba77",
   "metadata": {},
   "source": [
    "# Write a Python program that compares two numbers and determines which one is greater or if they are equal. Ask the user for two numbers and display the result."
   ]
  },
  {
   "cell_type": "code",
   "execution_count": null,
   "id": "68ee65f2",
   "metadata": {},
   "outputs": [],
   "source": []
  },
  {
   "cell_type": "markdown",
   "id": "69c61c37",
   "metadata": {},
   "source": [
    "# Write a Python program that checks if the given sides can form a valid triangle. Ask the user for the lengths of three sides and determine if they can create a triangle based on the triangle inequality theorem."
   ]
  }
 ],
 "metadata": {
  "kernelspec": {
   "display_name": "Python 3 (ipykernel)",
   "language": "python",
   "name": "python3"
  },
  "language_info": {
   "codemirror_mode": {
    "name": "ipython",
    "version": 3
   },
   "file_extension": ".py",
   "mimetype": "text/x-python",
   "name": "python",
   "nbconvert_exporter": "python",
   "pygments_lexer": "ipython3",
   "version": "3.11.3"
  }
 },
 "nbformat": 4,
 "nbformat_minor": 5
}
