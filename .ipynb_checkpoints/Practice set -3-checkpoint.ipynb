{
 "cells": [
  {
   "cell_type": "markdown",
   "id": "904508e7",
   "metadata": {},
   "source": [
    "# Write Program to Swap Two Values"
   ]
  },
  {
   "cell_type": "markdown",
   "id": "7062c93b",
   "metadata": {},
   "source": [
    "# write a program to caculate count of repetation in list "
   ]
  },
  {
   "cell_type": "markdown",
   "id": "2e8131e1",
   "metadata": {},
   "source": [
    "# Write Program to Check wether enter Number is Prime or Not"
   ]
  },
  {
   "cell_type": "markdown",
   "id": "ad58cfa8",
   "metadata": {},
   "source": [
    "# Write a program to check number is armstrong number or not "
   ]
  }
 ],
 "metadata": {
  "kernelspec": {
   "display_name": "Python 3 (ipykernel)",
   "language": "python",
   "name": "python3"
  },
  "language_info": {
   "codemirror_mode": {
    "name": "ipython",
    "version": 3
   },
   "file_extension": ".py",
   "mimetype": "text/x-python",
   "name": "python",
   "nbconvert_exporter": "python",
   "pygments_lexer": "ipython3",
   "version": "3.11.3"
  }
 },
 "nbformat": 4,
 "nbformat_minor": 5
}
