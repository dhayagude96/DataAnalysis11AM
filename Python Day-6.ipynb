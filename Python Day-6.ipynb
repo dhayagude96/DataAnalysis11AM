{
 "cells": [
  {
   "cell_type": "markdown",
   "id": "5704ef11",
   "metadata": {},
   "source": [
    "# List\n",
    "\n",
    "1. List Vs Array\n",
    "2. Create\n",
    "3. Access\n",
    "------------------------------\n",
    "4. Edit\n",
    "5. Add :--> Add (append , extend , insert)\n",
    "6. Delete :-->  Delete (clear , pop , remove)\n",
    "------------------------------\n",
    "7. operations\n",
    "------------------------------\n",
    "8. Functions:--> len,min,max,sorted\n",
    "\n"
   ]
  },
  {
   "cell_type": "code",
   "execution_count": null,
   "id": "46298748",
   "metadata": {},
   "outputs": [],
   "source": [
    "#1. List Vs Array\n",
    "\n",
    "\"\"\"\n",
    "s1 = \"Vishal\"\n",
    "s2 =\"Ajay\"\n",
    "s3 = \"Shital\"\n",
    "\n",
    "Array\n",
    "\n",
    "s_name = [\"Vishal\",\"Ajay\",\"Shital\"]\n",
    "              0       1       2\n",
    "            \n",
    "List Vs Array\n",
    "\n",
    "1.Array are Homogeouns Data Type \n",
    "2.List are Hetrogeouns Data Type\n",
    "3.Array take less memory comapre to List\n",
    "4.List are more programable then Array\n",
    "\n",
    "\n",
    "\n",
    "\n",
    "\"\"\""
   ]
  },
  {
   "cell_type": "code",
   "execution_count": 4,
   "id": "63eb6e2f",
   "metadata": {},
   "outputs": [
    {
     "name": "stdout",
     "output_type": "stream",
     "text": [
      "Empty List :  []\n",
      "Homogeouns List :  [25, 23, 28, 19, 22, 20, 19, 25]\n",
      "Hetrogeouns List :  ['Vishal', 101, 84.56, 'Pune']\n",
      "Multi-D List :  [1, 2, 3, [4, 5]]\n"
     ]
    }
   ],
   "source": [
    "#Create\n",
    "\n",
    "l1 = []\n",
    "\n",
    "print(\"Empty List : \" , l1)\n",
    "\n",
    "#Homogeouns List\n",
    "\n",
    "l2 = [25,23,28,19,22,20,19,25]\n",
    "\n",
    "print(\"Homogeouns List : \" , l2)\n",
    "\n",
    "#Hetrogeouns List\n",
    "\n",
    "l3 = [\"Vishal\" , 101 , 84.56 , \"Pune\"]\n",
    "\n",
    "print(\"Hetrogeouns List : \" , l3)\n",
    "\n",
    "#Mult-D list \n",
    "\n",
    "l4 = [1,2,3,[4,5]]\n",
    "print(\"Multi-D List : \" , l4)"
   ]
  },
  {
   "cell_type": "code",
   "execution_count": 8,
   "id": "6ba9c36b",
   "metadata": {},
   "outputs": [
    {
     "name": "stdout",
     "output_type": "stream",
     "text": [
      "Vishal Marks in math :  23\n",
      "Studnet name is :  Vishal  Marks are : 84.56\n",
      "4\n"
     ]
    }
   ],
   "source": [
    "#Access\n",
    "\n",
    "l2 = [25,23,28,19,22,20,19,25]\n",
    "\n",
    "print(\"Vishal Marks in math : \" , l2[1])\n",
    "\n",
    "l3 = [\"Vishal\" , 101 , 84.56 , \"Pune\"]\n",
    "\n",
    "print(\"Studnet name is : \" , l3[0] , \" Marks are :\" , l3[-2])\n",
    "\n",
    "l4 = [1, 2, 3, [4 , 5]]\n",
    "#     0  1  2     3\n",
    "#               0   1\n",
    "\n",
    "\n",
    "print(l4[3][-2])\n"
   ]
  },
  {
   "cell_type": "markdown",
   "id": "640c5851",
   "metadata": {},
   "source": [
    "Edit\n",
    "\n",
    "Add :--> Add (append , extend , insert)\n",
    "    \n",
    "Delete :--> Delete (clear , pop , remove)"
   ]
  },
  {
   "cell_type": "code",
   "execution_count": 10,
   "id": "33652ce6",
   "metadata": {},
   "outputs": [
    {
     "name": "stdout",
     "output_type": "stream",
     "text": [
      "['Ajay', 101, 84.56, 'Pune']\n",
      "['Shital', 105, 74.58, 'Pune']\n"
     ]
    }
   ],
   "source": [
    "l3 = [\"Vishal\" , 101 , 84.56 , \"Pune\"]\n",
    "\n",
    "l3[0] = \"Ajay\"\n",
    "\n",
    "print(l3)\n",
    "\n",
    "l3[0:3] = [\"Shital\",105,74.58]\n",
    "\n",
    "print(l3)"
   ]
  },
  {
   "cell_type": "code",
   "execution_count": 14,
   "id": "5812d8a5",
   "metadata": {},
   "outputs": [
    {
     "name": "stdout",
     "output_type": "stream",
     "text": [
      "['Ajay', 'Vishal', 'Gaurav']\n",
      "['Ajay', 'Vishal', 'Gaurav', 'Shital', 'Pooja', 'Shushant']\n",
      "['Nishant', 'Ajay', 'Vishal', 'Gaurav', 'Shital', 'Pooja', 'Shushant']\n"
     ]
    }
   ],
   "source": [
    "#add\n",
    "\n",
    "l5 = [\"Ajay\",\"Vishal\"]\n",
    "\n",
    "l5.append(\"Gaurav\")\n",
    "\n",
    "print(l5)\n",
    "\n",
    "l5.extend([\"Shital\",\"Pooja\",\"Shushant\"])\n",
    "print(l5)\n",
    "\n",
    "l5.insert(0,\"Nishant\")\n",
    "\n",
    "print(l5)"
   ]
  },
  {
   "cell_type": "code",
   "execution_count": 20,
   "id": "ec32bebc",
   "metadata": {},
   "outputs": [
    {
     "data": {
      "text/plain": [
       "[]"
      ]
     },
     "execution_count": 20,
     "metadata": {},
     "output_type": "execute_result"
    }
   ],
   "source": [
    "#Delete :--> Delete (clear , pop , remove)\n",
    "#l5.pop()\n",
    "\n",
    "#l5.remove('Vishal')\n",
    "\n",
    "l5.clear()\n",
    "\n",
    "l5"
   ]
  },
  {
   "cell_type": "markdown",
   "id": "7b880bbb",
   "metadata": {},
   "source": [
    "# 7. operations"
   ]
  },
  {
   "cell_type": "code",
   "execution_count": 7,
   "id": "219d4c53",
   "metadata": {},
   "outputs": [
    {
     "name": "stdout",
     "output_type": "stream",
     "text": [
      "[1, 2, 3, 1, 2, 3]\n",
      "[1, 2, 3, 1, 2, 3, 1, 2, 3]\n",
      "False\n",
      "True\n",
      "True\n"
     ]
    }
   ],
   "source": [
    "#Arithmatic : + & *\n",
    "\n",
    "L1 = [1,2,3]\n",
    "L2 = [1,2,3]\n",
    "\n",
    "print(L1+L2)\n",
    "print(L1 * 3)\n",
    "\n",
    "#Relational : <,>,<=,>=,==,!=\n",
    "\n",
    "print(L1>L2)\n",
    "print(L1==L2)\n",
    "\n",
    "#Membership : in & not in\n",
    "\n",
    "print(1 in L1)"
   ]
  },
  {
   "cell_type": "markdown",
   "id": "0900393c",
   "metadata": {},
   "source": [
    "# 8. Functions:--> len,min,max,sorted"
   ]
  },
  {
   "cell_type": "code",
   "execution_count": 13,
   "id": "c5372855",
   "metadata": {},
   "outputs": [
    {
     "name": "stdout",
     "output_type": "stream",
     "text": [
      "Len of L1 is :  11\n",
      "Max of L1 is :  82\n",
      "Min of L1 is :  10\n",
      "Assending order :  [10, 11, 12, 14, 17, 19, 23, 25, 26, 32, 82]\n",
      "Dessending order :  [82, 32, 26, 25, 23, 19, 17, 14, 12, 11, 10]\n"
     ]
    }
   ],
   "source": [
    "L1 = [25,11,23,14,17,82,19,26,32,10,12]\n",
    "\n",
    "print(\"Len of L1 is : \" , len(L1))\n",
    "print(\"Max of L1 is : \" , max(L1))\n",
    "print(\"Min of L1 is : \" , min(L1))\n",
    "print(\"Assending order : \" , sorted(L1))\n",
    "print(\"Dessending order : \" , sorted(L1 , reverse = True))"
   ]
  },
  {
   "cell_type": "code",
   "execution_count": 16,
   "id": "a6774218",
   "metadata": {},
   "outputs": [
    {
     "data": {
      "text/plain": [
       "[10, 11, 12, 14, 17, 19, 23, 25, 26, 32, 82]"
      ]
     },
     "execution_count": 16,
     "metadata": {},
     "output_type": "execute_result"
    }
   ],
   "source": [
    "L2 = sorted(L1)\n",
    "\n",
    "L2"
   ]
  }
 ],
 "metadata": {
  "kernelspec": {
   "display_name": "Python 3 (ipykernel)",
   "language": "python",
   "name": "python3"
  },
  "language_info": {
   "codemirror_mode": {
    "name": "ipython",
    "version": 3
   },
   "file_extension": ".py",
   "mimetype": "text/x-python",
   "name": "python",
   "nbconvert_exporter": "python",
   "pygments_lexer": "ipython3",
   "version": "3.11.3"
  }
 },
 "nbformat": 4,
 "nbformat_minor": 5
}
