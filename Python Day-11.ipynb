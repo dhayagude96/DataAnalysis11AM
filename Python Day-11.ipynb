{
 "cells": [
  {
   "cell_type": "code",
   "execution_count": null,
   "id": "43189065",
   "metadata": {},
   "outputs": [],
   "source": [
    "\"\"\"\n",
    "Functions:---->\n",
    "\n",
    "1.Types of Functions\n",
    "2.Creating Function\n",
    "\n",
    "a)Without parameter\n",
    "b)With Parameter\n",
    "c)with return keyword\n",
    "\n",
    "3.Docstrings\n",
    "\n",
    "4.Function Arguments\n",
    "\n",
    "a)Positional arguments\n",
    "b)keyword arguments\n",
    "c)Default arguments\n",
    "d)Variable-length arguments\n",
    "\n",
    "\n",
    "\"\"\""
   ]
  },
  {
   "cell_type": "markdown",
   "id": "a76e6e28",
   "metadata": {},
   "source": [
    "# 1.Types of Functions\n",
    "\n",
    "1.Build in : Len()/max()/count()\n",
    "\n",
    "2.User Define : def "
   ]
  },
  {
   "cell_type": "markdown",
   "id": "91c95274",
   "metadata": {},
   "source": [
    "# 2.Creating Function"
   ]
  },
  {
   "cell_type": "code",
   "execution_count": 7,
   "id": "8f729fe7",
   "metadata": {},
   "outputs": [],
   "source": [
    "def add():\n",
    "    a = 25\n",
    "    b = 10\n",
    "    print(\"add of a + b is : \" , a+b)"
   ]
  },
  {
   "cell_type": "code",
   "execution_count": 8,
   "id": "954c7840",
   "metadata": {},
   "outputs": [
    {
     "name": "stdout",
     "output_type": "stream",
     "text": [
      "add of a + b is :  35\n"
     ]
    }
   ],
   "source": [
    "add()"
   ]
  },
  {
   "cell_type": "code",
   "execution_count": 9,
   "id": "9c5ccbaa",
   "metadata": {},
   "outputs": [],
   "source": [
    "def add(a,b):\n",
    "    print(\"add of a + b is : \" , a+b)"
   ]
  },
  {
   "cell_type": "code",
   "execution_count": 10,
   "id": "9ffd0d83",
   "metadata": {},
   "outputs": [
    {
     "name": "stdout",
     "output_type": "stream",
     "text": [
      "add of a + b is :  35\n"
     ]
    }
   ],
   "source": [
    "add(25,10)"
   ]
  },
  {
   "cell_type": "markdown",
   "id": "5158f770",
   "metadata": {},
   "source": [
    "a)Without parameter\n",
    "\n",
    "b)With Parameter\n",
    "\n",
    "c)with return keyword"
   ]
  },
  {
   "cell_type": "code",
   "execution_count": 11,
   "id": "c070eb21",
   "metadata": {},
   "outputs": [],
   "source": [
    "#diff btw Parameter & Argu\n",
    "\n",
    "#Without parameter / Zero parameter Function\n",
    "\n",
    "def intro():\n",
    "    #This is Zero parameter Function\n",
    "    print(\"Hello Vishal Welcome to EduTECH\")"
   ]
  },
  {
   "cell_type": "code",
   "execution_count": 12,
   "id": "07a6137e",
   "metadata": {},
   "outputs": [
    {
     "name": "stdout",
     "output_type": "stream",
     "text": [
      "Hello Vishal Welcome to EduTECH\n"
     ]
    }
   ],
   "source": [
    "intro()"
   ]
  },
  {
   "cell_type": "code",
   "execution_count": 13,
   "id": "82fb6060",
   "metadata": {},
   "outputs": [],
   "source": [
    "#With Parameter\n",
    "\n",
    "def intro2(name):\n",
    "    #name = parameter\n",
    "    #This is one Parameter Function\n",
    "    print(f\"Hello {name} welcome to EduTECH\")"
   ]
  },
  {
   "cell_type": "code",
   "execution_count": 14,
   "id": "160937a8",
   "metadata": {},
   "outputs": [
    {
     "name": "stdout",
     "output_type": "stream",
     "text": [
      "Hello Ajay welcome to EduTECH\n"
     ]
    }
   ],
   "source": [
    "intro2(\"Ajay\") #Ajay = Argument"
   ]
  },
  {
   "cell_type": "code",
   "execution_count": 15,
   "id": "911330ef",
   "metadata": {},
   "outputs": [],
   "source": [
    "def intro3(name , c_name):\n",
    "    print(f\"hello {name} are you looking for {c_name} ?\")"
   ]
  },
  {
   "cell_type": "code",
   "execution_count": 16,
   "id": "e0375a61",
   "metadata": {},
   "outputs": [
    {
     "name": "stdout",
     "output_type": "stream",
     "text": [
      "hello Ajinkya are you looking for Data Analysis ?\n"
     ]
    }
   ],
   "source": [
    "intro3(\"Ajinkya\",\"Data Analysis\") #Two parameter Function"
   ]
  },
  {
   "cell_type": "markdown",
   "id": "fb25f808",
   "metadata": {},
   "source": [
    "with return keyword"
   ]
  },
  {
   "cell_type": "code",
   "execution_count": 17,
   "id": "f1376cdb",
   "metadata": {},
   "outputs": [],
   "source": [
    "def intro4(name):\n",
    "    view = print(f\"Student Name : {name}\")\n",
    "    return view"
   ]
  },
  {
   "cell_type": "code",
   "execution_count": 18,
   "id": "158c422c",
   "metadata": {},
   "outputs": [
    {
     "name": "stdout",
     "output_type": "stream",
     "text": [
      "Student Name : Ajay\n"
     ]
    }
   ],
   "source": [
    "intro4(\"Ajay\")"
   ]
  },
  {
   "cell_type": "code",
   "execution_count": 19,
   "id": "32a76ab4",
   "metadata": {},
   "outputs": [],
   "source": [
    "def add(a,b):\n",
    "    return a+b"
   ]
  },
  {
   "cell_type": "code",
   "execution_count": 20,
   "id": "f315e5d7",
   "metadata": {},
   "outputs": [
    {
     "name": "stdout",
     "output_type": "stream",
     "text": [
      "I'm adding Two value :  35\n"
     ]
    }
   ],
   "source": [
    "print(\"I'm adding Two value : \" , add(10,25))"
   ]
  },
  {
   "cell_type": "code",
   "execution_count": 5,
   "id": "c506e1c4",
   "metadata": {},
   "outputs": [
    {
     "name": "stdout",
     "output_type": "stream",
     "text": [
      "enter a number : 153\n",
      "153 is an Armstrong number\n"
     ]
    }
   ],
   "source": [
    "num = int(input(\"enter a number : \")) \n",
    "\n",
    "\n",
    "power = len(str(num))\n",
    "sum = 0 \n",
    "temp= num \n",
    "\n",
    "while temp > 0:\n",
    "    digit = temp % 10  \n",
    "    sum  += digit  ** power    \n",
    "    temp = temp // 10 \n",
    "    \n",
    "if num == sum:\n",
    "    print(num,\"is an Armstrong number\")\n",
    "else :\n",
    "    print(num,\"Is not Armstrong number\")\n"
   ]
  },
  {
   "cell_type": "markdown",
   "id": "4712ac62",
   "metadata": {},
   "source": [
    "# 4.Function Arguments\n",
    "\n",
    "a)Positional arguments\n",
    "\n",
    "b)keyword arguments\n",
    "\n",
    "c)Default arguments\n",
    "\n",
    "d)Variable-length arguments"
   ]
  },
  {
   "cell_type": "code",
   "execution_count": 21,
   "id": "50256467",
   "metadata": {},
   "outputs": [],
   "source": [
    "#Positional arguments\n",
    "\n",
    "def display(name,s_name):\n",
    "    print(\"Name is : \" , name)\n",
    "    print(\"Surname is : \" , s_name)"
   ]
  },
  {
   "cell_type": "code",
   "execution_count": 22,
   "id": "2e80da1e",
   "metadata": {},
   "outputs": [
    {
     "name": "stdout",
     "output_type": "stream",
     "text": [
      "Name is :  Vishal\n",
      "Surname is :  Dhayagude\n"
     ]
    }
   ],
   "source": [
    "display(\"Vishal\",\"Dhayagude\")"
   ]
  },
  {
   "cell_type": "code",
   "execution_count": 28,
   "id": "80ede44d",
   "metadata": {},
   "outputs": [
    {
     "name": "stdout",
     "output_type": "stream",
     "text": [
      "Name is :  Dhayagude\n",
      "Surname is :  Vishal\n"
     ]
    },
    {
     "ename": "TypeError",
     "evalue": "display() missing 1 required positional argument: 's_name'",
     "output_type": "error",
     "traceback": [
      "\u001b[1;31m---------------------------------------------------------------------------\u001b[0m",
      "\u001b[1;31mTypeError\u001b[0m                                 Traceback (most recent call last)",
      "Cell \u001b[1;32mIn[28], line 2\u001b[0m\n\u001b[0;32m      1\u001b[0m display(\u001b[38;5;124m\"\u001b[39m\u001b[38;5;124mDhayagude\u001b[39m\u001b[38;5;124m\"\u001b[39m,\u001b[38;5;124m\"\u001b[39m\u001b[38;5;124mVishal\u001b[39m\u001b[38;5;124m\"\u001b[39m)\n\u001b[1;32m----> 2\u001b[0m display(\u001b[38;5;124m\"\u001b[39m\u001b[38;5;124mDhayagude\u001b[39m\u001b[38;5;124m\"\u001b[39m)\n",
      "\u001b[1;31mTypeError\u001b[0m: display() missing 1 required positional argument: 's_name'"
     ]
    }
   ],
   "source": [
    "display(\"Dhayagude\",\"Vishal\")\n",
    "display(\"Dhayagude\")\n"
   ]
  },
  {
   "cell_type": "code",
   "execution_count": 24,
   "id": "12c92728",
   "metadata": {},
   "outputs": [
    {
     "name": "stdout",
     "output_type": "stream",
     "text": [
      "Name is :  Vishal\n",
      "Surname is :  Dhayagude\n"
     ]
    }
   ],
   "source": [
    "#keyword arguments\n",
    "\n",
    "display(s_name=\"Dhayagude\",name=\"Vishal\")"
   ]
  },
  {
   "cell_type": "code",
   "execution_count": 25,
   "id": "c3d45433",
   "metadata": {},
   "outputs": [],
   "source": [
    "#Default arguments\n",
    "\n",
    "def show(name,city=\"pune\"):\n",
    "    print(f\"Student name is {name} & he/she is from {city}\")"
   ]
  },
  {
   "cell_type": "code",
   "execution_count": 27,
   "id": "0de2aa08",
   "metadata": {},
   "outputs": [
    {
     "name": "stdout",
     "output_type": "stream",
     "text": [
      "Student name is Shital & he/she is from pune\n",
      "Student name is Ajinkya & he/she is from Nagar\n"
     ]
    }
   ],
   "source": [
    "show(\"Shital\")\n",
    "show(\"Ajinkya\",\"Nagar\")"
   ]
  }
 ],
 "metadata": {
  "kernelspec": {
   "display_name": "Python 3 (ipykernel)",
   "language": "python",
   "name": "python3"
  },
  "language_info": {
   "codemirror_mode": {
    "name": "ipython",
    "version": 3
   },
   "file_extension": ".py",
   "mimetype": "text/x-python",
   "name": "python",
   "nbconvert_exporter": "python",
   "pygments_lexer": "ipython3",
   "version": "3.11.5"
  }
 },
 "nbformat": 4,
 "nbformat_minor": 5
}
