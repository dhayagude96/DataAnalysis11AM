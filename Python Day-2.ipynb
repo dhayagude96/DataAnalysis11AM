{
 "cells": [
  {
   "cell_type": "code",
   "execution_count": 1,
   "id": "bb0a552a",
   "metadata": {},
   "outputs": [],
   "source": [
    "#Write a Program to ask user for there name & course name : print this info\n",
    "\n",
    "#Function\n",
    "def info(name,c_name):\n",
    "    print(\"Hello \", name ,\" Welcome to EduTECH \")\n",
    "    print(name , \"Your Looking for \" , c_name , \" ?\")"
   ]
  },
  {
   "cell_type": "code",
   "execution_count": 2,
   "id": "43539c2a",
   "metadata": {},
   "outputs": [
    {
     "name": "stdout",
     "output_type": "stream",
     "text": [
      "Hello  Vishal  Welcome to EduTECH \n",
      "Vishal Your Looking for  Data Analysis  ?\n"
     ]
    }
   ],
   "source": [
    "s1 = info(\"Vishal\",\"Data Analysis\")"
   ]
  },
  {
   "cell_type": "code",
   "execution_count": 3,
   "id": "7234725e",
   "metadata": {},
   "outputs": [
    {
     "name": "stdout",
     "output_type": "stream",
     "text": [
      "Hello  Sidharth  Welcome to EduTECH \n",
      "Sidharth Your Looking for  SAP  ?\n"
     ]
    }
   ],
   "source": [
    "s2 = info(\"Sidharth\",\"SAP\")"
   ]
  },
  {
   "cell_type": "markdown",
   "id": "32dc9fe9",
   "metadata": {},
   "source": [
    "# Indentation and Comment in Python :\n",
    "    \n",
    "•Indentation is the most significant concept of the Python programming language.\n",
    "\n",
    "•Improper use of indentation will end up \"IndentationError\" in our code.\n",
    "\n",
    "•Indentation is nothing but adding white spaces before the statement when it is needed.\n",
    "\n",
    "•Without indentation Python doesn't know which statement to be executed to next.\n",
    "\n",
    "•Indentation also defines which statements belong to which block.\n",
    "\n",
    "•If there is no indentation or improper indentation, it will display \"IndentationError\" and interrupt our code.\n"
   ]
  },
  {
   "cell_type": "code",
   "execution_count": 6,
   "id": "1ba89508",
   "metadata": {},
   "outputs": [
    {
     "ename": "IndentationError",
     "evalue": "expected an indented block after function definition on line 3 (2808168529.py, line 4)",
     "output_type": "error",
     "traceback": [
      "\u001b[1;36m  Cell \u001b[1;32mIn[6], line 4\u001b[1;36m\u001b[0m\n\u001b[1;33m    print(\"Hello \", name ,\" Welcome to EduTECH \")\u001b[0m\n\u001b[1;37m    ^\u001b[0m\n\u001b[1;31mIndentationError\u001b[0m\u001b[1;31m:\u001b[0m expected an indented block after function definition on line 3\n"
     ]
    }
   ],
   "source": [
    "#IndentationError:\n",
    "\n",
    "def info(name,c_name):\n",
    "print(\"Hello \", name ,\" Welcome to EduTECH \")\n",
    "    print(name , \"Your Looking for \" , c_name , \" ?\")"
   ]
  },
  {
   "cell_type": "code",
   "execution_count": 8,
   "id": "631a5916",
   "metadata": {},
   "outputs": [],
   "source": [
    "def emp(name,salary):\n",
    "    print(\"Emp Name is : \" , name)\n",
    "    print(\"Salary : \" ,salary)\n",
    "    \n",
    "#Assignment 1 : Write a program to take emp info : dept,salary,name,city :print 5 emp info    "
   ]
  },
  {
   "cell_type": "code",
   "execution_count": 9,
   "id": "b548ff75",
   "metadata": {},
   "outputs": [
    {
     "name": "stdout",
     "output_type": "stream",
     "text": [
      "Emp Name is :  Sidharth\n",
      "Salary :  65000\n"
     ]
    }
   ],
   "source": [
    "e1 = emp(\"Sidharth\",65000)"
   ]
  },
  {
   "cell_type": "markdown",
   "id": "fb8439e9",
   "metadata": {},
   "source": [
    "# Comments in Python\n"
   ]
  },
  {
   "cell_type": "code",
   "execution_count": 10,
   "id": "4fd59a79",
   "metadata": {},
   "outputs": [],
   "source": [
    "def add(a,b):\n",
    "    \n",
    "    #single line comment\n",
    "    #This Program will return you add of Two Variables\n",
    "    \n",
    "    \"\"\"\n",
    "    This Multiline comment\n",
    "    \n",
    "    Code Created By :  Vishal\n",
    "    Date : 10/10/2023\n",
    "    Edited By : Ajay\n",
    "    Date : 12/10/2023\n",
    "    \n",
    "    \n",
    "    \n",
    "    \n",
    "    \"\"\"\n",
    "    \n",
    "    print(\"Add of Two Number is : \" , a+b)"
   ]
  },
  {
   "cell_type": "code",
   "execution_count": 11,
   "id": "c6b21a58",
   "metadata": {},
   "outputs": [
    {
     "name": "stdout",
     "output_type": "stream",
     "text": [
      "Add of Two Number is :  35\n"
     ]
    }
   ],
   "source": [
    "add(10,25)"
   ]
  },
  {
   "cell_type": "markdown",
   "id": "206c24de",
   "metadata": {},
   "source": [
    "# Python Identifiers/Variables\n",
    "\n",
    "\n",
    "•A variable name must start with either an English letter or underscore (_).\n",
    "\n",
    "•A variable name cannot start with the number.\n",
    "\n",
    "•Special characters are not allowed in the variable name.\n",
    "\n",
    "•The variable's name is case sensitive.\n"
   ]
  },
  {
   "cell_type": "code",
   "execution_count": 13,
   "id": "2ef70fa5",
   "metadata": {},
   "outputs": [
    {
     "name": "stdout",
     "output_type": "stream",
     "text": [
      "Vishal\n",
      "Dhayagude\n"
     ]
    }
   ],
   "source": [
    "#A variable name must start with either an English letter or underscore (_).\n",
    "\n",
    "name = \"Vishal\"\n",
    "_name = \"Dhayagude\"\n",
    "\n",
    "print(name)\n",
    "print(_name)"
   ]
  },
  {
   "cell_type": "code",
   "execution_count": 15,
   "id": "480fec68",
   "metadata": {},
   "outputs": [
    {
     "ename": "SyntaxError",
     "evalue": "invalid decimal literal (1452404180.py, line 7)",
     "output_type": "error",
     "traceback": [
      "\u001b[1;36m  Cell \u001b[1;32mIn[15], line 7\u001b[1;36m\u001b[0m\n\u001b[1;33m    1num = 28 #Invalid Variable\u001b[0m\n\u001b[1;37m    ^\u001b[0m\n\u001b[1;31mSyntaxError\u001b[0m\u001b[1;31m:\u001b[0m invalid decimal literal\n"
     ]
    }
   ],
   "source": [
    "#A variable name cannot start with the number.\n",
    "\n",
    "num1 = 25\n",
    "\n",
    "print(num1) #valid Variable\n",
    "\n",
    "1num = 28 #Invalid Variable"
   ]
  },
  {
   "cell_type": "code",
   "execution_count": 16,
   "id": "8368cd46",
   "metadata": {},
   "outputs": [
    {
     "ename": "SyntaxError",
     "evalue": "invalid syntax. Maybe you meant '==' or ':=' instead of '='? (1157419694.py, line 3)",
     "output_type": "error",
     "traceback": [
      "\u001b[1;36m  Cell \u001b[1;32mIn[16], line 3\u001b[1;36m\u001b[0m\n\u001b[1;33m    @age = 25\u001b[0m\n\u001b[1;37m     ^\u001b[0m\n\u001b[1;31mSyntaxError\u001b[0m\u001b[1;31m:\u001b[0m invalid syntax. Maybe you meant '==' or ':=' instead of '='?\n"
     ]
    }
   ],
   "source": [
    "#•Special characters are not allowed in the variable name.\n",
    "\n",
    "@age = 25\n",
    "%ht = 175 "
   ]
  },
  {
   "cell_type": "code",
   "execution_count": 19,
   "id": "d8dcf3b2",
   "metadata": {},
   "outputs": [
    {
     "name": "stdout",
     "output_type": "stream",
     "text": [
      "EduTECH\n",
      "Warje\n"
     ]
    }
   ],
   "source": [
    "#The variable's name is case sensitive\n",
    "\n",
    "info = \"EduTECH\"\n",
    "INFO = \"Warje\"\n",
    "\n",
    "print(info)\n",
    "print(INFO)"
   ]
  },
  {
   "cell_type": "code",
   "execution_count": 23,
   "id": "082a8771",
   "metadata": {},
   "outputs": [
    {
     "name": "stdout",
     "output_type": "stream",
     "text": [
      "Data Type of Age  :  <class 'int'>\n",
      "Age of Studnet :  25\n",
      "\n",
      "Data Type of Name  :  <class 'str'>\n"
     ]
    }
   ],
   "source": [
    "#In Python, we don't need to specify the type of variable \n",
    "#because Python is a infer language and smart enough to get variable type.\n",
    "\n",
    "#type():---> this function will return you data type of Variable\n",
    "age = 25\n",
    "\n",
    "print(\"Data Type of Age  : \" , type(age))\n",
    "\n",
    "print(\"Age of Studnet : \" , age)\n",
    "\n",
    "print()\n",
    "name = \"Vishal\"\n",
    "\n",
    "print(\"Data Type of Name  : \" , type(name))"
   ]
  },
  {
   "cell_type": "code",
   "execution_count": 24,
   "id": "bb395bfb",
   "metadata": {},
   "outputs": [
    {
     "name": "stdout",
     "output_type": "stream",
     "text": [
      "Data Type of Age  :  <class 'int'>\n",
      "Age of Studnet :  28\n",
      "\n",
      "Data Type of Age  :  <class 'str'>\n"
     ]
    }
   ],
   "source": [
    "age = 28\n",
    "\n",
    "print(\"Data Type of Age  : \" , type(age))\n",
    "print(\"Age of Studnet : \" , age)\n",
    "\n",
    "\n",
    "print()\n",
    "age = \"28\"\n",
    "print(\"Data Type of Age  : \" , type(age))"
   ]
  }
 ],
 "metadata": {
  "kernelspec": {
   "display_name": "Python 3 (ipykernel)",
   "language": "python",
   "name": "python3"
  },
  "language_info": {
   "codemirror_mode": {
    "name": "ipython",
    "version": 3
   },
   "file_extension": ".py",
   "mimetype": "text/x-python",
   "name": "python",
   "nbconvert_exporter": "python",
   "pygments_lexer": "ipython3",
   "version": "3.11.3"
  }
 },
 "nbformat": 4,
 "nbformat_minor": 5
}
