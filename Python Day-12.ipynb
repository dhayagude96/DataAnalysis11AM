{
 "cells": [
  {
   "cell_type": "markdown",
   "id": "656dcf52",
   "metadata": {},
   "source": [
    "a)Positional arguments\n",
    "\n",
    "b)keyword arguments\n",
    "\n",
    "c)Default arguments\n",
    "\n",
    "d)Variable-length arguments"
   ]
  },
  {
   "cell_type": "code",
   "execution_count": 1,
   "id": "838d03ce",
   "metadata": {},
   "outputs": [],
   "source": [
    "#Variable-length arguments\n",
    "\n",
    "def Sum(*num):\n",
    "    \n",
    "    \"\"\"\n",
    "    This Function will return you sum of all Numbers\n",
    "    Creadted by :  Vishal\n",
    "    Date : 31/10/2023\n",
    "    Edited By : Ajay\n",
    "    Date : 1/11/2023\n",
    "    \n",
    "    \n",
    "    \n",
    "    \"\"\"\n",
    "    \n",
    "    total = 0\n",
    "    for i in num:\n",
    "        total += i\n",
    "        \n",
    "    return total"
   ]
  },
  {
   "cell_type": "code",
   "execution_count": 6,
   "id": "72b09c62",
   "metadata": {},
   "outputs": [
    {
     "name": "stdout",
     "output_type": "stream",
     "text": [
      "\n",
      "    This Function will return you sum of all Numbers\n",
      "    Creadted by :  Vishal\n",
      "    Date : 31/10/2023\n",
      "    Edited By : Ajay\n",
      "    Date : 1/11/2023\n",
      "    \n",
      "    \n",
      "    \n",
      "    \n"
     ]
    }
   ],
   "source": [
    "Sum(10,11,25,23,25,28,65)\n",
    "print(Sum.__doc__)"
   ]
  },
  {
   "cell_type": "markdown",
   "id": "638531f1",
   "metadata": {},
   "source": [
    "# Variable\n",
    "\n",
    "1.Global\n",
    "\n",
    "2.Local\n",
    "\n",
    "3.Instance\n",
    "\n",
    "4.Static"
   ]
  },
  {
   "cell_type": "code",
   "execution_count": 7,
   "id": "ae65de64",
   "metadata": {},
   "outputs": [],
   "source": [
    "name1 = \"Ajay\"  #Global :---> can be access inside & outside of the Function\n",
    "\n",
    "\n",
    "def info():\n",
    "    name2 = \"Vishal\" #Local  :---> only accessible inside the function\n",
    "    \n",
    "    print(\"1st name : \" , name1)\n",
    "    print(\"2nd Name  : \" , name2)\n",
    "    "
   ]
  },
  {
   "cell_type": "code",
   "execution_count": 8,
   "id": "981d301f",
   "metadata": {},
   "outputs": [
    {
     "name": "stdout",
     "output_type": "stream",
     "text": [
      "1st name :  Ajay\n",
      "2nd Name  :  Vishal\n"
     ]
    }
   ],
   "source": [
    "info()"
   ]
  },
  {
   "cell_type": "code",
   "execution_count": 11,
   "id": "47f23846",
   "metadata": {},
   "outputs": [
    {
     "name": "stdout",
     "output_type": "stream",
     "text": [
      "1st name :  Govind\n",
      "2nd Name  :  Vishal\n"
     ]
    }
   ],
   "source": [
    "name1 = \"Govind\"\n",
    "name2= \"Ajinkya\"\n",
    "\n",
    "info()"
   ]
  },
  {
   "cell_type": "code",
   "execution_count": 12,
   "id": "170ecc2d",
   "metadata": {},
   "outputs": [],
   "source": [
    "num = 1\n",
    "\n",
    "def fun1():\n",
    "    \n",
    "    print(\"Number is : \" , num)\n",
    "    \n",
    "def fun2():\n",
    "    \n",
    "    print(\"Number is : \" , num)\n",
    "    \n",
    "def fun3():\n",
    "    \n",
    "    print(\"Number is : \" , num)"
   ]
  },
  {
   "cell_type": "code",
   "execution_count": 13,
   "id": "ef3073db",
   "metadata": {},
   "outputs": [
    {
     "name": "stdout",
     "output_type": "stream",
     "text": [
      "Number is :  1\n",
      "Number is :  1\n",
      "Number is :  1\n"
     ]
    }
   ],
   "source": [
    "fun1()\n",
    "fun2()\n",
    "fun3()"
   ]
  },
  {
   "cell_type": "code",
   "execution_count": 20,
   "id": "580bc0fb",
   "metadata": {},
   "outputs": [],
   "source": [
    "num = 1\n",
    "\n",
    "def fun1():\n",
    "    \n",
    "    print(\"Number is : \" , num)\n",
    "    \n",
    "def fun2():\n",
    "    global num\n",
    "    num = 101\n",
    "    print(\"Number is : \" , num)\n",
    "    \n",
    "def fun3():\n",
    "    \n",
    "    print(\"Number is : \" , num)"
   ]
  },
  {
   "cell_type": "code",
   "execution_count": 21,
   "id": "91b4adee",
   "metadata": {},
   "outputs": [
    {
     "name": "stdout",
     "output_type": "stream",
     "text": [
      "Number is :  1\n",
      "Number is :  101\n",
      "Number is :  101\n"
     ]
    }
   ],
   "source": [
    "fun1()\n",
    "fun2()\n",
    "fun3()"
   ]
  },
  {
   "cell_type": "markdown",
   "id": "b59409b4",
   "metadata": {},
   "source": [
    "# Recursive Functions"
   ]
  },
  {
   "cell_type": "code",
   "execution_count": 22,
   "id": "d87db7c1",
   "metadata": {},
   "outputs": [],
   "source": [
    "\n",
    "def Num(num):\n",
    "    print(num)\n",
    "    #Base\n",
    "    if num == 1:\n",
    "        return num\n",
    "    else :\n",
    "        return Num(num-1)"
   ]
  },
  {
   "cell_type": "code",
   "execution_count": 25,
   "id": "213cfaae",
   "metadata": {},
   "outputs": [
    {
     "name": "stdout",
     "output_type": "stream",
     "text": [
      "5\n",
      "4\n",
      "3\n",
      "2\n",
      "1\n"
     ]
    },
    {
     "data": {
      "text/plain": [
       "1"
      ]
     },
     "execution_count": 25,
     "metadata": {},
     "output_type": "execute_result"
    }
   ],
   "source": [
    "Num(5)"
   ]
  },
  {
   "cell_type": "code",
   "execution_count": 30,
   "id": "544cd45a",
   "metadata": {},
   "outputs": [],
   "source": [
    "def even(num):\n",
    "    print(num)\n",
    "    #Base\n",
    "    if num % 2 != 0:\n",
    "        print(\"Enter Number is odd Number\")\n",
    "    elif num == 2:\n",
    "        return num\n",
    "    else:\n",
    "        return even(num-2)"
   ]
  },
  {
   "cell_type": "code",
   "execution_count": 33,
   "id": "8c96c8d1",
   "metadata": {},
   "outputs": [
    {
     "name": "stdout",
     "output_type": "stream",
     "text": [
      "23\n",
      "Enter Number is odd Number\n"
     ]
    }
   ],
   "source": [
    "even(23)"
   ]
  },
  {
   "cell_type": "code",
   "execution_count": 34,
   "id": "4880c199",
   "metadata": {},
   "outputs": [],
   "source": [
    "# 5!  =5x4x3x2x1 = 120\n",
    "\n",
    "def fact(num):\n",
    "    print(num)\n",
    "    if num == 1:\n",
    "        return num\n",
    "    else :\n",
    "        return num * fact(num-1)"
   ]
  },
  {
   "cell_type": "code",
   "execution_count": 37,
   "id": "71aee991",
   "metadata": {
    "scrolled": true
   },
   "outputs": [
    {
     "name": "stdout",
     "output_type": "stream",
     "text": [
      "15\n",
      "14\n",
      "13\n",
      "12\n",
      "11\n",
      "10\n",
      "9\n",
      "8\n",
      "7\n",
      "6\n",
      "5\n",
      "4\n",
      "3\n",
      "2\n",
      "1\n"
     ]
    },
    {
     "data": {
      "text/plain": [
       "1307674368000"
      ]
     },
     "execution_count": 37,
     "metadata": {},
     "output_type": "execute_result"
    }
   ],
   "source": [
    "fact(15)"
   ]
  },
  {
   "cell_type": "code",
   "execution_count": 1,
   "id": "d2bbaa71",
   "metadata": {},
   "outputs": [],
   "source": [
    "def total(*num):\n",
    "    \n",
    "    t =0 \n",
    "    for i in num :\n",
    "        t += i\n",
    "        \n",
    "    return t\n",
    "        "
   ]
  },
  {
   "cell_type": "code",
   "execution_count": 2,
   "id": "d7133502",
   "metadata": {},
   "outputs": [
    {
     "data": {
      "text/plain": [
       "40"
      ]
     },
     "execution_count": 2,
     "metadata": {},
     "output_type": "execute_result"
    }
   ],
   "source": [
    "total(12,13,15)"
   ]
  }
 ],
 "metadata": {
  "kernelspec": {
   "display_name": "Python 3 (ipykernel)",
   "language": "python",
   "name": "python3"
  },
  "language_info": {
   "codemirror_mode": {
    "name": "ipython",
    "version": 3
   },
   "file_extension": ".py",
   "mimetype": "text/x-python",
   "name": "python",
   "nbconvert_exporter": "python",
   "pygments_lexer": "ipython3",
   "version": "3.11.5"
  }
 },
 "nbformat": 4,
 "nbformat_minor": 5
}
