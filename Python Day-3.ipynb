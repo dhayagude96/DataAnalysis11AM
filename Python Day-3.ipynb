{
 "cells": [
  {
   "cell_type": "markdown",
   "id": "6e5b235a",
   "metadata": {},
   "source": [
    "# Aalising"
   ]
  },
  {
   "cell_type": "markdown",
   "id": "85cfe467",
   "metadata": {},
   "source": [
    "a = 150\n",
    "b = a\n",
    "\n",
    "#type() :---> return data type of Variable\n",
    "#id() :---> return loc/address of that Variable\n",
    "\n",
    "\n",
    "print(\"Value of a : \" , a)\n",
    "print(\"Loc/add of a \" , id(a))\n",
    "print()\n",
    "print(\"Value of b : \" , b)\n",
    "print(\"Loc/add of a \" , id(b))\n",
    "print()\n",
    "\n",
    "b = 250\n",
    "print(\"Value of b : \" , b)\n",
    "print(\"Loc/add of a \" , id(b))"
   ]
  },
  {
   "cell_type": "code",
   "execution_count": 6,
   "id": "58fbac77",
   "metadata": {},
   "outputs": [
    {
     "name": "stdout",
     "output_type": "stream",
     "text": [
      "Avg of age grp is :  25.0\n"
     ]
    }
   ],
   "source": [
    "import numpy as np\n",
    "\n",
    "age = [28,27,20,21,25,29]\n",
    "\n",
    "print(\"Avg of age grp is : \" , np.mean(age))"
   ]
  },
  {
   "cell_type": "markdown",
   "id": "8dedf6a0",
   "metadata": {},
   "source": [
    "# Keyword"
   ]
  },
  {
   "cell_type": "code",
   "execution_count": 7,
   "id": "06e14da9",
   "metadata": {},
   "outputs": [
    {
     "name": "stdout",
     "output_type": "stream",
     "text": [
      "['False', 'None', 'True', 'and', 'as', 'assert', 'async', 'await', 'break', 'class', 'continue', 'def', 'del', 'elif', 'else', 'except', 'finally', 'for', 'from', 'global', 'if', 'import', 'in', 'is', 'lambda', 'nonlocal', 'not', 'or', 'pass', 'raise', 'return', 'try', 'while', 'with', 'yield']\n"
     ]
    }
   ],
   "source": [
    "import keyword\n",
    "\n",
    "print(keyword.kwlist)"
   ]
  },
  {
   "cell_type": "code",
   "execution_count": null,
   "id": "81a7d0b3",
   "metadata": {},
   "outputs": [],
   "source": [
    "#Diff btw Keyword & Function\n",
    "\n",
    "for\n",
    "id()\n",
    "sum()\n",
    "max()"
   ]
  },
  {
   "cell_type": "code",
   "execution_count": 8,
   "id": "e7527e17",
   "metadata": {},
   "outputs": [
    {
     "name": "stdout",
     "output_type": "stream",
     "text": [
      "<class 'int'>\n",
      "<class 'str'>\n",
      "<class 'float'>\n"
     ]
    }
   ],
   "source": [
    "#Python is Dyamic Lang : We don't have to specify data type of Variable & also we can use that variable\n",
    "#again & reassign values\n",
    "\n",
    "\n",
    "age = 27 #int\n",
    "print(type(age))\n",
    "name = \"Vishal\" #str\n",
    "print(type(name))\n",
    "salary = 64.5 #float\n",
    "print(type(salary))"
   ]
  },
  {
   "cell_type": "code",
   "execution_count": 9,
   "id": "cb447a1a",
   "metadata": {},
   "outputs": [
    {
     "name": "stdout",
     "output_type": "stream",
     "text": [
      "<class 'str'>\n",
      "<class 'int'>\n",
      "<class 'str'>\n"
     ]
    }
   ],
   "source": [
    "age = \"27\" #int\n",
    "print(type(age))\n",
    "name = 250200 #str\n",
    "print(type(name))\n",
    "salary = \"64.5\" #float\n",
    "print(type(salary))"
   ]
  },
  {
   "cell_type": "markdown",
   "id": "f7d46095",
   "metadata": {},
   "source": [
    "# Operators"
   ]
  },
  {
   "cell_type": "code",
   "execution_count": 12,
   "id": "974f8503",
   "metadata": {},
   "outputs": [
    {
     "name": "stdout",
     "output_type": "stream",
     "text": [
      "Add of a & b is :  54\n",
      "Sub of a & b is :  -4\n",
      "Div of a & b is :  0.8620689655172413\n",
      "Mult of a & b is :  725\n",
      "\n",
      "x div by y Riminder is :  1\n"
     ]
    }
   ],
   "source": [
    "#Arithmatic :( +,-,/,*,% )  & (**,//)\n",
    "\n",
    "a = 25\n",
    "b = 29\n",
    "\n",
    "print(\"Add of a & b is : \" , a+b)\n",
    "print(\"Sub of a & b is : \" , a-b)\n",
    "print(\"Div of a & b is : \" , a/b)\n",
    "print(\"Mult of a & b is : \" , a*b)\n",
    "\n",
    "print()\n",
    "\n",
    "x = 11\n",
    "y = 2\n",
    "\n",
    "print(\"x div by y Riminder is : \" , x%y)"
   ]
  },
  {
   "cell_type": "code",
   "execution_count": 14,
   "id": "7c57d844",
   "metadata": {},
   "outputs": [
    {
     "name": "stdout",
     "output_type": "stream",
     "text": [
      "2 pow 3 :  8\n",
      "4 pow 10 :  1048576\n"
     ]
    }
   ],
   "source": [
    "print(\"2 pow 3 : \" , 2**3)\n",
    "print(\"4 pow 10 : \" , 4**10)"
   ]
  },
  {
   "cell_type": "code",
   "execution_count": 15,
   "id": "f9ea7113",
   "metadata": {},
   "outputs": [
    {
     "name": "stdout",
     "output_type": "stream",
     "text": [
      "x1  div by y1 :  2.5\n",
      "x1  floor div by y1 :  2\n"
     ]
    }
   ],
   "source": [
    "x1 = 25\n",
    "y1 = 10\n",
    "\n",
    "print(\"x1  div by y1 : \" , x1/y1)#float ans\n",
    "print(\"x1  floor div by y1 : \" , x1//y1)#int ans"
   ]
  },
  {
   "cell_type": "code",
   "execution_count": 19,
   "id": "92be87f4",
   "metadata": {},
   "outputs": [
    {
     "name": "stdout",
     "output_type": "stream",
     "text": [
      "x is gretter than y :  True\n",
      "x is gretter than z :  False\n",
      "x is equal to z :  True\n",
      "x is equal to z :  False\n"
     ]
    }
   ],
   "source": [
    "#Relational Operator: >,<,<=,>=,==,!= :---> boolean (true Or false)\n",
    "\n",
    "x = 25\n",
    "y = 10\n",
    "z = 25\n",
    "\n",
    "print(\"x is gretter than y : \" , x>y)\n",
    "print(\"x is gretter than z : \" , x>z)\n",
    "print(\"x is equal to z : \" , x==z)\n",
    "print(\"x is equal to z : \" , x!=z)"
   ]
  },
  {
   "cell_type": "code",
   "execution_count": 22,
   "id": "28114465",
   "metadata": {},
   "outputs": [
    {
     "name": "stdout",
     "output_type": "stream",
     "text": [
      "False\n",
      "True\n"
     ]
    }
   ],
   "source": [
    "#Logical Operator : and & or\n",
    "\n",
    "\"\"\"\n",
    "\n",
    "True and True = True\n",
    "True and False = False\n",
    "False and True = False\n",
    "False and False = False\n",
    "-----------------------------\n",
    "\n",
    "True or True = True\n",
    "True or False = True\n",
    "False or True = True\n",
    "False or False = False\n",
    "\n",
    "\n",
    "\n",
    "\n",
    "\"\"\"\n",
    "x = 25\n",
    "y = 10\n",
    "z = 25\n",
    "\n",
    "print( x > y and z < y) # True and False = False\n",
    "print( x > y or z < y ) # True or False = True\n"
   ]
  }
 ],
 "metadata": {
  "kernelspec": {
   "display_name": "Python 3 (ipykernel)",
   "language": "python",
   "name": "python3"
  },
  "language_info": {
   "codemirror_mode": {
    "name": "ipython",
    "version": 3
   },
   "file_extension": ".py",
   "mimetype": "text/x-python",
   "name": "python",
   "nbconvert_exporter": "python",
   "pygments_lexer": "ipython3",
   "version": "3.11.3"
  }
 },
 "nbformat": 4,
 "nbformat_minor": 5
}
