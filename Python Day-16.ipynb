{
 "cells": [
  {
   "cell_type": "markdown",
   "id": "f304e2e5",
   "metadata": {},
   "source": [
    "# what is constructor in python?\n",
    "\n",
    "In Python, a constructor is a special method that gets called when you create an instance (object) of a class. The constructor method is named __init__() (with double underscores before and after \"init\"). It is used to initialize the attributes (data members) of an object when it is created."
   ]
  },
  {
   "cell_type": "code",
   "execution_count": 21,
   "id": "e0e40d43",
   "metadata": {},
   "outputs": [],
   "source": [
    "class fract :\n",
    "    \n",
    "    #Varibale Create\n",
    "    def __init__(self,n,d):\n",
    "        self.num = n\n",
    "        self.deo = d\n",
    "        \n",
    "    def __str__(self):\n",
    "        \n",
    "        return \"{}/{}\".format(self.num,self.deo)\n",
    "    \n",
    "    def __add__(self,other):\n",
    "        \n",
    "        temp_num = self.num*other.deo  + self.deo * other.num\n",
    "        temp_deo = self.deo * other.deo\n",
    "        \n",
    "        return \"{}/{}\".format(temp_num,temp_deo)\n",
    "    \n",
    "    def __sub__(self,other):\n",
    "        \n",
    "        temp_num = self.num*other.deo  - self.deo * other.num\n",
    "        temp_deo = self.deo * other.deo\n",
    "        \n",
    "        return \"{}/{}\".format(temp_num,temp_deo)\n",
    "    \n",
    "    def __mul__(self,other):\n",
    "        \n",
    "        temp_num = self.num*other.deo\n",
    "        temp_deo = self.deo * other.num\n",
    "        \n",
    "        return \"{}/{}\".format(temp_num,temp_deo)\n",
    "    \n",
    "    def __truediv__(self,other):\n",
    "        \n",
    "        temp_num = self.num/other.deo\n",
    "        temp_deo = self.deo /other.num\n",
    "        \n",
    "        return \"{}/{}\".format(temp_num,temp_deo)\n",
    "        \n",
    "        \n",
    "        \n",
    "        \n",
    "        \n",
    "    "
   ]
  },
  {
   "cell_type": "code",
   "execution_count": 1,
   "id": "cfce2972",
   "metadata": {},
   "outputs": [
    {
     "data": {
      "text/plain": [
       "[1, 2, 3, 4, 5, 6, 7, 8, 9, 10]"
      ]
     },
     "execution_count": 1,
     "metadata": {},
     "output_type": "execute_result"
    }
   ],
   "source": [
    "L1 = list(range(1,11))\n",
    "\n",
    "L1"
   ]
  },
  {
   "cell_type": "code",
   "execution_count": 2,
   "id": "fac3cff1",
   "metadata": {},
   "outputs": [
    {
     "data": {
      "text/plain": [
       "0.5"
      ]
     },
     "execution_count": 2,
     "metadata": {},
     "output_type": "execute_result"
    }
   ],
   "source": [
    "f1 = (1/2)\n",
    "\n",
    "f1"
   ]
  },
  {
   "cell_type": "code",
   "execution_count": 23,
   "id": "7f2d745a",
   "metadata": {},
   "outputs": [
    {
     "name": "stdout",
     "output_type": "stream",
     "text": [
      "1/2\n",
      "7/6\n",
      "-1/6\n",
      "3/4\n",
      "0.3333333333333333/1.0\n"
     ]
    }
   ],
   "source": [
    "f1 = fract(1,2) #1/2\n",
    "f2 = fract(2,3)\n",
    "print(f1)\n",
    "\n",
    "print(f1 + f2)\n",
    "print(f1 - f2)\n",
    "print(f1 * f2)\n",
    "print(f1 / f2)"
   ]
  },
  {
   "cell_type": "code",
   "execution_count": 8,
   "id": "2a1df94c",
   "metadata": {},
   "outputs": [
    {
     "name": "stdout",
     "output_type": "stream",
     "text": [
      "{'Vishal is learnig Data Analysis'}\n"
     ]
    }
   ],
   "source": []
  },
  {
   "cell_type": "code",
   "execution_count": 17,
   "id": "1bc489b7",
   "metadata": {},
   "outputs": [],
   "source": [
    "class frt:\n",
    "    \n",
    "    def __init__(self,n,d):\n",
    "        self.num = n\n",
    "        self.deo = d\n",
    "        \n",
    "        \n",
    "    def __str__(self):\n",
    "        \n",
    "        return \"{}/{}\".format(self.num,self.deo)\n",
    "    \n",
    "    def __add__(self,other):\n",
    "        temp_num = self.num * other.deo + self.deo * other.deo\n",
    "        temp_deo = self.deo * other.deo\n",
    "        return \"{}/{}\".format(temp_num,temp_deo)"
   ]
  },
  {
   "cell_type": "code",
   "execution_count": 18,
   "id": "001f274f",
   "metadata": {},
   "outputs": [
    {
     "name": "stdout",
     "output_type": "stream",
     "text": [
      "1/2\n",
      "6/4\n"
     ]
    }
   ],
   "source": [
    "f1 = frt(1,2)\n",
    "\n",
    "print(f1)\n",
    "\n",
    "f2 = frt(1,2)\n",
    "\n",
    "print(f1+f2)"
   ]
  }
 ],
 "metadata": {
  "kernelspec": {
   "display_name": "Python 3 (ipykernel)",
   "language": "python",
   "name": "python3"
  },
  "language_info": {
   "codemirror_mode": {
    "name": "ipython",
    "version": 3
   },
   "file_extension": ".py",
   "mimetype": "text/x-python",
   "name": "python",
   "nbconvert_exporter": "python",
   "pygments_lexer": "ipython3",
   "version": "3.11.5"
  }
 },
 "nbformat": 4,
 "nbformat_minor": 5
}
