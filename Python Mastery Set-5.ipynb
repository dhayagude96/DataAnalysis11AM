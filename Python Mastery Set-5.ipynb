{
 "cells": [
  {
   "cell_type": "markdown",
   "id": "2eadf1cf",
   "metadata": {},
   "source": [
    "# Assignment: Python Mastery Set-5\n",
    "\n",
    "\n",
    "Task:\n",
    "-----\n",
    "\n",
    "Write a Python program using functions: map/lambda/filter/reduce/Generators\n",
    "\n",
    "Instructions:\n",
    "\n",
    "1.Open your preferred Python environment.\n",
    "\n",
    "2.Write a Python script adhering to the specified task.\n",
    "\n",
    "3.use Required functions for this assignment.\n",
    "\n",
    "4.Once your program is complete, run it to test its functionality.\n",
    "\n",
    "5.Upload the PDF document to the Data Analysis Google Classroom assignment.\n",
    "\n",
    "Submission Deadline:\n",
    "-----\n",
    "20/11/2023\n",
    "\n",
    "\n",
    "Note:\n",
    "-----\n",
    "\n",
    "Ensure your code is well-commented for clarity.\n",
    "\n",
    "Follow the provided instructions strictly.\n",
    "\n",
    "If you face any issues, reach out for assistance.\n",
    "\n",
    "Happy coding!\n",
    "-----"
   ]
  },
  {
   "cell_type": "markdown",
   "id": "d6ac22d2",
   "metadata": {},
   "source": [
    "Recursive Function, Lambda, Map:\n",
    "\n",
    "1.Write a recursive function to calculate the nth Fibonacci number. Use a lambda function to square each Fibonacci number and then map the squared values to a list."
   ]
  },
  {
   "cell_type": "code",
   "execution_count": null,
   "id": "9204f4c3",
   "metadata": {},
   "outputs": [],
   "source": []
  },
  {
   "cell_type": "markdown",
   "id": "9046cdbe",
   "metadata": {},
   "source": [
    "Filter, Reduce, Generators:\n",
    "\n",
    "2.Generate a list of prime numbers using a generator. Use the filter function to get prime numbers less than 50, then use the reduce function to find their product."
   ]
  },
  {
   "cell_type": "code",
   "execution_count": null,
   "id": "6b805d79",
   "metadata": {},
   "outputs": [],
   "source": []
  },
  {
   "cell_type": "markdown",
   "id": "a7feee5b",
   "metadata": {},
   "source": [
    "Filter, Reduce, Recursive Function:\n",
    "\n",
    "3.Write a recursive function to calculate the sum of squares of even numbers in a list. Use filter to get the even numbers, then use reduce to find their sum."
   ]
  },
  {
   "cell_type": "code",
   "execution_count": null,
   "id": "71ac92bf",
   "metadata": {},
   "outputs": [],
   "source": []
  },
  {
   "cell_type": "markdown",
   "id": "a2411c64",
   "metadata": {},
   "source": [
    "Map, Filter, Lambda:\n",
    "\n",
    "4.Create a list of temperatures in Celsius. Use map to convert them to Fahrenheit. Then, use filter and a lambda function to get temperatures above 32 degrees Fahrenheit."
   ]
  },
  {
   "cell_type": "code",
   "execution_count": null,
   "id": "20be32ea",
   "metadata": {},
   "outputs": [],
   "source": []
  }
 ],
 "metadata": {
  "kernelspec": {
   "display_name": "Python 3 (ipykernel)",
   "language": "python",
   "name": "python3"
  },
  "language_info": {
   "codemirror_mode": {
    "name": "ipython",
    "version": 3
   },
   "file_extension": ".py",
   "mimetype": "text/x-python",
   "name": "python",
   "nbconvert_exporter": "python",
   "pygments_lexer": "ipython3",
   "version": "3.11.3"
  }
 },
 "nbformat": 4,
 "nbformat_minor": 5
}
