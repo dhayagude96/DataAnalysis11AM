{
 "cells": [
  {
   "cell_type": "markdown",
   "id": "47d36913",
   "metadata": {},
   "source": [
    "# Tuples\n",
    "\n",
    " Create\n",
    " \n",
    " Access\n",
    " \n",
    " Edit\n",
    " \n",
    " Add\n",
    " \n",
    " Delete\n",
    " \n",
    " Operations\n",
    " \n",
    " Functions\n"
   ]
  },
  {
   "cell_type": "code",
   "execution_count": 3,
   "id": "f3ceee36",
   "metadata": {},
   "outputs": [
    {
     "name": "stdout",
     "output_type": "stream",
     "text": [
      "Data Type of L1  <class 'list'>\n",
      "Data Type of T1  <class 'tuple'>\n"
     ]
    }
   ],
   "source": [
    "#Create\n",
    "\n",
    "L1 = [1,2,3]\n",
    "T1 = (1,2,3)\n",
    "\n",
    "print('Data Type of L1 ' , type(L1))\n",
    "print('Data Type of T1 ' , type(T1))"
   ]
  },
  {
   "cell_type": "code",
   "execution_count": 7,
   "id": "8bb7e533",
   "metadata": {},
   "outputs": [
    {
     "name": "stdout",
     "output_type": "stream",
     "text": [
      "Empty Tuple :  ()\n",
      "Homogeouns Tuple :  (25, 22, 18, 19, 23, 25)\n",
      "Hetrogeouns Tuple :  ('Vishal', 101, 87.5, 'Pune')\n",
      "2-D Tuple :  (1, 2, 3, (4, 5))\n"
     ]
    }
   ],
   "source": [
    "T1 = ()\n",
    "print(\"Empty Tuple : \" , T1)\n",
    "\n",
    "T2 = (25,22,18,19,23,25)\n",
    "print(\"Homogeouns Tuple : \" , T2)\n",
    "\n",
    "T3 = (\"Vishal\",101,87.5,\"Pune\")\n",
    "print(\"Hetrogeouns Tuple : \" , T3)\n",
    "\n",
    "T4 = (1,2,3,(4,5))\n",
    "\n",
    "print(\"2-D Tuple : \" , T4)"
   ]
  },
  {
   "cell_type": "markdown",
   "id": "e301423b",
   "metadata": {},
   "source": [
    "# Access"
   ]
  },
  {
   "cell_type": "code",
   "execution_count": 9,
   "id": "8d230505",
   "metadata": {},
   "outputs": [
    {
     "name": "stdout",
     "output_type": "stream",
     "text": [
      "ID of Vishal :  101\n",
      "4\n"
     ]
    }
   ],
   "source": [
    "T3 = (\"Vishal\",101,87.5,\"Pune\")\n",
    "\n",
    "print(\"ID of Vishal : \" , T3[1])\n",
    "\n",
    "T4 = (1,2,3,(4,5))\n",
    "\n",
    "print(T4[3][0])"
   ]
  },
  {
   "cell_type": "code",
   "execution_count": 10,
   "id": "da7ca357",
   "metadata": {},
   "outputs": [
    {
     "name": "stdout",
     "output_type": "stream",
     "text": [
      "[5, 2, 3, 4]\n"
     ]
    }
   ],
   "source": [
    "#Edit/Add/Delete\n",
    "\n",
    "#List\n",
    "L1 = [1,2,3,4]\n",
    "\n",
    "L1[0] = 5\n",
    "\n",
    "print(L1)"
   ]
  },
  {
   "cell_type": "code",
   "execution_count": 12,
   "id": "93de987b",
   "metadata": {},
   "outputs": [
    {
     "ename": "TypeError",
     "evalue": "'tuple' object does not support item assignment",
     "output_type": "error",
     "traceback": [
      "\u001b[1;31m---------------------------------------------------------------------------\u001b[0m",
      "\u001b[1;31mTypeError\u001b[0m                                 Traceback (most recent call last)",
      "Cell \u001b[1;32mIn[12], line 5\u001b[0m\n\u001b[0;32m      1\u001b[0m \u001b[38;5;66;03m#Tuple :--> Immutable Data Type : Edit/add/delete\u001b[39;00m\n\u001b[0;32m      3\u001b[0m L1 \u001b[38;5;241m=\u001b[39m (\u001b[38;5;241m1\u001b[39m,\u001b[38;5;241m2\u001b[39m,\u001b[38;5;241m3\u001b[39m,\u001b[38;5;241m4\u001b[39m)\n\u001b[1;32m----> 5\u001b[0m L1[\u001b[38;5;241m0\u001b[39m] \u001b[38;5;241m=\u001b[39m \u001b[38;5;241m5\u001b[39m\n\u001b[0;32m      7\u001b[0m \u001b[38;5;28mprint\u001b[39m(L1)\n",
      "\u001b[1;31mTypeError\u001b[0m: 'tuple' object does not support item assignment"
     ]
    }
   ],
   "source": [
    "#Tuple :--> Immutable Data Type : Edit/add/delete\n",
    "\n",
    "L1 = (1,2,3,4)\n",
    "\n",
    "L1[0] = 5\n",
    "\n",
    "print(L1)"
   ]
  },
  {
   "cell_type": "markdown",
   "id": "01597405",
   "metadata": {},
   "source": [
    "# operation"
   ]
  },
  {
   "cell_type": "code",
   "execution_count": 13,
   "id": "d77e2ef0",
   "metadata": {},
   "outputs": [
    {
     "name": "stdout",
     "output_type": "stream",
     "text": [
      "(1, 2, 3, 1, 2, 3)\n",
      "(1, 2, 3, 1, 2, 3, 1, 2, 3)\n",
      "False\n",
      "True\n",
      "True\n"
     ]
    }
   ],
   "source": [
    "#Arithmatic : + & *\n",
    "\n",
    "L1 = (1,2,3)\n",
    "L2 = (1,2,3)\n",
    "\n",
    "print(L1+L2)\n",
    "print(L1 * 3)\n",
    "\n",
    "#Relational : <,>,<=,>=,==,!=\n",
    "\n",
    "print(L1>L2)\n",
    "print(L1==L2)\n",
    "\n",
    "#Membership : in & not in\n",
    "\n",
    "print(1 in L1)"
   ]
  },
  {
   "cell_type": "markdown",
   "id": "94bfaf15",
   "metadata": {},
   "source": [
    "# 8. Functions:--> len,min,max,sorted"
   ]
  },
  {
   "cell_type": "code",
   "execution_count": 14,
   "id": "cec5c7a9",
   "metadata": {},
   "outputs": [
    {
     "name": "stdout",
     "output_type": "stream",
     "text": [
      "Len of L1 is :  11\n",
      "Max of L1 is :  82\n",
      "Min of L1 is :  10\n",
      "Assending order :  [10, 11, 12, 14, 17, 19, 23, 25, 26, 32, 82]\n",
      "Dessending order :  [82, 32, 26, 25, 23, 19, 17, 14, 12, 11, 10]\n"
     ]
    }
   ],
   "source": [
    "L1 = (25,11,23,14,17,82,19,26,32,10,12)\n",
    "\n",
    "print(\"Len of L1 is : \" , len(L1))\n",
    "print(\"Max of L1 is : \" , max(L1))\n",
    "print(\"Min of L1 is : \" , min(L1))\n",
    "print(\"Assending order : \" , sorted(L1))\n",
    "print(\"Dessending order : \" , sorted(L1 , reverse = True))"
   ]
  },
  {
   "cell_type": "markdown",
   "id": "1b2d6759",
   "metadata": {},
   "source": [
    "# Sets\n",
    "\n",
    "Create\n",
    "\n",
    "Access\n",
    "\n",
    "Edit\n",
    "\n",
    "Add\n",
    "\n",
    "Delete\n",
    "\n",
    "Operations\n",
    "\n",
    "Functions\n",
    "\n",
    "--------------------------------\n",
    "\n",
    "1.sets do not allow duplicates\n",
    "\n",
    "2.sets have no indexing/slicing\n",
    "\n",
    "3.sets do not allow mutable data type\n",
    "\n",
    "4.sets itself is mutable data type\n",
    "\n",
    "\n"
   ]
  },
  {
   "cell_type": "code",
   "execution_count": 21,
   "id": "e4df5346",
   "metadata": {},
   "outputs": [
    {
     "name": "stdout",
     "output_type": "stream",
     "text": [
      "Data Type of s1 :  <class 'set'>\n",
      "sets do not allow duplicates :  {1, 2, 3, 4, 5, 6, 7, 8, 9}\n",
      "{1, 2, 3, 5, 6, 7, 10, 11}\n",
      "[5, 1, 7, 2, 10, 11, 3, 6]\n",
      "{'Vishal', 101, 87.5}\n"
     ]
    }
   ],
   "source": [
    "#Create\n",
    "\n",
    "#1.sets do not allow duplicates\n",
    "\n",
    "s1 = {10,12,15}\n",
    "\n",
    "print(\"Data Type of s1 : \" , type(s1))\n",
    "\n",
    "s2 = {1,1,2,2,2,3,3,3,3,4,5,6,7,8,8,9,7,7}\n",
    "\n",
    "print(\"sets do not allow duplicates : \" , s2)\n",
    "\n",
    "s3 = {5,1,7,2,10,11,3,6}\n",
    "L3 = [5,1,7,2,10,11,3,6]\n",
    "\n",
    "print(s3)\n",
    "print(L3)\n",
    "\n",
    "s4 = {\"Vishal\",101,87.5}\n",
    "\n",
    "print(s4)"
   ]
  },
  {
   "cell_type": "code",
   "execution_count": 20,
   "id": "38a83fa4",
   "metadata": {},
   "outputs": [
    {
     "ename": "TypeError",
     "evalue": "'set' object is not subscriptable",
     "output_type": "error",
     "traceback": [
      "\u001b[1;31m---------------------------------------------------------------------------\u001b[0m",
      "\u001b[1;31mTypeError\u001b[0m                                 Traceback (most recent call last)",
      "Cell \u001b[1;32mIn[20], line 5\u001b[0m\n\u001b[0;32m      1\u001b[0m \u001b[38;5;66;03m#2.sets have no indexing/slicing\u001b[39;00m\n\u001b[0;32m      3\u001b[0m s4 \u001b[38;5;241m=\u001b[39m {\u001b[38;5;124m\"\u001b[39m\u001b[38;5;124mVishal\u001b[39m\u001b[38;5;124m\"\u001b[39m,\u001b[38;5;241m101\u001b[39m,\u001b[38;5;241m87.5\u001b[39m}\n\u001b[1;32m----> 5\u001b[0m \u001b[38;5;28mprint\u001b[39m(\u001b[38;5;124m\"\u001b[39m\u001b[38;5;124mName of student : \u001b[39m\u001b[38;5;124m\"\u001b[39m , s4[\u001b[38;5;241m0\u001b[39m])\n",
      "\u001b[1;31mTypeError\u001b[0m: 'set' object is not subscriptable"
     ]
    }
   ],
   "source": [
    "#2.sets have no indexing/slicing\n",
    "\n",
    "s4 = {\"Vishal\",101,87.5}\n",
    "\n",
    "print(\"Name of student : \" , s4[0]) #TypeError: 'set' object is not subscriptable"
   ]
  },
  {
   "cell_type": "code",
   "execution_count": 23,
   "id": "0482cf47",
   "metadata": {},
   "outputs": [
    {
     "name": "stdout",
     "output_type": "stream",
     "text": [
      "{'Vishal', (1, 2, 3)}\n"
     ]
    },
    {
     "ename": "TypeError",
     "evalue": "unhashable type: 'list'",
     "output_type": "error",
     "traceback": [
      "\u001b[1;31m---------------------------------------------------------------------------\u001b[0m",
      "\u001b[1;31mTypeError\u001b[0m                                 Traceback (most recent call last)",
      "Cell \u001b[1;32mIn[23], line 8\u001b[0m\n\u001b[0;32m      3\u001b[0m s5 \u001b[38;5;241m=\u001b[39m {\u001b[38;5;124m\"\u001b[39m\u001b[38;5;124mVishal\u001b[39m\u001b[38;5;124m\"\u001b[39m,(\u001b[38;5;241m1\u001b[39m,\u001b[38;5;241m2\u001b[39m,\u001b[38;5;241m3\u001b[39m)}\u001b[38;5;66;03m#Str/Tuple :--> both are immutable\u001b[39;00m\n\u001b[0;32m      5\u001b[0m \u001b[38;5;28mprint\u001b[39m(s5)\n\u001b[1;32m----> 8\u001b[0m s6 \u001b[38;5;241m=\u001b[39m {\u001b[38;5;124m\"\u001b[39m\u001b[38;5;124mVishal\u001b[39m\u001b[38;5;124m\"\u001b[39m,[\u001b[38;5;241m1\u001b[39m,\u001b[38;5;241m2\u001b[39m,\u001b[38;5;241m3\u001b[39m]} \u001b[38;5;66;03m#str/List\u001b[39;00m\n\u001b[0;32m     10\u001b[0m \u001b[38;5;28mprint\u001b[39m(s6)\n",
      "\u001b[1;31mTypeError\u001b[0m: unhashable type: 'list'"
     ]
    }
   ],
   "source": [
    "#3.sets do not allow mutable data type\n",
    "\n",
    "s5 = {\"Vishal\",(1,2,3)}#Str/Tuple :--> both are immutable\n",
    "\n",
    "print(s5)\n",
    "\n",
    "\n",
    "s6 = {\"Vishal\",[1,2,3]} #str/List\n",
    "\n",
    "print(s6)"
   ]
  },
  {
   "cell_type": "code",
   "execution_count": 24,
   "id": "5e884e81",
   "metadata": {},
   "outputs": [
    {
     "name": "stdout",
     "output_type": "stream",
     "text": [
      "{'Ajay', 'Vishal', 'Shital', 'Nitin'}\n"
     ]
    }
   ],
   "source": [
    "#4.sets itself is mutable data type\n",
    "\n",
    "\n",
    "#add\n",
    "name = {\"Vishal\",\"Ajay\",\"Nitin\"}\n",
    "\n",
    "name.add(\"Shital\")\n",
    "\n",
    "print(name)"
   ]
  },
  {
   "cell_type": "code",
   "execution_count": 26,
   "id": "dab2c7a9",
   "metadata": {},
   "outputs": [
    {
     "data": {
      "text/plain": [
       "{2, 4, 5, 6, 7, 8, 9, 10}"
      ]
     },
     "execution_count": 26,
     "metadata": {},
     "output_type": "execute_result"
    }
   ],
   "source": [
    "#delete\n",
    "\n",
    "s5 = {1,2,3,4,5,6,7,8,9,10}\n",
    "\n",
    "s5.pop()\n",
    "\n",
    "s5\n",
    "\n",
    "s5.remove(3)\n",
    "\n",
    "s5"
   ]
  },
  {
   "cell_type": "code",
   "execution_count": 31,
   "id": "bab22f64",
   "metadata": {},
   "outputs": [
    {
     "ename": "TypeError",
     "evalue": "unsupported operand type(s) for +: 'set' and 'set'",
     "output_type": "error",
     "traceback": [
      "\u001b[1;31m---------------------------------------------------------------------------\u001b[0m",
      "\u001b[1;31mTypeError\u001b[0m                                 Traceback (most recent call last)",
      "Cell \u001b[1;32mIn[31], line 8\u001b[0m\n\u001b[0;32m      5\u001b[0m s1 \u001b[38;5;241m=\u001b[39m {\u001b[38;5;241m1\u001b[39m,\u001b[38;5;241m2\u001b[39m,\u001b[38;5;241m3\u001b[39m}\n\u001b[0;32m      6\u001b[0m s2 \u001b[38;5;241m=\u001b[39m {\u001b[38;5;241m1\u001b[39m,\u001b[38;5;241m2\u001b[39m,\u001b[38;5;241m3\u001b[39m}\n\u001b[1;32m----> 8\u001b[0m \u001b[38;5;28mprint\u001b[39m(s1\u001b[38;5;241m+\u001b[39ms2)\n\u001b[0;32m      9\u001b[0m \u001b[38;5;28mprint\u001b[39m(s1\u001b[38;5;241m*\u001b[39m\u001b[38;5;241m3\u001b[39m)\n",
      "\u001b[1;31mTypeError\u001b[0m: unsupported operand type(s) for +: 'set' and 'set'"
     ]
    }
   ],
   "source": [
    "#Operations\n",
    "\n",
    "#Arithmatic : + & *\n",
    "\n",
    "s1 = {1,2,3}\n",
    "s2 = {1,2,3}\n",
    "\n",
    "print(s1+s2)\n",
    "print(s1*3)"
   ]
  },
  {
   "cell_type": "code",
   "execution_count": 30,
   "id": "5b4adcc4",
   "metadata": {},
   "outputs": [
    {
     "name": "stdout",
     "output_type": "stream",
     "text": [
      "False\n",
      "True\n",
      "True\n"
     ]
    }
   ],
   "source": [
    "print(s1>s2)\n",
    "print(s1==s2)\n",
    "print(1 in s1)"
   ]
  },
  {
   "cell_type": "markdown",
   "id": "593d3e0d",
   "metadata": {},
   "source": [
    "# Function"
   ]
  },
  {
   "cell_type": "code",
   "execution_count": 34,
   "id": "d357700f",
   "metadata": {},
   "outputs": [
    {
     "name": "stdout",
     "output_type": "stream",
     "text": [
      "Len of S1 :  8\n",
      "Max of S1 :  10\n",
      "Min of S1 :  1\n",
      "Sum of S1 :  48\n"
     ]
    }
   ],
   "source": [
    "#len/max/min/sum\n",
    "\n",
    "s1 = {1,2,5,5,6,6,7,8,9,9,10}\n",
    "\n",
    "print(\"Len of S1 : \" , len(s1))\n",
    "print(\"Max of S1 : \" , max(s1))\n",
    "print(\"Min of S1 : \" , min(s1))\n",
    "print(\"Sum of S1 : \" , sum(s1))"
   ]
  },
  {
   "cell_type": "code",
   "execution_count": 39,
   "id": "f65c2e5a",
   "metadata": {},
   "outputs": [
    {
     "data": {
      "text/plain": [
       "{1, 2, 3, 6, 7, 8}"
      ]
     },
     "execution_count": 39,
     "metadata": {},
     "output_type": "execute_result"
    }
   ],
   "source": [
    "s1 = {1,2,3,4,5}\n",
    "s2 = {4,5,6,7,8}\n",
    "\n",
    "s1.union(s2)\n",
    "s1.difference(s2)\n",
    "s2.difference(s1)\n",
    "s1.intersection(s2)\n",
    "s1.symmetric_difference(s2)"
   ]
  },
  {
   "cell_type": "code",
   "execution_count": null,
   "id": "79bb7315",
   "metadata": {},
   "outputs": [],
   "source": []
  },
  {
   "cell_type": "markdown",
   "id": "59273d3f",
   "metadata": {},
   "source": [
    "# Dictionary\n",
    "\n",
    "Create\n",
    "\n",
    "Access\n",
    "\n",
    "Edit\n",
    "\n",
    "Add\n",
    "\n",
    "Delete\n",
    "\n",
    "Operations\n",
    "\n",
    "Functions\n",
    "\n",
    "-------------------------------------\n",
    "\n",
    "1.Dic has no indexing\n",
    "\n",
    "2.It is Mutable Data type\n",
    "\n",
    "3.Key-->Immutable & values---> Mutable\n",
    "\n",
    "4.key should be unique\n"
   ]
  },
  {
   "cell_type": "code",
   "execution_count": 2,
   "id": "0b7e72b3",
   "metadata": {},
   "outputs": [
    {
     "name": "stdout",
     "output_type": "stream",
     "text": [
      "{'name': 'Vishal', 'City': 'Pune', 'Salary': 60000}\n",
      "{'M1': 61, 'M2': 68, 'M3': 72}\n"
     ]
    }
   ],
   "source": [
    "#Create\n",
    "\n",
    "D1 = {\"name\":\"Vishal\",\"City\":\"Pune\",\"Salary\":60000}\n",
    "\n",
    "print(D1)\n",
    "\n",
    "D2 = {\"M1\":61,\"M2\":68,\"M3\":72}\n",
    "\n",
    "print(D2)"
   ]
  },
  {
   "cell_type": "code",
   "execution_count": 6,
   "id": "2fa472c5",
   "metadata": {},
   "outputs": [
    {
     "name": "stdout",
     "output_type": "stream",
     "text": [
      "M1 mark :  61\n"
     ]
    },
    {
     "data": {
      "text/plain": [
       "{'M1': 61, 'M2': 68, 'M3': 72, 'Chem': 72}"
      ]
     },
     "execution_count": 6,
     "metadata": {},
     "output_type": "execute_result"
    }
   ],
   "source": [
    "#Access\n",
    "\n",
    "#1.Dic has no indexing\n",
    "\n",
    "#D2[0]\n",
    "\n",
    "print(\"M1 mark : \" , D2['M1'])\n",
    "\n",
    "D2 = {\"M1\":61,\"M2\":68,\"M3\":72,\"Chem\":72}\n",
    "\n",
    "D2"
   ]
  },
  {
   "cell_type": "code",
   "execution_count": 9,
   "id": "1cddfb3b",
   "metadata": {},
   "outputs": [
    {
     "name": "stdout",
     "output_type": "stream",
     "text": [
      "{'M1': 62, 'M2': 68, 'M3': 72}\n"
     ]
    }
   ],
   "source": [
    "D2 = {\"M1\":61,\"M2\":68,\"M3\":72 ,\"M1\":62}\n",
    "print(D2)"
   ]
  },
  {
   "cell_type": "code",
   "execution_count": 12,
   "id": "636441ec",
   "metadata": {},
   "outputs": [
    {
     "data": {
      "text/plain": [
       "{'M1': 72, 'M2': 68, 'M3': 72, 'Chem': 68}"
      ]
     },
     "execution_count": 12,
     "metadata": {},
     "output_type": "execute_result"
    }
   ],
   "source": [
    "#It is Mutable Data type\n",
    "\n",
    "D2['M1'] = 72 #Edit\n",
    "\n",
    "D2['Chem'] = 68 # Add\n",
    "\n",
    "D2"
   ]
  },
  {
   "cell_type": "code",
   "execution_count": 13,
   "id": "c10a5dcc",
   "metadata": {},
   "outputs": [
    {
     "data": {
      "text/plain": [
       "{'M2': 68, 'M3': 72, 'Chem': 68}"
      ]
     },
     "execution_count": 13,
     "metadata": {},
     "output_type": "execute_result"
    }
   ],
   "source": [
    "#Delete\n",
    "\n",
    "del(D2['M1'])\n",
    "\n",
    "D2"
   ]
  },
  {
   "cell_type": "code",
   "execution_count": 14,
   "id": "034f72c4",
   "metadata": {},
   "outputs": [
    {
     "ename": "TypeError",
     "evalue": "unsupported operand type(s) for +: 'dict' and 'dict'",
     "output_type": "error",
     "traceback": [
      "\u001b[1;31m---------------------------------------------------------------------------\u001b[0m",
      "\u001b[1;31mTypeError\u001b[0m                                 Traceback (most recent call last)",
      "Cell \u001b[1;32mIn[14], line 6\u001b[0m\n\u001b[0;32m      3\u001b[0m D1 \u001b[38;5;241m=\u001b[39m {\u001b[38;5;124m\"\u001b[39m\u001b[38;5;124mM1\u001b[39m\u001b[38;5;124m\"\u001b[39m:\u001b[38;5;241m61\u001b[39m,\u001b[38;5;124m\"\u001b[39m\u001b[38;5;124mM2\u001b[39m\u001b[38;5;124m\"\u001b[39m:\u001b[38;5;241m65\u001b[39m}\n\u001b[0;32m      4\u001b[0m D2 \u001b[38;5;241m=\u001b[39m {\u001b[38;5;124m\"\u001b[39m\u001b[38;5;124mName\u001b[39m\u001b[38;5;124m\"\u001b[39m:\u001b[38;5;124m\"\u001b[39m\u001b[38;5;124mVishal\u001b[39m\u001b[38;5;124m\"\u001b[39m,\u001b[38;5;124m\"\u001b[39m\u001b[38;5;124mAge\u001b[39m\u001b[38;5;124m\"\u001b[39m:\u001b[38;5;241m27\u001b[39m}\n\u001b[1;32m----> 6\u001b[0m \u001b[38;5;28mprint\u001b[39m(D1\u001b[38;5;241m+\u001b[39mD2)\n",
      "\u001b[1;31mTypeError\u001b[0m: unsupported operand type(s) for +: 'dict' and 'dict'"
     ]
    }
   ],
   "source": [
    "#Operations\n",
    "\n",
    "D1 = {\"M1\":61,\"M2\":65}\n",
    "D2 = {\"Name\":\"Vishal\",\"Age\":27}\n",
    "\n",
    "print(D1+D2)"
   ]
  },
  {
   "cell_type": "code",
   "execution_count": 15,
   "id": "a896abb0",
   "metadata": {},
   "outputs": [
    {
     "ename": "TypeError",
     "evalue": "'>' not supported between instances of 'dict' and 'dict'",
     "output_type": "error",
     "traceback": [
      "\u001b[1;31m---------------------------------------------------------------------------\u001b[0m",
      "\u001b[1;31mTypeError\u001b[0m                                 Traceback (most recent call last)",
      "Cell \u001b[1;32mIn[15], line 1\u001b[0m\n\u001b[1;32m----> 1\u001b[0m D1\u001b[38;5;241m>\u001b[39mD2\n",
      "\u001b[1;31mTypeError\u001b[0m: '>' not supported between instances of 'dict' and 'dict'"
     ]
    }
   ],
   "source": [
    "D1>D2"
   ]
  },
  {
   "cell_type": "code",
   "execution_count": 18,
   "id": "8f3e5cdb",
   "metadata": {},
   "outputs": [
    {
     "name": "stdout",
     "output_type": "stream",
     "text": [
      "False\n",
      "True\n"
     ]
    }
   ],
   "source": [
    "#Membership\n",
    "\n",
    "D1\n",
    "\n",
    "print(61 in D1) #Values cannot be check using Membesrship Operator\n",
    "\n",
    "print(\"M1\" in D1)\n"
   ]
  },
  {
   "cell_type": "code",
   "execution_count": 20,
   "id": "0ad1d824",
   "metadata": {},
   "outputs": [
    {
     "name": "stdout",
     "output_type": "stream",
     "text": [
      "{61: 62, 65: 82}\n"
     ]
    }
   ],
   "source": [
    "D3 = {61:62,65:82}\n",
    "\n",
    "print(D3)"
   ]
  },
  {
   "cell_type": "code",
   "execution_count": 24,
   "id": "0eb710d6",
   "metadata": {},
   "outputs": [
    {
     "name": "stdout",
     "output_type": "stream",
     "text": [
      "Keys in D1 :  dict_keys(['M1', 'M2'])\n",
      "Values in D1 :  dict_values([61, 65])\n"
     ]
    }
   ],
   "source": [
    "#Functions\n",
    "\n",
    "print(\"Keys in D1 : \" , D1.keys())\n",
    "print(\"Values in D1 : \" , D1.values())"
   ]
  }
 ],
 "metadata": {
  "kernelspec": {
   "display_name": "Python 3 (ipykernel)",
   "language": "python",
   "name": "python3"
  },
  "language_info": {
   "codemirror_mode": {
    "name": "ipython",
    "version": 3
   },
   "file_extension": ".py",
   "mimetype": "text/x-python",
   "name": "python",
   "nbconvert_exporter": "python",
   "pygments_lexer": "ipython3",
   "version": "3.11.5"
  }
 },
 "nbformat": 4,
 "nbformat_minor": 5
}
