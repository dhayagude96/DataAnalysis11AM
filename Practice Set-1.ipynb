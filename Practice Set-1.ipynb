{
 "cells": [
  {
   "cell_type": "markdown",
   "id": "132a37f4",
   "metadata": {},
   "source": [
    "# Write a Program to Accept User Name & Password .... Print both value with Proper formating"
   ]
  },
  {
   "cell_type": "code",
   "execution_count": 1,
   "id": "a7c5c5ed",
   "metadata": {},
   "outputs": [
    {
     "name": "stdout",
     "output_type": "stream",
     "text": [
      "Enter username:Vishal96\n",
      "Enter password:12345\n",
      "Username is: Vishal96 Password is: 12345\n"
     ]
    }
   ],
   "source": [
    "username = input(\"Enter username:\")\n",
    "password = input(\"Enter password:\")\n",
    "\n",
    "print(\"Username is:\",username,\"Password is:\",password)"
   ]
  },
  {
   "cell_type": "markdown",
   "id": "2e93c5fd",
   "metadata": {},
   "source": [
    "# 1.Write a program to do addition : take input from the user : No of Input 3"
   ]
  },
  {
   "cell_type": "code",
   "execution_count": 2,
   "id": "8266959f",
   "metadata": {},
   "outputs": [
    {
     "name": "stdout",
     "output_type": "stream",
     "text": [
      "Enter 1st number:12\n",
      "Enter 2nd number:15\n",
      "Enter 3rd number:60\n",
      "Addition is: 87\n"
     ]
    }
   ],
   "source": [
    "#Without Function\n",
    "\n",
    "num1 = int(input(\"Enter 1st number:\"))\n",
    "num2 = int(input(\"Enter 2nd number:\"))\n",
    "num3 = int(input(\"Enter 3rd number:\"))\n",
    "\n",
    "print(\"Addition is:\",num1+num2+num3)"
   ]
  },
  {
   "cell_type": "code",
   "execution_count": 4,
   "id": "1e6f1138",
   "metadata": {},
   "outputs": [],
   "source": [
    "#With Function\n",
    "\"\"\"\n",
    "def add(num1,num2,num3):\n",
    "    print(\"Addition is:\",num1+num2+num3)\n",
    "\n",
    "\n",
    "\"\"\"\n",
    "\n",
    "\n",
    "def add(a,b,c):\n",
    "    return a+b+c"
   ]
  },
  {
   "cell_type": "code",
   "execution_count": 5,
   "id": "8e92e5d3",
   "metadata": {},
   "outputs": [
    {
     "name": "stdout",
     "output_type": "stream",
     "text": [
      "Add of 20,15,60 is :  95\n"
     ]
    }
   ],
   "source": [
    "print('Add of 20,15,60 is : ' , add(20,15,60))"
   ]
  },
  {
   "cell_type": "markdown",
   "id": "ca63721d",
   "metadata": {},
   "source": [
    "# 2.Write a program to calculate area of Rectangle : Take input from User"
   ]
  },
  {
   "cell_type": "code",
   "execution_count": 6,
   "id": "a22548e6",
   "metadata": {},
   "outputs": [
    {
     "name": "stdout",
     "output_type": "stream",
     "text": [
      "Enter length:25\n",
      "Enter width:12\n",
      "Area of rectangle is: 300\n"
     ]
    }
   ],
   "source": [
    "#Without function\n",
    "\n",
    "length = int(input(\"Enter length:\"))\n",
    "width = int(input(\"Enter width:\"))\n",
    "\n",
    "Area = length*width\n",
    "\n",
    "print(\"Area of rectangle is:\",Area)\n"
   ]
  },
  {
   "cell_type": "code",
   "execution_count": 8,
   "id": "6e010c9d",
   "metadata": {},
   "outputs": [],
   "source": [
    "#With Function\n",
    "def Area(length,width):\n",
    "    print(\"Area of rectangle is:\",length*width)\n",
    "\n"
   ]
  },
  {
   "cell_type": "code",
   "execution_count": 9,
   "id": "36e1639a",
   "metadata": {},
   "outputs": [
    {
     "name": "stdout",
     "output_type": "stream",
     "text": [
      "Area of rectangle is: 300\n"
     ]
    }
   ],
   "source": [
    "Area(25,12)"
   ]
  },
  {
   "cell_type": "markdown",
   "id": "503b286d",
   "metadata": {},
   "source": [
    "# 3.Write a program to print wether enter number is odd or even : take input from user"
   ]
  },
  {
   "cell_type": "code",
   "execution_count": 11,
   "id": "bc0a546e",
   "metadata": {},
   "outputs": [
    {
     "name": "stdout",
     "output_type": "stream",
     "text": [
      "Enter Number :5\n",
      "Enter Number is Even ?  False\n"
     ]
    }
   ],
   "source": [
    "#odd : 1,3,5,7,9\n",
    "#even : 2,4,6,8\n",
    "\n",
    "num = int(input(\"Enter Number :\"))\n",
    "\n",
    "print(\"Enter Number is Even ? \" , num%2 ==0)  \n",
    "\n"
   ]
  },
  {
   "cell_type": "markdown",
   "id": "b5c32263",
   "metadata": {},
   "source": [
    "# 4.Write a Program to check whether enter number is postive or negative"
   ]
  },
  {
   "cell_type": "code",
   "execution_count": 14,
   "id": "7e149c96",
   "metadata": {},
   "outputs": [
    {
     "name": "stdout",
     "output_type": "stream",
     "text": [
      "Enter Number -15\n",
      "Enter Number is Positive ? False\n"
     ]
    }
   ],
   "source": [
    "num1 = int(input(\"Enter Number \"))\n",
    "\n",
    "print(\"Enter Number is Positive ?\" , num1>0)"
   ]
  },
  {
   "cell_type": "markdown",
   "id": "8cc8b2d8",
   "metadata": {},
   "source": [
    "# 5.Write a program to convert kilometer to miles"
   ]
  },
  {
   "cell_type": "code",
   "execution_count": 15,
   "id": "4d7ce373",
   "metadata": {},
   "outputs": [
    {
     "name": "stdout",
     "output_type": "stream",
     "text": [
      "Enter Kilometer :14\n",
      "14.0  km to  8.699194 Miles\n"
     ]
    }
   ],
   "source": [
    "#Without Function\n",
    "\n",
    "kilometer = float(input(\"Enter Kilometer :\"))\n",
    "\n",
    "miles = kilometer * 0.621371\n",
    "\n",
    "print(kilometer ,\" km\" , 'to ', miles , \"Miles\")"
   ]
  },
  {
   "cell_type": "code",
   "execution_count": 16,
   "id": "3ba31817",
   "metadata": {},
   "outputs": [],
   "source": [
    "#With Function\n",
    "def miles(kilometer):\n",
    "    miles = kilometer * 0.621371\n",
    "\n",
    "    print(kilometer ,\" km\" , 'to ', miles , \"Miles\")\n",
    "    "
   ]
  },
  {
   "cell_type": "code",
   "execution_count": 17,
   "id": "e79768e6",
   "metadata": {},
   "outputs": [
    {
     "name": "stdout",
     "output_type": "stream",
     "text": [
      "14  km to  8.699194 Miles\n"
     ]
    }
   ],
   "source": [
    "miles(14)"
   ]
  },
  {
   "cell_type": "markdown",
   "id": "d6222403",
   "metadata": {},
   "source": [
    "# 6.Write a program to Convert celsius into fehernheit"
   ]
  },
  {
   "cell_type": "code",
   "execution_count": 18,
   "id": "66c71ec2",
   "metadata": {},
   "outputs": [
    {
     "name": "stdout",
     "output_type": "stream",
     "text": [
      "Enter celsius:32\n",
      "Result is: 89.6\n"
     ]
    }
   ],
   "source": [
    "celsius = float(input(\"Enter celsius:\"))\n",
    "\n",
    "fahrenheit = ((celsius*1.8)+32)\n",
    "\n",
    "print(\"Result is:\",fahrenheit)"
   ]
  }
 ],
 "metadata": {
  "kernelspec": {
   "display_name": "Python 3 (ipykernel)",
   "language": "python",
   "name": "python3"
  },
  "language_info": {
   "codemirror_mode": {
    "name": "ipython",
    "version": 3
   },
   "file_extension": ".py",
   "mimetype": "text/x-python",
   "name": "python",
   "nbconvert_exporter": "python",
   "pygments_lexer": "ipython3",
   "version": "3.11.5"
  }
 },
 "nbformat": 4,
 "nbformat_minor": 5
}
