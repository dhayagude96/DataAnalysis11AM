{
 "cells": [
  {
   "cell_type": "markdown",
   "id": "967acb6a",
   "metadata": {},
   "source": [
    "# Control Flow Statment"
   ]
  },
  {
   "cell_type": "code",
   "execution_count": 5,
   "id": "aa1f5b42",
   "metadata": {},
   "outputs": [
    {
     "name": "stdout",
     "output_type": "stream",
     "text": [
      "Enter Your Age :253\n",
      "253 is Valid age\n"
     ]
    }
   ],
   "source": [
    "#if Age is gretter Than 18 then Valid Age \n",
    "\n",
    "age = int(input(\"Enter Your Age :\"))\n",
    "\n",
    "if age > 18:\n",
    "    print(age ,\"is Valid age\")\n",
    "    \n",
    "else :\n",
    "    print(age , \"is Invalid age\")"
   ]
  },
  {
   "cell_type": "code",
   "execution_count": 7,
   "id": "7e5550d3",
   "metadata": {},
   "outputs": [
    {
     "ename": "SyntaxError",
     "evalue": "invalid syntax (1931639806.py, line 6)",
     "output_type": "error",
     "traceback": [
      "\u001b[1;36m  Cell \u001b[1;32mIn[7], line 6\u001b[1;36m\u001b[0m\n\u001b[1;33m    else :\u001b[0m\n\u001b[1;37m    ^\u001b[0m\n\u001b[1;31mSyntaxError\u001b[0m\u001b[1;31m:\u001b[0m invalid syntax\n"
     ]
    }
   ],
   "source": [
    "age = int(input(\"Enter Your Age :\"))\n",
    "\n",
    "if age > 18:\n",
    "    print(age ,\"is Valid age\")\n",
    "    \n",
    "    else :\n",
    "    print(age , \"is Invalid age\")"
   ]
  },
  {
   "cell_type": "code",
   "execution_count": 11,
   "id": "1ffaf68a",
   "metadata": {},
   "outputs": [
    {
     "name": "stdout",
     "output_type": "stream",
     "text": [
      "Enter Your Age :19\n",
      "19 is Valid age\n"
     ]
    }
   ],
   "source": [
    "age = int(input(\"Enter Your Age :\"))\n",
    "\n",
    "if age > 18:\n",
    "    print(age ,\"is Valid age\")\n",
    "    \n",
    "elif age == 18 :\n",
    "    print(\"You have to Wait for 1  year\")\n",
    "    \n",
    "else :\n",
    "    print(age , \"is Invalid age\")"
   ]
  },
  {
   "cell_type": "code",
   "execution_count": 15,
   "id": "a7eb7e39",
   "metadata": {},
   "outputs": [
    {
     "name": "stdout",
     "output_type": "stream",
     "text": [
      "Enter Your ID :edutech@96\n",
      "Enter Your Password :1235\n",
      "Plz check Your Password\n"
     ]
    }
   ],
   "source": [
    "#Login Page\n",
    "\n",
    "#if-else-else\n",
    "\n",
    "user_id = \"edutech@96\"\n",
    "pwd = \"1234\"\n",
    "\n",
    "user = input(\"Enter Your ID :\")\n",
    "u_pwd = input(\"Enter Your Password :\")\n",
    "\n",
    "\n",
    "if user_id == user and pwd == u_pwd:\n",
    "    print(\"Welcome to EduTECH\")\n",
    "    \n",
    "    \n",
    "elif user_id != user and pwd == u_pwd :\n",
    "    print(\"Plz check Your ID \")\n",
    "    \n",
    "elif user_id == user and pwd != u_pwd :\n",
    "    print(\"Plz check Your Password\")\n",
    "    \n",
    "else :\n",
    "    print(\"Plz ckeck ID & Password\")"
   ]
  },
  {
   "cell_type": "code",
   "execution_count": 17,
   "id": "67f1a718",
   "metadata": {},
   "outputs": [
    {
     "name": "stdout",
     "output_type": "stream",
     "text": [
      "Enter Your ID :edutech@96\n",
      "Enter Your Password :1235\n",
      "Plz check Your Password\n",
      "Enter Your ID Again :1234\n",
      "Welcome to EduTECH\n"
     ]
    }
   ],
   "source": [
    "#Nested if-else\n",
    "\n",
    "\n",
    "user_id = \"edutech@96\"\n",
    "pwd = \"1234\"\n",
    "\n",
    "user = input(\"Enter Your ID :\")\n",
    "u_pwd = input(\"Enter Your Password :\")\n",
    "\n",
    "\n",
    "if user_id == user and pwd == u_pwd:\n",
    "    print(\"Welcome to EduTECH\")\n",
    "    \n",
    "    \n",
    "elif user_id != user and pwd == u_pwd :\n",
    "    print(\"Plz check Your ID \")\n",
    "    temp1 = input(\"Enter Your ID Again :\")\n",
    "    if user_id == temp1:\n",
    "        print(\"Welcome to EduTECH\")\n",
    "    else :\n",
    "        print(\"Your ID is Wrong Again\")\n",
    "    \n",
    "elif user_id == user and pwd != u_pwd :\n",
    "    print(\"Plz check Your Password\")\n",
    "    temp1 = input(\"Enter Your ID Again :\")\n",
    "    if pwd == temp1:\n",
    "        print(\"Welcome to EduTECH\")\n",
    "    else :\n",
    "        print(\"Your Password is Wrong Again\")\n",
    "    \n",
    "else :\n",
    "    print(\"Plz ckeck ID & Password\")"
   ]
  },
  {
   "cell_type": "code",
   "execution_count": null,
   "id": "115af6a4",
   "metadata": {},
   "outputs": [],
   "source": [
    "#Write a Program to Take input from user for user Review Print num of Star with user Review\n",
    "#Write a Program to Take input from user for calulator print user operation on same : add/sub/mult/div"
   ]
  }
 ],
 "metadata": {
  "kernelspec": {
   "display_name": "Python 3 (ipykernel)",
   "language": "python",
   "name": "python3"
  },
  "language_info": {
   "codemirror_mode": {
    "name": "ipython",
    "version": 3
   },
   "file_extension": ".py",
   "mimetype": "text/x-python",
   "name": "python",
   "nbconvert_exporter": "python",
   "pygments_lexer": "ipython3",
   "version": "3.11.5"
  }
 },
 "nbformat": 4,
 "nbformat_minor": 5
}
