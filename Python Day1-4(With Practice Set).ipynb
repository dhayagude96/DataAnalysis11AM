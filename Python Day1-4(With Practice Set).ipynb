{
 "cells": [
  {
   "cell_type": "markdown",
   "id": "c36e714e",
   "metadata": {},
   "source": [
    "# Python Day-1"
   ]
  },
  {
   "cell_type": "markdown",
   "id": "e799c68b",
   "metadata": {},
   "source": [
    "# What is Programing ??\n",
    "\n",
    "Programming is the process of creating computer software or applications using a programming language. A programming language is a set of instructions that tell a computer what to do, and programmers use these instructions to create programs that can perform specific tasks or solve particular problems.\n",
    "\n",
    "\n",
    "\n",
    "\n",
    "\n"
   ]
  },
  {
   "cell_type": "markdown",
   "id": "bca982f7",
   "metadata": {},
   "source": [
    "# Why Data Scientists/Analysis Need Programing?\n",
    "\n",
    "Data analysis often involves working with large datasets, which can be difficult to manage and analyze manually. Programming allows analysts to automate many of these tasks, making them more efficient and effective.\n",
    "\n",
    "Programming languages have powerful libraries and tools specifically designed for data analysis, making it easier to process, manipulate, and visualize data.\n",
    "\n",
    "Programming helps data analysts work with more complex data structures and larger datasets, which might not be possible using traditional spreadsheet software.\n",
    "\n",
    "By writing code, analysts can more easily repeat and modify analyses, making it easier to explore different data scenarios and test hypotheses.\n",
    "\n",
    "Programming enables data analysts to create custom data analyses that fit their specific needs, rather than relying on off-the-shelf solutions.\n",
    "\n",
    "The ability to write code also makes it easier to communicate with other data professionals and share analysis scripts and techniques.\n"
   ]
  },
  {
   "cell_type": "markdown",
   "id": "1915268c",
   "metadata": {},
   "source": [
    "# List of Language can be used By Data Scientist?\n",
    "\n",
    "R – language and environment for statistical computing and graphics\n",
    "\n",
    "Python – general purpose programming language\n",
    "\n",
    "SQL – Structured Query Language\n",
    "\n",
    "Java\n",
    "\n",
    "Scala\n",
    "\n",
    "Julia – programming language for high-performance numerical analysis and computational science\n",
    "\n",
    "MATLAB – programming language and environment for iterative analysis and design processes"
   ]
  },
  {
   "cell_type": "markdown",
   "id": "6708da63",
   "metadata": {},
   "source": [
    "# Why python for Data Scientist/Analyst?\n",
    "\n",
    "Large community and extensive library support\n",
    "\n",
    "Ease of use\n",
    "\n",
    "Powerful data manipulation capabilities\n",
    "\n",
    "Integration with other languages\n",
    "\n",
    "Versatility"
   ]
  },
  {
   "cell_type": "code",
   "execution_count": null,
   "id": "78e5acf7",
   "metadata": {},
   "outputs": [],
   "source": [
    "\n",
    "Add of Two Number :  48\n",
    "    \n",
    "print(\"Sub : \" , 25-23)\n",
    "Sub :  2\n",
    "    \n",
    "print(\"We are starting With New Data Analysis batch\")\n",
    "We are starting With New Data Analysis batch\n",
    "\n",
    "print('EduTECH Warje')\n",
    "print(\"We are starting with New Batch\")\n",
    "print(\"\"\"Data Analysis 11 AM\"\"\")\n",
    "\n",
    "EduTECH Warje\n",
    "We are starting with New Batch\n",
    "Data Analysis 11 AM\n",
    "\n",
    "print(\"IDNIA\",\"USA\",\"CHINA\")\n",
    "IDNIA USA CHINA\n",
    "\n",
    "print(\"INDIA\",\"USA\",\"CHINA\",sep=\"/\")\n",
    "INDIA/USA/CHINA\n",
    "\n",
    "print('INDIA','USA','CHINA',sep='//')\n",
    "INDIA//USA//CHINA\n",
    "\n",
    "print('INDIA','USA','CHINA',sep='\\n')\n",
    "INDIA\n",
    "USA\n",
    "CHINA"
   ]
  },
  {
   "cell_type": "markdown",
   "id": "cad3909d",
   "metadata": {},
   "source": [
    "# Python Day-2"
   ]
  },
  {
   "cell_type": "code",
   "execution_count": null,
   "id": "9566abe1",
   "metadata": {},
   "outputs": [],
   "source": [
    "#Write a Program to ask user for there name & course name : print this info\n",
    "\n",
    "#Function\n",
    "def info(name,c_name):\n",
    "    print(\"Hello \", name ,\" Welcome to EduTECH \")\n",
    "    print(name , \"Your Looking for \" , c_name , \" ?\")"
   ]
  },
  {
   "cell_type": "code",
   "execution_count": null,
   "id": "76bd8624",
   "metadata": {},
   "outputs": [],
   "source": [
    "s1 = info(\"Vishal\",\"Data Analysis\")"
   ]
  },
  {
   "cell_type": "markdown",
   "id": "3469cb81",
   "metadata": {},
   "source": [
    "# Indentation and Comment in Python :\n",
    "    \n",
    "•Indentation is the most significant concept of the Python programming language.\n",
    "\n",
    "•Improper use of indentation will end up \"IndentationError\" in our code.\n",
    "\n",
    "•Indentation is nothing but adding white spaces before the statement when it is needed.\n",
    "\n",
    "•Without indentation Python doesn't know which statement to be executed to next.\n",
    "\n",
    "•Indentation also defines which statements belong to which block.\n",
    "\n",
    "•If there is no indentation or improper indentation, it will display \"IndentationError\" and interrupt our code."
   ]
  },
  {
   "cell_type": "code",
   "execution_count": 1,
   "id": "a3daef63",
   "metadata": {},
   "outputs": [
    {
     "ename": "IndentationError",
     "evalue": "expected an indented block after function definition on line 3 (2808168529.py, line 4)",
     "output_type": "error",
     "traceback": [
      "\u001b[1;36m  Cell \u001b[1;32mIn[1], line 4\u001b[1;36m\u001b[0m\n\u001b[1;33m    print(\"Hello \", name ,\" Welcome to EduTECH \")\u001b[0m\n\u001b[1;37m    ^\u001b[0m\n\u001b[1;31mIndentationError\u001b[0m\u001b[1;31m:\u001b[0m expected an indented block after function definition on line 3\n"
     ]
    }
   ],
   "source": [
    "#IndentationError:\n",
    "\n",
    "def info(name,c_name):\n",
    "print(\"Hello \", name ,\" Welcome to EduTECH \")\n",
    "    print(name , \"Your Looking for \" , c_name , \" ?\")"
   ]
  },
  {
   "cell_type": "code",
   "execution_count": 2,
   "id": "b49a9e9a",
   "metadata": {},
   "outputs": [],
   "source": [
    "def emp(name,salary):\n",
    "    print(\"Emp Name is : \" , name)\n",
    "    print(\"Salary : \" ,salary)\n",
    "    \n",
    "#Assignment 1 : Write a program to take emp info : dept,salary,name,city :print 5 emp info    "
   ]
  },
  {
   "cell_type": "code",
   "execution_count": 3,
   "id": "a4fd771a",
   "metadata": {},
   "outputs": [
    {
     "name": "stdout",
     "output_type": "stream",
     "text": [
      "Emp Name is :  Sidharth\n",
      "Salary :  65000\n"
     ]
    }
   ],
   "source": [
    "e1 = emp(\"Sidharth\",65000)"
   ]
  },
  {
   "cell_type": "markdown",
   "id": "811c4c02",
   "metadata": {},
   "source": [
    "# Comments in Python"
   ]
  },
  {
   "cell_type": "code",
   "execution_count": null,
   "id": "e1b671f1",
   "metadata": {},
   "outputs": [],
   "source": [
    "def add(a,b):\n",
    "    \n",
    "    #single line comment\n",
    "    #This Program will return you add of Two Variables\n",
    "    \n",
    "    \"\"\"\n",
    "    This Multiline comment\n",
    "    \n",
    "    Code Created By :  Vishal\n",
    "    Date : 10/10/2023\n",
    "    Edited By : Ajay\n",
    "    Date : 12/10/2023\n",
    "    \n",
    "    \n",
    "    \n",
    "    \n",
    "    \"\"\"\n",
    "    \n",
    "    print(\"Add of Two Number is : \" , a+b)"
   ]
  },
  {
   "cell_type": "markdown",
   "id": "3dade8aa",
   "metadata": {},
   "source": [
    "# Python Identifiers/Variables\n",
    "\n",
    "•A variable name must start with either an English letter or underscore (_).\n",
    "\n",
    "•A variable name cannot start with the number.\n",
    "\n",
    "•Special characters are not allowed in the variable name.\n",
    "\n",
    "•The variable's name is case sensitive."
   ]
  },
  {
   "cell_type": "code",
   "execution_count": null,
   "id": "56ec8d8d",
   "metadata": {},
   "outputs": [],
   "source": [
    "#A variable name must start with either an English letter or underscore (_).\n",
    "\n",
    "name = \"Vishal\"\n",
    "_name = \"Dhayagude\"\n",
    "\n",
    "print(name)\n",
    "print(_name)\n",
    "\n",
    "#A variable name cannot start with the number.\n",
    "\n",
    "num1 = 25\n",
    "\n",
    "print(num1) #valid Variable\n",
    "\n",
    "1num = 28 #Invalid Variable\n",
    "\n",
    "\n",
    "#•Special characters are not allowed in the variable name.\n",
    "\n",
    "@age = 25\n",
    "%ht = 175 \n",
    "\n",
    "#The variable's name is case sensitive\n",
    "\n",
    "info = \"EduTECH\"\n",
    "INFO = \"Warje\"\n",
    "\n",
    "print(info)\n",
    "print(INFO)"
   ]
  },
  {
   "cell_type": "code",
   "execution_count": 5,
   "id": "84b1f472",
   "metadata": {},
   "outputs": [
    {
     "name": "stdout",
     "output_type": "stream",
     "text": [
      "Data Type of Age  :  <class 'int'>\n",
      "Age of Studnet :  25\n",
      "\n",
      "Data Type of Name  :  <class 'str'>\n"
     ]
    }
   ],
   "source": [
    "#In Python, we don't need to specify the type of variable \n",
    "#because Python is a infer language and smart enough to get variable type.\n",
    "\n",
    "#type():---> this function will return you data type of Variable\n",
    "age = 25\n",
    "\n",
    "print(\"Data Type of Age  : \" , type(age))\n",
    "\n",
    "print(\"Age of Studnet : \" , age)\n",
    "\n",
    "print()\n",
    "name = \"Vishal\"\n",
    "\n",
    "print(\"Data Type of Name  : \" , type(name))"
   ]
  },
  {
   "cell_type": "code",
   "execution_count": 4,
   "id": "c3904f58",
   "metadata": {},
   "outputs": [
    {
     "name": "stdout",
     "output_type": "stream",
     "text": [
      "Data Type of Age  :  <class 'int'>\n",
      "Age of Studnet :  28\n",
      "\n",
      "Data Type of Age  :  <class 'str'>\n"
     ]
    }
   ],
   "source": [
    "age = 28\n",
    "\n",
    "print(\"Data Type of Age  : \" , type(age))\n",
    "print(\"Age of Studnet : \" , age)\n",
    "\n",
    "\n",
    "print()\n",
    "age = \"28\"\n",
    "print(\"Data Type of Age  : \" , type(age))"
   ]
  },
  {
   "cell_type": "markdown",
   "id": "0bc4f2a1",
   "metadata": {},
   "source": [
    "# Python Day-3"
   ]
  },
  {
   "cell_type": "code",
   "execution_count": 6,
   "id": "9fc1f60e",
   "metadata": {},
   "outputs": [
    {
     "name": "stdout",
     "output_type": "stream",
     "text": [
      "Value of a :  150\n",
      "Loc/add of a  140720471844296\n",
      "\n",
      "Value of b :  150\n",
      "Loc/add of a  140720471844296\n",
      "\n",
      "Value of b :  250\n",
      "Loc/add of a  140720471847496\n"
     ]
    }
   ],
   "source": [
    "#Aalising\n",
    "\n",
    "a = 150\n",
    "b = a\n",
    "\n",
    "#type() :---> return data type of Variable\n",
    "#id() :---> return loc/address of that Variable\n",
    "\n",
    "\n",
    "print(\"Value of a : \" , a)\n",
    "print(\"Loc/add of a \" , id(a))\n",
    "print()\n",
    "print(\"Value of b : \" , b)\n",
    "print(\"Loc/add of a \" , id(b))\n",
    "print()\n",
    "\n",
    "b = 250\n",
    "print(\"Value of b : \" , b)\n",
    "print(\"Loc/add of a \" , id(b))"
   ]
  },
  {
   "cell_type": "code",
   "execution_count": 7,
   "id": "257042da",
   "metadata": {},
   "outputs": [
    {
     "name": "stdout",
     "output_type": "stream",
     "text": [
      "['False', 'None', 'True', 'and', 'as', 'assert', 'async', 'await', 'break', 'class', 'continue', 'def', 'del', 'elif', 'else', 'except', 'finally', 'for', 'from', 'global', 'if', 'import', 'in', 'is', 'lambda', 'nonlocal', 'not', 'or', 'pass', 'raise', 'return', 'try', 'while', 'with', 'yield']\n"
     ]
    }
   ],
   "source": [
    "#Keyword\n",
    "import keyword\n",
    "\n",
    "print(keyword.kwlist)"
   ]
  },
  {
   "cell_type": "code",
   "execution_count": null,
   "id": "e9728ae2",
   "metadata": {},
   "outputs": [],
   "source": [
    "#Diff btw Keyword & Function\n",
    "\n",
    "for\n",
    "id()\n",
    "sum()\n",
    "max()"
   ]
  },
  {
   "cell_type": "code",
   "execution_count": 8,
   "id": "32df7c0b",
   "metadata": {},
   "outputs": [
    {
     "name": "stdout",
     "output_type": "stream",
     "text": [
      "<class 'int'>\n",
      "<class 'str'>\n",
      "<class 'float'>\n"
     ]
    }
   ],
   "source": [
    "#Python is Dyamic Lang : We don't have to specify data type of Variable & also we can use that variable\n",
    "#again & reassign values\n",
    "\n",
    "\n",
    "age = 27 #int\n",
    "print(type(age))\n",
    "name = \"Vishal\" #str\n",
    "print(type(name))\n",
    "salary = 64.5 #float\n",
    "print(type(salary))"
   ]
  },
  {
   "cell_type": "code",
   "execution_count": 9,
   "id": "49363b7b",
   "metadata": {},
   "outputs": [
    {
     "name": "stdout",
     "output_type": "stream",
     "text": [
      "<class 'str'>\n",
      "<class 'int'>\n",
      "<class 'str'>\n"
     ]
    }
   ],
   "source": [
    "age = \"27\" #int\n",
    "print(type(age))\n",
    "name = 250200 #str\n",
    "print(type(name))\n",
    "salary = \"64.5\" #float\n",
    "print(type(salary))"
   ]
  },
  {
   "cell_type": "code",
   "execution_count": 10,
   "id": "03ff2639",
   "metadata": {},
   "outputs": [
    {
     "name": "stdout",
     "output_type": "stream",
     "text": [
      "Add of a & b is :  54\n",
      "Sub of a & b is :  -4\n",
      "Div of a & b is :  0.8620689655172413\n",
      "Mult of a & b is :  725\n",
      "\n",
      "x div by y Riminder is :  1\n"
     ]
    }
   ],
   "source": [
    "#Operators\n",
    "\n",
    "#Arithmatic :( +,-,/,*,% )  & (**,//)\n",
    "\n",
    "a = 25\n",
    "b = 29\n",
    "\n",
    "print(\"Add of a & b is : \" , a+b)\n",
    "print(\"Sub of a & b is : \" , a-b)\n",
    "print(\"Div of a & b is : \" , a/b)\n",
    "print(\"Mult of a & b is : \" , a*b)\n",
    "\n",
    "print()\n",
    "\n",
    "x = 11\n",
    "y = 2\n",
    "\n",
    "print(\"x div by y Riminder is : \" , x%y)"
   ]
  },
  {
   "cell_type": "code",
   "execution_count": 11,
   "id": "991a9b83",
   "metadata": {},
   "outputs": [
    {
     "name": "stdout",
     "output_type": "stream",
     "text": [
      "2 pow 3 :  8\n",
      "4 pow 10 :  1048576\n"
     ]
    }
   ],
   "source": [
    "print(\"2 pow 3 : \" , 2**3)\n",
    "print(\"4 pow 10 : \" , 4**10)"
   ]
  },
  {
   "cell_type": "code",
   "execution_count": 12,
   "id": "44b11b96",
   "metadata": {},
   "outputs": [
    {
     "name": "stdout",
     "output_type": "stream",
     "text": [
      "x1  div by y1 :  2.5\n",
      "x1  floor div by y1 :  2\n"
     ]
    }
   ],
   "source": [
    "x1 = 25\n",
    "y1 = 10\n",
    "\n",
    "print(\"x1  div by y1 : \" , x1/y1)#float ans\n",
    "print(\"x1  floor div by y1 : \" , x1//y1)#int ans"
   ]
  },
  {
   "cell_type": "code",
   "execution_count": 13,
   "id": "4abd754c",
   "metadata": {},
   "outputs": [
    {
     "name": "stdout",
     "output_type": "stream",
     "text": [
      "x is gretter than y :  True\n",
      "x is gretter than z :  False\n",
      "x is equal to z :  True\n",
      "x is equal to z :  False\n"
     ]
    }
   ],
   "source": [
    "#Relational Operator: >,<,<=,>=,==,!= :---> boolean (true Or false)\n",
    "\n",
    "x = 25\n",
    "y = 10\n",
    "z = 25\n",
    "\n",
    "print(\"x is gretter than y : \" , x>y)\n",
    "print(\"x is gretter than z : \" , x>z)\n",
    "print(\"x is equal to z : \" , x==z)\n",
    "print(\"x is equal to z : \" , x!=z)"
   ]
  },
  {
   "cell_type": "code",
   "execution_count": 14,
   "id": "c52aca47",
   "metadata": {},
   "outputs": [
    {
     "name": "stdout",
     "output_type": "stream",
     "text": [
      "False\n",
      "True\n"
     ]
    }
   ],
   "source": [
    "#Logical Operator : and & or\n",
    "\n",
    "\"\"\"\n",
    "\n",
    "True and True = True\n",
    "True and False = False\n",
    "False and True = False\n",
    "False and False = False\n",
    "-----------------------------\n",
    "\n",
    "True or True = True\n",
    "True or False = True\n",
    "False or True = True\n",
    "False or False = False\n",
    "\n",
    "\n",
    "\n",
    "\n",
    "\"\"\"\n",
    "x = 25\n",
    "y = 10\n",
    "z = 25\n",
    "\n",
    "print( x > y and z < y) # True and False = False\n",
    "print( x > y or z < y ) # True or False = True\n"
   ]
  },
  {
   "cell_type": "markdown",
   "id": "c10784ba",
   "metadata": {},
   "source": [
    "# Python Day-4"
   ]
  },
  {
   "cell_type": "code",
   "execution_count": 15,
   "id": "a3cbeebe",
   "metadata": {},
   "outputs": [
    {
     "name": "stdout",
     "output_type": "stream",
     "text": [
      "True\n",
      "True\n",
      "True\n"
     ]
    }
   ],
   "source": [
    "#Membership Operator\n",
    "\n",
    "# in & not in : ---> True/False\n",
    "\n",
    "msg = \"Welcome to EduTECH World of EduCATION\"\n",
    "\n",
    "print(\"E\" in msg)\n",
    "\n",
    "print(\"EduTECH\" in msg)\n",
    "\n",
    "print(\"Data Analysis\" not in msg)"
   ]
  },
  {
   "cell_type": "code",
   "execution_count": 16,
   "id": "9f07dc95",
   "metadata": {},
   "outputs": [
    {
     "name": "stdout",
     "output_type": "stream",
     "text": [
      "address of a :  140720471844296\n",
      "address of b :  140720471844296\n",
      "\n",
      "A is B ? True\n"
     ]
    }
   ],
   "source": [
    "#Identity Operator\n",
    "\n",
    "#is & is not :---> True/False\n",
    "\n",
    "a = 150\n",
    "b = a\n",
    "\n",
    "print(\"address of a : \" , id(a))\n",
    "\n",
    "\n",
    "print(\"address of b : \" , id(b))\n",
    "\n",
    "print()\n",
    "\n",
    "print(\"A is B ?\" ,a is b)"
   ]
  },
  {
   "cell_type": "code",
   "execution_count": 17,
   "id": "ff271a73",
   "metadata": {},
   "outputs": [
    {
     "name": "stdout",
     "output_type": "stream",
     "text": [
      "Enter Your Name : \n",
      "vishal\n",
      "Hello  vishal  Welcome to EduTECH\n"
     ]
    }
   ],
   "source": [
    "#Input Function\n",
    "\n",
    "#input():---> input function will return you string \n",
    "\n",
    "print(\"Enter Your Name : \")\n",
    "\n",
    "name = input()\n",
    "\n",
    "print(\"Hello \" , name , \" Welcome to EduTECH\")"
   ]
  },
  {
   "cell_type": "code",
   "execution_count": null,
   "id": "d5dd96bd",
   "metadata": {},
   "outputs": [],
   "source": [
    "print(\"Enter Your name & Course name\")\n",
    "\n",
    "name = input()\n",
    "c_name = input()\n",
    "\n",
    "print(name , \" Are your Looking for \" , c_name , \" ? \")"
   ]
  },
  {
   "cell_type": "code",
   "execution_count": null,
   "id": "3b18ac92",
   "metadata": {},
   "outputs": [],
   "source": [
    "print(\"Welcome to EduTECH\")\n",
    "\n",
    "name = input(\"What is Your Name : \")\n",
    "c_name = input(\"What Cousre are your Looking for : \")\n",
    "\n",
    "print(name , \" Are your Looking for \" , c_name , \" ? \")"
   ]
  },
  {
   "cell_type": "code",
   "execution_count": null,
   "id": "e92b5431",
   "metadata": {},
   "outputs": [],
   "source": [
    "#Write a Program to Take user input & perfrom add on them\n",
    "\n",
    "print(\"Enter Two Number for Add\")\n",
    "\n",
    "a = input(\"Enter 1st Number :\")#10 String\n",
    "b = input(\"Enter 2nd Number :\")#15 String\n",
    "\n",
    "print(\"Add of Two Number is : \", a+b)#1015 (10 + 15 = 1015)"
   ]
  },
  {
   "cell_type": "code",
   "execution_count": null,
   "id": "297292b2",
   "metadata": {},
   "outputs": [],
   "source": [
    "#TypeCasting :--> Converting one Data type into another Data Type : int()/float()/str()/list()/tuple()\n",
    "\n",
    "#Write a Program to Take user input & perfrom add on them\n",
    "\n",
    "print(\"Enter Two Number for Add\")\n",
    "\n",
    "a = int(input(\"Enter 1st Number :\"))\n",
    "b = int(input(\"Enter 2nd Number :\"))\n",
    "\n",
    "print(\"Add of Two Number is : \", a+b)#25"
   ]
  },
  {
   "cell_type": "code",
   "execution_count": null,
   "id": "8927a29f",
   "metadata": {},
   "outputs": [],
   "source": [
    "name = \"EduTECH\"\n",
    "NAME = \" Warje\"\n",
    "\n",
    "print(name + NAME)#Concatination"
   ]
  },
  {
   "cell_type": "code",
   "execution_count": null,
   "id": "9f8fe928",
   "metadata": {},
   "outputs": [],
   "source": [
    "#Write a Program to take input from user for subject : math/bio/chem/phys (out of 30)\n",
    "#print student total marks & avg \n",
    "\n",
    "\n",
    "\"\"\"\n",
    "Step 1: take input from user for Subject mark\n",
    "\n",
    "Step 2: Perform add\n",
    "\n",
    "Step 3 :  Calculate Avg\n",
    "\n",
    "Step 4 : Print Ans\n",
    "\n",
    "\n",
    "\n",
    "\"\"\"\n",
    "\n",
    "#Step 1: take input from user for Subject mark\n",
    "\n",
    "name = input(\"Enter Student Name :\")\n",
    "\n",
    "math = int(input(\"Enter your math mark:\"))\n",
    "bio = int(input(\"Enter your bio mark:\"))\n",
    "chem = int(input(\"Enter your chem mark:\"))\n",
    "phys = int(input(\"Enter your physics mark:\"))\n",
    "\n",
    "#Step 2: Perform add\n",
    "marks = math + bio + chem + phys\n",
    "\n",
    "#Step 3 :  Calculate Avg\n",
    "avg = marks / 4\n",
    "\n",
    "#Step 4 : Print Ans\n",
    "\n",
    "print(name , \" You have got sum of all Marks \" , marks  ,\" avg marks are : \" , avg)"
   ]
  },
  {
   "cell_type": "code",
   "execution_count": null,
   "id": "d59a9a5b",
   "metadata": {},
   "outputs": [],
   "source": []
  },
  {
   "cell_type": "code",
   "execution_count": null,
   "id": "8671a295",
   "metadata": {},
   "outputs": [],
   "source": [
    "#Write a Program to Accept User Name & Password .... Print both value with Proper formating\n",
    "\n",
    "username = input(\"Enter username:\")\n",
    "password = input(\"Enter password:\")\n",
    "\n",
    "print(\"Username is:\",username,\"Password is:\",password)\n",
    "Enter username:Vishal96\n",
    "Enter password:12345\n",
    "Username is: Vishal96 Password is: 12345\n",
    "        \n",
    "        \n",
    "#1.Write a program to do addition : take input from the user : No of Input 3\n",
    "#Without Function\n",
    "\n",
    "num1 = int(input(\"Enter 1st number:\"))\n",
    "num2 = int(input(\"Enter 2nd number:\"))\n",
    "num3 = int(input(\"Enter 3rd number:\"))\n",
    "\n",
    "print(\"Addition is:\",num1+num2+num3)\n",
    "Enter 1st number:12\n",
    "Enter 2nd number:15\n",
    "Enter 3rd number:60\n",
    "Addition is: 87\n",
    "    \n",
    "#With Function\n",
    "\"\"\"\n",
    "def add(num1,num2,num3):\n",
    "    print(\"Addition is:\",num1+num2+num3)\n",
    "\n",
    "\n",
    "\"\"\"\n",
    "\n",
    "\n",
    "def add(a,b,c):\n",
    "    return a+b+c\n",
    "print('Add of 20,15,60 is : ' , add(20,15,60))\n",
    "Add of 20,15,60 is :  95\n",
    "    \n",
    "#2.Write a program to calculate area of Rectangle : Take input from User\n",
    "#Without function\n",
    "\n",
    "length = int(input(\"Enter length:\"))\n",
    "width = int(input(\"Enter width:\"))\n",
    "\n",
    "Area = length*width\n",
    "\n",
    "print(\"Area of rectangle is:\",Area)\n",
    "\n",
    "Enter length:25\n",
    "Enter width:12\n",
    "Area of rectangle is: 300\n",
    "    \n",
    "#With Function\n",
    "def Area(length,width):\n",
    "    print(\"Area of rectangle is:\",length*width)\n",
    "\n",
    "\n",
    "Area(25,12)\n",
    "Area of rectangle is: 300\n",
    "    \n",
    "#3.Write a program to print wether enter number is odd or even : take input from user\n",
    "#odd : 1,3,5,7,9\n",
    "#even : 2,4,6,8\n",
    "\n",
    "num = int(input(\"Enter Number :\"))\n",
    "\n",
    "print(\"Enter Number is Even ? \" , num%2 ==0)  \n",
    "\n",
    "\n",
    "Enter Number :5\n",
    "Enter Number is Even ?  False\n",
    "\n",
    "#4.Write a Program to check whether enter number is postive or negative\n",
    "num1 = int(input(\"Enter Number \"))\n",
    "\n",
    "print(\"Enter Number is Positive ?\" , num1>0)\n",
    "Enter Number -15\n",
    "Enter Number is Positive ? False\n",
    "5.Write a program to convert kilometer to miles\n",
    "#Without Function\n",
    "\n",
    "kilometer = float(input(\"Enter Kilometer :\"))\n",
    "\n",
    "miles = kilometer * 0.621371\n",
    "\n",
    "print(kilometer ,\" km\" , 'to ', miles , \"Miles\")\n",
    "Enter Kilometer :14\n",
    "14.0  km to  8.699194 Miles\n",
    "#With Function\n",
    "def miles(kilometer):\n",
    "    miles = kilometer * 0.621371\n",
    "\n",
    "    print(kilometer ,\" km\" , 'to ', miles , \"Miles\")\n",
    "    \n",
    "miles(14)\n",
    "14  km to  8.699194 Miles\n",
    "\n",
    "#6.Write a program to Convert celsius into fehernheit\n",
    "\n",
    "celsius = float(input(\"Enter celsius:\"))\n",
    "\n",
    "fahrenheit = ((celsius*1.8)+32)\n",
    "\n",
    "print(\"Result is:\",fahrenheit)\n",
    "Enter celsius:32\n",
    "Result is: 89.6\n"
   ]
  }
 ],
 "metadata": {
  "kernelspec": {
   "display_name": "Python 3 (ipykernel)",
   "language": "python",
   "name": "python3"
  },
  "language_info": {
   "codemirror_mode": {
    "name": "ipython",
    "version": 3
   },
   "file_extension": ".py",
   "mimetype": "text/x-python",
   "name": "python",
   "nbconvert_exporter": "python",
   "pygments_lexer": "ipython3",
   "version": "3.11.3"
  }
 },
 "nbformat": 4,
 "nbformat_minor": 5
}
