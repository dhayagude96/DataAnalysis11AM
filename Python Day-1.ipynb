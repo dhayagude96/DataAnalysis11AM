{
 "cells": [
  {
   "cell_type": "markdown",
   "id": "9b02d202",
   "metadata": {},
   "source": [
    "# What is Programing ??\n",
    "\n",
    "Programming is the process of creating computer software or applications using a programming language. A programming language is a set of instructions that tell a computer what to do, and programmers use these instructions to create programs that can perform specific tasks or solve particular problems.\n",
    "\n"
   ]
  },
  {
   "cell_type": "markdown",
   "id": "4d8ed62e",
   "metadata": {},
   "source": [
    "# Why Data Scientists/Analysis Need Programing?\n",
    "\n",
    "Data analysis often involves working with large datasets, which can be difficult to manage and analyze manually. Programming allows analysts to automate many of these tasks, making them more efficient and effective.\n",
    "\n",
    "Programming languages have powerful libraries and tools specifically designed for data analysis, making it easier to process, manipulate, and visualize data.\n",
    "\n",
    "Programming helps data analysts work with more complex data structures and larger datasets, which might not be possible using traditional spreadsheet software.\n",
    "\n",
    "By writing code, analysts can more easily repeat and modify analyses, making it easier to explore different data scenarios and test hypotheses.\n",
    "\n",
    "Programming enables data analysts to create custom data analyses that fit their specific needs, rather than relying on off-the-shelf solutions.\n",
    "\n",
    "The ability to write code also makes it easier to communicate with other data professionals and share analysis scripts and techniques.\n"
   ]
  },
  {
   "cell_type": "markdown",
   "id": "8e30d581",
   "metadata": {},
   "source": [
    "# List of Language can be used By Data  Scientist?\n",
    "\n",
    "1. R – language and environment for statistical computing and graphics \n",
    "2. Python – general purpose programming language\n",
    "3. SQL – Structured Query Language\n",
    "4. Java\n",
    "5. Scala\n",
    "6. Julia – programming language for high-performance numerical analysis and computational science\n",
    "7. MATLAB – programming language and environment for iterative analysis and design processes\n",
    "\n"
   ]
  },
  {
   "cell_type": "markdown",
   "id": "2a5e9056",
   "metadata": {},
   "source": [
    "# Why python for Data Scientist/Analyst?\n",
    "\n",
    "Large community and extensive library support\n",
    "\n",
    "Ease of use\n",
    "\n",
    "Powerful data manipulation capabilities\n",
    "\n",
    "Integration with other languages\n",
    "\n",
    "Versatility\n",
    "\n",
    "\n"
   ]
  },
  {
   "cell_type": "code",
   "execution_count": 2,
   "id": "60c5747b",
   "metadata": {},
   "outputs": [
    {
     "name": "stdout",
     "output_type": "stream",
     "text": [
      "Add of Two Number :  48\n"
     ]
    }
   ],
   "source": [
    "print(\"Add of Two Number : \" , 25+23)\n"
   ]
  },
  {
   "cell_type": "code",
   "execution_count": 4,
   "id": "a4018ce8",
   "metadata": {},
   "outputs": [
    {
     "name": "stdout",
     "output_type": "stream",
     "text": [
      "Sub :  2\n"
     ]
    }
   ],
   "source": [
    "print(\"Sub : \" , 25-23)"
   ]
  },
  {
   "cell_type": "code",
   "execution_count": 5,
   "id": "3815c1ef",
   "metadata": {},
   "outputs": [
    {
     "name": "stdout",
     "output_type": "stream",
     "text": [
      "We are starting With New Data Analysis batch\n"
     ]
    }
   ],
   "source": [
    "print(\"We are starting With New Data Analysis batch\")"
   ]
  },
  {
   "cell_type": "code",
   "execution_count": 8,
   "id": "98be0fe6",
   "metadata": {},
   "outputs": [
    {
     "name": "stdout",
     "output_type": "stream",
     "text": [
      "EduTECH Warje\n",
      "We are starting with New Batch\n",
      "Data Analysis 11 AM\n"
     ]
    }
   ],
   "source": [
    "print('EduTECH Warje')\n",
    "print(\"We are starting with New Batch\")\n",
    "print(\"\"\"Data Analysis 11 AM\"\"\")"
   ]
  },
  {
   "cell_type": "code",
   "execution_count": 9,
   "id": "fec181a1",
   "metadata": {},
   "outputs": [
    {
     "name": "stdout",
     "output_type": "stream",
     "text": [
      "IDNIA USA CHINA\n"
     ]
    }
   ],
   "source": [
    "print(\"IDNIA\",\"USA\",\"CHINA\")"
   ]
  },
  {
   "cell_type": "code",
   "execution_count": 10,
   "id": "89594e2e",
   "metadata": {},
   "outputs": [
    {
     "name": "stdout",
     "output_type": "stream",
     "text": [
      "INDIA/USA/CHINA\n"
     ]
    }
   ],
   "source": [
    "print(\"INDIA\",\"USA\",\"CHINA\",sep=\"/\")"
   ]
  },
  {
   "cell_type": "code",
   "execution_count": 14,
   "id": "dcec6e94",
   "metadata": {},
   "outputs": [
    {
     "name": "stdout",
     "output_type": "stream",
     "text": [
      "INDIA//USA//CHINA\n"
     ]
    }
   ],
   "source": [
    "print('INDIA','USA','CHINA',sep='//')"
   ]
  },
  {
   "cell_type": "code",
   "execution_count": 16,
   "id": "df593108",
   "metadata": {},
   "outputs": [
    {
     "name": "stdout",
     "output_type": "stream",
     "text": [
      "INDIA\n",
      "USA\n",
      "CHINA\n"
     ]
    }
   ],
   "source": [
    "print('INDIA','USA','CHINA',sep='\\n')"
   ]
  }
 ],
 "metadata": {
  "kernelspec": {
   "display_name": "Python 3 (ipykernel)",
   "language": "python",
   "name": "python3"
  },
  "language_info": {
   "codemirror_mode": {
    "name": "ipython",
    "version": 3
   },
   "file_extension": ".py",
   "mimetype": "text/x-python",
   "name": "python",
   "nbconvert_exporter": "python",
   "pygments_lexer": "ipython3",
   "version": "3.11.3"
  }
 },
 "nbformat": 4,
 "nbformat_minor": 5
}
