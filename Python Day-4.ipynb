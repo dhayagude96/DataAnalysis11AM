{
 "cells": [
  {
   "cell_type": "markdown",
   "id": "efda3d51",
   "metadata": {},
   "source": [
    "# Membership Operator"
   ]
  },
  {
   "cell_type": "code",
   "execution_count": 4,
   "id": "bbdce629",
   "metadata": {},
   "outputs": [
    {
     "name": "stdout",
     "output_type": "stream",
     "text": [
      "True\n",
      "True\n",
      "True\n"
     ]
    }
   ],
   "source": [
    "# in & not in : ---> True/False\n",
    "\n",
    "msg = \"Welcome to EduTECH World of EduCATION\"\n",
    "\n",
    "print(\"E\" in msg)\n",
    "\n",
    "print(\"EduTECH\" in msg)\n",
    "\n",
    "print(\"Data Analysis\" not in msg)"
   ]
  },
  {
   "cell_type": "markdown",
   "id": "06c9ae63",
   "metadata": {},
   "source": [
    "# Identity Operator"
   ]
  },
  {
   "cell_type": "code",
   "execution_count": 7,
   "id": "4f447ee9",
   "metadata": {},
   "outputs": [
    {
     "name": "stdout",
     "output_type": "stream",
     "text": [
      "address of a :  140721415955912\n",
      "address of b :  140721415955912\n",
      "\n",
      "A is B ? True\n"
     ]
    }
   ],
   "source": [
    "#is & is not :---> True/False\n",
    "\n",
    "a = 150\n",
    "b = a\n",
    "\n",
    "print(\"address of a : \" , id(a))\n",
    "\n",
    "\n",
    "print(\"address of b : \" , id(b))\n",
    "\n",
    "print()\n",
    "\n",
    "print(\"A is B ?\" ,a is b)"
   ]
  },
  {
   "cell_type": "markdown",
   "id": "c47bdc35",
   "metadata": {},
   "source": [
    "# Input Function"
   ]
  },
  {
   "cell_type": "code",
   "execution_count": 8,
   "id": "538dd998",
   "metadata": {},
   "outputs": [
    {
     "name": "stdout",
     "output_type": "stream",
     "text": [
      "Enter Your Name : \n",
      "Vishal\n",
      "Hello  Vishal  Welcome to EduTECH\n"
     ]
    }
   ],
   "source": [
    "#input():---> input function will return you string \n",
    "\n",
    "print(\"Enter Your Name : \")\n",
    "\n",
    "name = input()\n",
    "\n",
    "print(\"Hello \" , name , \" Welcome to EduTECH\")"
   ]
  },
  {
   "cell_type": "code",
   "execution_count": 10,
   "id": "d2c8ca87",
   "metadata": {},
   "outputs": [
    {
     "name": "stdout",
     "output_type": "stream",
     "text": [
      "Enter Your name & Course name\n",
      "Sidharth\n",
      "Data Science\n",
      "Sidharth  Are your Looking for  Data Science  ? \n"
     ]
    }
   ],
   "source": [
    "print(\"Enter Your name & Course name\")\n",
    "\n",
    "name = input()\n",
    "c_name = input()\n",
    "\n",
    "print(name , \" Are your Looking for \" , c_name , \" ? \")"
   ]
  },
  {
   "cell_type": "code",
   "execution_count": 11,
   "id": "3e7fa66f",
   "metadata": {},
   "outputs": [
    {
     "name": "stdout",
     "output_type": "stream",
     "text": [
      "Welcome to EduTECH\n",
      "What is Your Name : Abhijeet\n",
      "What Cousre are your Looking for : Data Analysis\n",
      "Abhijeet  Are your Looking for  Data Analysis  ? \n"
     ]
    }
   ],
   "source": [
    "print(\"Welcome to EduTECH\")\n",
    "\n",
    "name = input(\"What is Your Name : \")\n",
    "c_name = input(\"What Cousre are your Looking for : \")\n",
    "\n",
    "print(name , \" Are your Looking for \" , c_name , \" ? \")"
   ]
  },
  {
   "cell_type": "code",
   "execution_count": 12,
   "id": "0c3226aa",
   "metadata": {},
   "outputs": [
    {
     "name": "stdout",
     "output_type": "stream",
     "text": [
      "Enter Two Number for Add\n",
      "Enter 1st Number :10\n",
      "Enter 2nd Number :15\n",
      "Add of Two Number is :  1015\n"
     ]
    }
   ],
   "source": [
    "#Write a Program to Take user input & perfrom add on them\n",
    "\n",
    "print(\"Enter Two Number for Add\")\n",
    "\n",
    "a = input(\"Enter 1st Number :\")#10 String\n",
    "b = input(\"Enter 2nd Number :\")#15 String\n",
    "\n",
    "print(\"Add of Two Number is : \", a+b)#1015 (10 + 15 = 1015)"
   ]
  },
  {
   "cell_type": "code",
   "execution_count": 13,
   "id": "2bcf4e3b",
   "metadata": {},
   "outputs": [
    {
     "name": "stdout",
     "output_type": "stream",
     "text": [
      "Enter Two Number for Add\n",
      "Enter 1st Number :10\n",
      "Enter 2nd Number :15\n",
      "Add of Two Number is :  25\n"
     ]
    }
   ],
   "source": [
    "#TypeCasting :--> Converting one Data type into another Data Type : int()/float()/str()/list()/tuple()\n",
    "\n",
    "#Write a Program to Take user input & perfrom add on them\n",
    "\n",
    "print(\"Enter Two Number for Add\")\n",
    "\n",
    "a = int(input(\"Enter 1st Number :\"))\n",
    "b = int(input(\"Enter 2nd Number :\"))\n",
    "\n",
    "print(\"Add of Two Number is : \", a+b)#25"
   ]
  },
  {
   "cell_type": "code",
   "execution_count": 14,
   "id": "4ffe0694",
   "metadata": {},
   "outputs": [
    {
     "name": "stdout",
     "output_type": "stream",
     "text": [
      "EduTECH Warje\n"
     ]
    }
   ],
   "source": [
    "name = \"EduTECH\"\n",
    "NAME = \" Warje\"\n",
    "\n",
    "print(name + NAME)#Concatination"
   ]
  },
  {
   "cell_type": "code",
   "execution_count": 15,
   "id": "1d71f9f1",
   "metadata": {},
   "outputs": [
    {
     "ename": "SyntaxError",
     "evalue": "invalid non-printable character U+00A0 (588091674.py, line 28)",
     "output_type": "error",
     "traceback": [
      "\u001b[1;36m  Cell \u001b[1;32mIn[15], line 28\u001b[1;36m\u001b[0m\n\u001b[1;33m    marks = math + bio + chem + phys\u001b[0m\n\u001b[1;37m                             ^\u001b[0m\n\u001b[1;31mSyntaxError\u001b[0m\u001b[1;31m:\u001b[0m invalid non-printable character U+00A0\n"
     ]
    }
   ],
   "source": [
    "#Write a Program to take input from user for subject : math/bio/chem/phys (out of 30)\n",
    "#print student total marks & avg \n",
    "\n",
    "\n",
    "\"\"\"\n",
    "Step 1: take input from user for Subject mark\n",
    "\n",
    "Step 2: Perform add\n",
    "\n",
    "Step 3 :  Calculate Avg\n",
    "\n",
    "Step 4 : Print Ans\n",
    "\n",
    "\n",
    "\n",
    "\"\"\"\n",
    "\n",
    "#Step 1: take input from user for Subject mark\n",
    "\n",
    "name = input(\"Enter Student Name :\")\n",
    "\n",
    "math = int(input(\"Enter your math mark:\"))\n",
    "bio = int(input(\"Enter your bio mark:\"))\n",
    "chem = int(input(\"Enter your chem mark:\"))\n",
    "phys = int(input(\"Enter your physics mark:\"))\n",
    "\n",
    "#Step 2: Perform add\n",
    "marks = math + bio + chem + phys\n",
    "\n",
    "#Step 3 :  Calculate Avg\n",
    "avg = marks / 4\n",
    "\n",
    "#Step 4 : Print Ans\n",
    "\n",
    "print(name , \" You have got sum of all Marks \" , marks  ,\" avg marks are : \" , avg)"
   ]
  },
  {
   "cell_type": "code",
   "execution_count": 16,
   "id": "e09b0df1",
   "metadata": {},
   "outputs": [
    {
     "name": "stdout",
     "output_type": "stream",
     "text": [
      "Enter Student Name :Vishal\n",
      "Enter Math Marks :25\n",
      "Enter Bio Marks :26\n",
      "Enter Chem Marks :21\n",
      "Enter pyhs Marks :19\n",
      "Vishal  You have got sum of all Marks  91  avg marks are :  22.75\n"
     ]
    }
   ],
   "source": [
    "name = input(\"Enter Student Name :\")\n",
    "\n",
    "math = int(input(\"Enter Math Marks :\"))\n",
    "bio =int(input(\"Enter Bio Marks :\"))\n",
    "chem = int(input(\"Enter Chem Marks :\"))\n",
    "pyhs = int(input(\"Enter pyhs Marks :\"))\n",
    "\n",
    "marks =  math + bio + chem +pyhs\n",
    "\n",
    "avg = marks/4\n",
    "\n",
    "print(name , \" You have got sum of all Marks \" , marks  ,\" avg marks are : \" , avg)\n"
   ]
  }
 ],
 "metadata": {
  "kernelspec": {
   "display_name": "Python 3 (ipykernel)",
   "language": "python",
   "name": "python3"
  },
  "language_info": {
   "codemirror_mode": {
    "name": "ipython",
    "version": 3
   },
   "file_extension": ".py",
   "mimetype": "text/x-python",
   "name": "python",
   "nbconvert_exporter": "python",
   "pygments_lexer": "ipython3",
   "version": "3.11.3"
  }
 },
 "nbformat": 4,
 "nbformat_minor": 5
}
