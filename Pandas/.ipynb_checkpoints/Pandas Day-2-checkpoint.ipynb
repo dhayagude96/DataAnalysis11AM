{
 "cells": [
  {
   "cell_type": "markdown",
   "id": "6bba5b90",
   "metadata": {},
   "source": [
    "# head() and tail()\n",
    "\n",
    "In pandas, the head() and tail() functions are used to view a specified number of rows from the beginning or the end of a DataFrame. These functions are particularly useful when you have a large dataset, and you want to get a quick overview of its structure or examine a small portion of the data.\n",
    "\n",
    "\n",
    "head():\n",
    "---\n",
    "\n",
    "The head() function returns the first n rows of a DataFrame.\n",
    "\n",
    "Syntax: DataFrame.head(n=5)\n",
    "\n",
    "By default, it returns the first 5 rows, but you can specify the number of rows you want by passing the n parameter\n",
    "\n",
    "\n",
    "tail():\n",
    "---\n",
    "\n",
    "The tail() function returns the last n rows of a DataFrame.\n",
    "\n",
    "Syntax: DataFrame.tail(n=5)\n",
    "\n",
    "By default, it returns the last 5 rows, but you can specify the number of rows you want by passing the n parameter."
   ]
  },
  {
   "cell_type": "code",
   "execution_count": null,
   "id": "9e6ca10b",
   "metadata": {},
   "outputs": [],
   "source": []
  },
  {
   "cell_type": "markdown",
   "id": "2c18d4cf",
   "metadata": {},
   "source": [
    "# df.columns\n",
    "\n",
    "columns attribute is used to retrieve the column labels (column names) of a DataFrame. It returns an Index object containing the column names. This attribute is useful when you want to get a list of column names or perform operations based on the column names."
   ]
  },
  {
   "cell_type": "code",
   "execution_count": null,
   "id": "3f6e97b4",
   "metadata": {},
   "outputs": [],
   "source": []
  },
  {
   "cell_type": "markdown",
   "id": "9a79ed11",
   "metadata": {},
   "source": [
    "# df.dropna()\n",
    "\n",
    "In pandas, the dropna() function is used to remove missing or NaN (Not a Number) values from a DataFrame. Missing values can be a common issue in datasets, and dropna() provides a convenient way to handle them."
   ]
  },
  {
   "cell_type": "code",
   "execution_count": null,
   "id": "6d1423c5",
   "metadata": {},
   "outputs": [],
   "source": []
  },
  {
   "cell_type": "markdown",
   "id": "f46e959d",
   "metadata": {},
   "source": [
    "# df.drop()\n",
    "\n",
    "drop() function is used to remove specified rows or columns from a DataFrame\n",
    "\n",
    "Dropping Rows:\n",
    "----\n",
    "To drop specific rows, you can use the index parameter. You can specify either a single index or a list of indices to remove.\n",
    "\n",
    "Dropping Columns:\n",
    "---\n",
    "To drop specific columns, you can use the columns parameter.\n",
    "\n",
    "Inplace Parameter:\n",
    "---\n",
    "By default, the drop() function returns a new DataFrame with the specified rows or columns removed. If you want to modify the original DataFrame in place, you can use the inplace=True parameter."
   ]
  },
  {
   "cell_type": "code",
   "execution_count": null,
   "id": "d2749ab0",
   "metadata": {},
   "outputs": [],
   "source": []
  },
  {
   "cell_type": "markdown",
   "id": "75c76778",
   "metadata": {},
   "source": [
    "# df.replace()\n",
    "\n",
    "\n",
    "In pandas, the replace() function is used to replace values in a DataFrame. This function allows you to replace specified values with new values, providing flexibility in data cleaning and transformation."
   ]
  },
  {
   "cell_type": "code",
   "execution_count": null,
   "id": "c121df93",
   "metadata": {},
   "outputs": [],
   "source": []
  },
  {
   "cell_type": "markdown",
   "id": "2597f318",
   "metadata": {},
   "source": [
    "# df.fillna()\n",
    "\n",
    "In pandas, the fillna() method is used to fill missing (NaN) values in a DataFrame or Series with specified values. It provides a convenient way to handle missing data by either replacing NaN values with a constant, using forward or backward fill methods"
   ]
  },
  {
   "cell_type": "code",
   "execution_count": null,
   "id": "daf61967",
   "metadata": {},
   "outputs": [],
   "source": []
  }
 ],
 "metadata": {
  "kernelspec": {
   "display_name": "Python 3 (ipykernel)",
   "language": "python",
   "name": "python3"
  },
  "language_info": {
   "codemirror_mode": {
    "name": "ipython",
    "version": 3
   },
   "file_extension": ".py",
   "mimetype": "text/x-python",
   "name": "python",
   "nbconvert_exporter": "python",
   "pygments_lexer": "ipython3",
   "version": "3.11.5"
  }
 },
 "nbformat": 4,
 "nbformat_minor": 5
}
