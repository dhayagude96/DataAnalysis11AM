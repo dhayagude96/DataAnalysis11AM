{
 "cells": [
  {
   "cell_type": "markdown",
   "id": "48d77d6e",
   "metadata": {},
   "source": [
    "# Assignment: Python Mastery Set-6\n",
    "\n",
    "\n",
    "Task:\n",
    "-----\n",
    "\n",
    "Write a Python program using functions: map/lambda/filter/reduce/Generators\n",
    "\n",
    "Instructions:\n",
    "\n",
    "1.Open your preferred Python environment.\n",
    "\n",
    "2.Write a Python script adhering to the specified task.\n",
    "\n",
    "3.use Required functions for this assignment.\n",
    "\n",
    "4.Once your program is complete, run it to test its functionality.\n",
    "\n",
    "5.Upload the PDF document to the Data Analysis Google Classroom assignment.\n",
    "\n",
    "Submission Deadline:\n",
    "-----\n",
    "20/11/2023\n",
    "\n",
    "\n",
    "Note:\n",
    "-----\n",
    "\n",
    "Ensure your code is well-commented for clarity.\n",
    "\n",
    "Follow the provided instructions strictly.\n",
    "\n",
    "If you face any issues, reach out for assistance.\n",
    "\n",
    "Happy coding!\n",
    "-----"
   ]
  },
  {
   "cell_type": "markdown",
   "id": "1bc91c65",
   "metadata": {},
   "source": [
    "Generators, Map, Recursive Function:\n",
    "\n",
    "1.Generate a list of powers of 2 using a generator. Use map to calculate the square of each element, then use a recursive function to find the sum of these squared values.\n"
   ]
  },
  {
   "cell_type": "code",
   "execution_count": null,
   "id": "072bfe10",
   "metadata": {},
   "outputs": [],
   "source": []
  },
  {
   "cell_type": "markdown",
   "id": "8b1f963e",
   "metadata": {},
   "source": [
    "Generators, Reduce, Map:\n",
    "\n",
    "2.Generate a list of squares of numbers using a generator. Use map to calculate the square root of each element. Then, use reduce to find the product of these square roots."
   ]
  },
  {
   "cell_type": "code",
   "execution_count": null,
   "id": "9bba5d7c",
   "metadata": {},
   "outputs": [],
   "source": []
  },
  {
   "cell_type": "markdown",
   "id": "e4639468",
   "metadata": {},
   "source": [
    "Lambda, Map, Filter:\n",
    "\n",
    "3.Create a lambda function to determine if a given sentence has more than five words. Use map to apply this function to a list of sentences, then use filter to get the sentences that meet the criteria."
   ]
  },
  {
   "cell_type": "code",
   "execution_count": null,
   "id": "40a7f619",
   "metadata": {},
   "outputs": [],
   "source": []
  },
  {
   "cell_type": "markdown",
   "id": "c361ea9f",
   "metadata": {},
   "source": [
    "Filter, Recursive Function, Generators:\n",
    "\n",
    "4.Write a recursive function to find the sum of prime numbers up to a given limit. Use a generator to generate prime numbers, then use filter to get prime numbers below 100."
   ]
  },
  {
   "cell_type": "code",
   "execution_count": null,
   "id": "0078f9ff",
   "metadata": {},
   "outputs": [],
   "source": []
  }
 ],
 "metadata": {
  "kernelspec": {
   "display_name": "Python 3 (ipykernel)",
   "language": "python",
   "name": "python3"
  },
  "language_info": {
   "codemirror_mode": {
    "name": "ipython",
    "version": 3
   },
   "file_extension": ".py",
   "mimetype": "text/x-python",
   "name": "python",
   "nbconvert_exporter": "python",
   "pygments_lexer": "ipython3",
   "version": "3.11.3"
  }
 },
 "nbformat": 4,
 "nbformat_minor": 5
}
