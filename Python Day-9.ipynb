{
 "cells": [
  {
   "cell_type": "code",
   "execution_count": 2,
   "id": "a278ada2",
   "metadata": {},
   "outputs": [
    {
     "name": "stdout",
     "output_type": "stream",
     "text": [
      "Welcome to EduTECH\n",
      "Welcome to EduTECH\n",
      "Welcome to EduTECH\n",
      "Welcome to EduTECH\n",
      "Welcome to EduTECH\n"
     ]
    }
   ],
   "source": [
    "#While Loop :---> if Num of iteration are Not Fixed\n",
    "\n",
    "\n",
    "i = 1 #Intislization\n",
    "\n",
    "while i<=5:   #loop condition\n",
    "    print('Welcome to EduTECH')\n",
    "    i = i + 1 #increment or decrement "
   ]
  },
  {
   "cell_type": "code",
   "execution_count": 3,
   "id": "33cbcee3",
   "metadata": {},
   "outputs": [
    {
     "name": "stdout",
     "output_type": "stream",
     "text": [
      "1\n",
      "2\n",
      "3\n",
      "4\n",
      "5\n",
      "6\n",
      "7\n",
      "8\n",
      "9\n",
      "10\n"
     ]
    }
   ],
   "source": [
    "i = 1\n",
    "\n",
    "while i<=10:\n",
    "    print(i)\n",
    "    i += 1"
   ]
  },
  {
   "cell_type": "code",
   "execution_count": 5,
   "id": "b9fc5e70",
   "metadata": {},
   "outputs": [
    {
     "name": "stdout",
     "output_type": "stream",
     "text": [
      "2\n",
      "4\n",
      "6\n",
      "8\n",
      "10\n",
      "12\n",
      "14\n",
      "16\n",
      "18\n",
      "20\n"
     ]
    }
   ],
   "source": [
    "#print Table of Two using While Loop\n",
    "\n",
    "i = 2\n",
    "\n",
    "while i<=20:\n",
    "    print(i)\n",
    "    i += 2\n"
   ]
  },
  {
   "cell_type": "code",
   "execution_count": 6,
   "id": "932ffcee",
   "metadata": {},
   "outputs": [
    {
     "name": "stdout",
     "output_type": "stream",
     "text": [
      "2\n",
      "4\n",
      "6\n",
      "8\n",
      "10\n",
      "12\n",
      "14\n",
      "16\n",
      "18\n",
      "20\n"
     ]
    }
   ],
   "source": [
    "i = 1\n",
    "\n",
    "while i<=10:\n",
    "    print(i *2)\n",
    "    i += 1\n"
   ]
  },
  {
   "cell_type": "code",
   "execution_count": 8,
   "id": "9edb13a8",
   "metadata": {},
   "outputs": [
    {
     "name": "stdout",
     "output_type": "stream",
     "text": [
      "Enter Number 81\n",
      "81\n",
      "162\n",
      "243\n",
      "324\n",
      "405\n",
      "486\n",
      "567\n",
      "648\n",
      "729\n",
      "810\n"
     ]
    }
   ],
   "source": [
    "#print Table of num enter by user using While Loop\n",
    "\n",
    "num = int(input(\"Enter Number \"))\n",
    "\n",
    "i = 1 \n",
    "\n",
    "while i<=10:\n",
    "    print(i*num)\n",
    "    i += 1"
   ]
  },
  {
   "cell_type": "code",
   "execution_count": 50,
   "id": "a78e9b28",
   "metadata": {},
   "outputs": [
    {
     "name": "stdout",
     "output_type": "stream",
     "text": [
      "Enter Your Guess : 55\n",
      "Enter Lower Number \n",
      "Enter Your Guess : 45\n",
      "Enter Lower Number \n",
      "Enter Your Guess : 22\n",
      "Enter Higher Number \n",
      "Enter Your Guess : 30\n",
      "Enter Higher Number \n",
      "Enter Your Guess : 38\n",
      "Enter Lower Number \n",
      "Enter Your Guess : 35\n",
      "Enter Higher Number \n",
      "Enter Your Guess : 37\n",
      "You Won & You have Taken 7 Attempt \n"
     ]
    }
   ],
   "source": [
    "import random\n",
    "\n",
    "\n",
    "\n",
    "jackpot = random.randint(1,100)\n",
    "\n",
    "\n",
    "guess = int(input('Enter Your Guess : '))\n",
    "\n",
    "count = 1\n",
    "\n",
    "while jackpot != guess:\n",
    "    \n",
    "    \n",
    "    if guess < jackpot :\n",
    "        print(\"Enter Higher Number \")\n",
    "    else :\n",
    "        print(\"Enter Lower Number \")\n",
    "        \n",
    "    guess = int(input('Enter Your Guess : '))\n",
    "    count += 1\n",
    "    \n",
    "    \n",
    "    \n",
    "print('You Won & You have Taken', count , \"Attempt \")\n",
    "        \n",
    "    "
   ]
  }
 ],
 "metadata": {
  "kernelspec": {
   "display_name": "Python 3 (ipykernel)",
   "language": "python",
   "name": "python3"
  },
  "language_info": {
   "codemirror_mode": {
    "name": "ipython",
    "version": 3
   },
   "file_extension": ".py",
   "mimetype": "text/x-python",
   "name": "python",
   "nbconvert_exporter": "python",
   "pygments_lexer": "ipython3",
   "version": "3.11.5"
  }
 },
 "nbformat": 4,
 "nbformat_minor": 5
}
