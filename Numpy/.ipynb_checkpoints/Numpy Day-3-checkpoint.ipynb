{
 "cells": [
  {
   "cell_type": "markdown",
   "id": "721b2f36",
   "metadata": {},
   "source": [
    "# Transpose of Numpy Array :- np.transpose()\n",
    "\n"
   ]
  },
  {
   "cell_type": "code",
   "execution_count": null,
   "id": "78a213f7",
   "metadata": {},
   "outputs": [],
   "source": []
  },
  {
   "cell_type": "markdown",
   "id": "73d1611f",
   "metadata": {},
   "source": [
    "# Squeezing a Numpy Array :- np.squeeze()\n",
    "\n"
   ]
  },
  {
   "cell_type": "code",
   "execution_count": null,
   "id": "83cfbcc4",
   "metadata": {},
   "outputs": [],
   "source": []
  },
  {
   "cell_type": "markdown",
   "id": "2a855914",
   "metadata": {},
   "source": [
    "# Flip :-np.flip() method to reverse values in Numpy Array"
   ]
  },
  {
   "cell_type": "code",
   "execution_count": null,
   "id": "8a7f9347",
   "metadata": {},
   "outputs": [],
   "source": []
  },
  {
   "cell_type": "markdown",
   "id": "f3a71331",
   "metadata": {},
   "source": [
    "# Indexing & Slicing of Numpy Array\n",
    "\n",
    "[start : end : step-size]"
   ]
  },
  {
   "cell_type": "code",
   "execution_count": null,
   "id": "0e64ce72",
   "metadata": {},
   "outputs": [],
   "source": []
  }
 ],
 "metadata": {
  "kernelspec": {
   "display_name": "Python 3 (ipykernel)",
   "language": "python",
   "name": "python3"
  },
  "language_info": {
   "codemirror_mode": {
    "name": "ipython",
    "version": 3
   },
   "file_extension": ".py",
   "mimetype": "text/x-python",
   "name": "python",
   "nbconvert_exporter": "python",
   "pygments_lexer": "ipython3",
   "version": "3.11.5"
  }
 },
 "nbformat": 4,
 "nbformat_minor": 5
}
