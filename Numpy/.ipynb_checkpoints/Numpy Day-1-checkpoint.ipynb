{
 "cells": [
  {
   "cell_type": "markdown",
   "id": "30a36a46",
   "metadata": {},
   "source": [
    "# NumPy\n",
    "NumPy is a Python package. It stands for 'Numerical Python'. It is a library consisting of multidimensional array objects and a collection of routines for processing of array."
   ]
  },
  {
   "cell_type": "markdown",
   "id": "3317f167",
   "metadata": {},
   "source": [
    "# What is NumPy?\n",
    "It is a library consisting of multidimensional array objects and a collection of routines for processing those arrays.\n",
    "\n",
    "NumPy has put python lists out of the job as NumPy arrays are more efficient, convenient and makes it faster to read or write an item."
   ]
  },
  {
   "cell_type": "code",
   "execution_count": 6,
   "id": "d6c86cd4",
   "metadata": {},
   "outputs": [
    {
     "name": "stdout",
     "output_type": "stream",
     "text": [
      "Center Point of Age Group is :  29.363636363636363\n"
     ]
    }
   ],
   "source": [
    "import numpy as np\n",
    "\n",
    "age = [18,22,48,44,19,23,26,27,30,31,35]\n",
    "\n",
    "print(\"Center Point of Age Group is : \" , np.mean(age))"
   ]
  },
  {
   "cell_type": "markdown",
   "id": "de2c3e61",
   "metadata": {},
   "source": [
    "# Python Lists vs NumPy Arrays – What’s the Difference?\n",
    "1.Python lists act as an array that can store elements of various types.A list is the Python equivalent of an array,but is resizeable and can contain elements of different types.\n",
    "\n",
    "2.NumPy arrays that contain only homogeneous elements, i.e. elements having the same data type.\n",
    "\n",
    "3.With NumPy arrays, you can perform element-wise operations, something which is not possible using Python lists!\n",
    "\n",
    "4.This is the reason why NumPy arrays are preferred over Python lists when performing mathematical operations on a large amount of data."
   ]
  },
  {
   "cell_type": "markdown",
   "id": "816ef0b0",
   "metadata": {},
   "source": [
    "# Why use NumPy?\n",
    "Using NumPy, mathematical and logical operations on arrays can be performed. NumPy also provides high performance.Some of the key features that contribute in the popularity of NumPyare:\n",
    "\n",
    "1.It is a powerful N-dimensional array object\n",
    "\n",
    "2.It is a sophisticated broadcasting functions\n",
    "\n",
    "3.It is a tool for integrating C/C++ and Fortran code\n",
    "\n",
    "4.It is useful linear algebra, Fourier transform, and random number capabilities"
   ]
  },
  {
   "cell_type": "markdown",
   "id": "9ca48a40",
   "metadata": {},
   "source": [
    "# Import Convention\n",
    "Since NumPy is a Python Library, it has to be imported first before you start using NumPy. To import NumPy, type in the following command:"
   ]
  },
  {
   "cell_type": "code",
   "execution_count": 35,
   "id": "298ab16a",
   "metadata": {},
   "outputs": [],
   "source": [
    "import numpy as np"
   ]
  },
  {
   "cell_type": "markdown",
   "id": "235a347d",
   "metadata": {},
   "source": [
    "# Creating Numpy Arrays\n",
    "\n",
    "1.np.array() 1D/2D\n",
    "\n",
    "2.np.zeros/ones/identity()\n",
    "\n",
    "3.np.arange()\n",
    "\n",
    "4.np.linspace()\n",
    "\n",
    "5.np.copy()\n",
    "\n",
    "6.np.random() :--. rand/randint\n",
    "\n",
    "7.np.full()"
   ]
  },
  {
   "cell_type": "code",
   "execution_count": null,
   "id": "b97a31ab",
   "metadata": {},
   "outputs": [],
   "source": []
  }
 ],
 "metadata": {
  "kernelspec": {
   "display_name": "Python 3 (ipykernel)",
   "language": "python",
   "name": "python3"
  },
  "language_info": {
   "codemirror_mode": {
    "name": "ipython",
    "version": 3
   },
   "file_extension": ".py",
   "mimetype": "text/x-python",
   "name": "python",
   "nbconvert_exporter": "python",
   "pygments_lexer": "ipython3",
   "version": "3.11.5"
  }
 },
 "nbformat": 4,
 "nbformat_minor": 5
}
