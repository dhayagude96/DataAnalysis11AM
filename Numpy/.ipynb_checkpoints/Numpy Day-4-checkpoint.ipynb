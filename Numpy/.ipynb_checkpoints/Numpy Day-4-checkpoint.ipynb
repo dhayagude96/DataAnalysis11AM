{
 "cells": [
  {
   "cell_type": "code",
   "execution_count": 7,
   "id": "1d482a92",
   "metadata": {},
   "outputs": [],
   "source": [
    "import numpy as np\n"
   ]
  },
  {
   "cell_type": "markdown",
   "id": "6dd53d69",
   "metadata": {},
   "source": [
    "\n",
    "# Broadcasting in NumPy arrays\n",
    "\n",
    "\n",
    "Broadcasting essentially stretches the smaller ndarray so that it matches the shape of the larger ndarray"
   ]
  },
  {
   "cell_type": "code",
   "execution_count": null,
   "id": "19c5bf73",
   "metadata": {},
   "outputs": [],
   "source": []
  },
  {
   "cell_type": "markdown",
   "id": "f6f5551c",
   "metadata": {},
   "source": [
    "# Maths with NumPy arrays"
   ]
  },
  {
   "cell_type": "code",
   "execution_count": null,
   "id": "2fb30cc0",
   "metadata": {},
   "outputs": [],
   "source": []
  },
  {
   "cell_type": "markdown",
   "id": "f4925194",
   "metadata": {},
   "source": [
    "# Mean, Median and Standard deviation"
   ]
  },
  {
   "cell_type": "code",
   "execution_count": null,
   "id": "5dc790f1",
   "metadata": {},
   "outputs": [],
   "source": []
  },
  {
   "cell_type": "markdown",
   "id": "d0102dbc",
   "metadata": {},
   "source": [
    "# Append"
   ]
  },
  {
   "cell_type": "code",
   "execution_count": null,
   "id": "9a2be646",
   "metadata": {},
   "outputs": [],
   "source": []
  },
  {
   "cell_type": "markdown",
   "id": "dab1f621",
   "metadata": {},
   "source": [
    "# Max,Min,sqrt,log10"
   ]
  },
  {
   "cell_type": "code",
   "execution_count": null,
   "id": "c3c2cf1e",
   "metadata": {},
   "outputs": [],
   "source": []
  },
  {
   "cell_type": "markdown",
   "id": "4ee5d5f9",
   "metadata": {},
   "source": [
    "\n",
    "# Sort"
   ]
  },
  {
   "cell_type": "code",
   "execution_count": null,
   "id": "45121d01",
   "metadata": {},
   "outputs": [],
   "source": []
  }
 ],
 "metadata": {
  "kernelspec": {
   "display_name": "Python 3 (ipykernel)",
   "language": "python",
   "name": "python3"
  },
  "language_info": {
   "codemirror_mode": {
    "name": "ipython",
    "version": 3
   },
   "file_extension": ".py",
   "mimetype": "text/x-python",
   "name": "python",
   "nbconvert_exporter": "python",
   "pygments_lexer": "ipython3",
   "version": "3.11.5"
  }
 },
 "nbformat": 4,
 "nbformat_minor": 5
}
