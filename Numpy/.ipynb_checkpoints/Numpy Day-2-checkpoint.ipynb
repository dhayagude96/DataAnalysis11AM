{
 "cells": [
  {
   "cell_type": "markdown",
   "id": "89b40e9b",
   "metadata": {},
   "source": [
    "# Numpy Array Dimension / shape / size"
   ]
  },
  {
   "cell_type": "code",
   "execution_count": 1,
   "id": "c4098e10",
   "metadata": {},
   "outputs": [],
   "source": [
    "import numpy as np"
   ]
  },
  {
   "cell_type": "code",
   "execution_count": 7,
   "id": "7d276844",
   "metadata": {},
   "outputs": [
    {
     "name": "stdout",
     "output_type": "stream",
     "text": [
      "Array a1: \n",
      " [[1 2 3]\n",
      " [4 5 6]]\n",
      "\n",
      "Dim of Array a1 :  2\n",
      "\n",
      "Shape of Array a1 :  (2, 3)\n",
      "\n",
      "Number Values in Array a1 :  6\n"
     ]
    }
   ],
   "source": [
    "a1 = np.array([[1,2,3],[4,5,6]])\n",
    "\n",
    "print(\"Array a1: \\n\",a1)\n",
    "print()\n",
    "\n",
    "print(\"Dim of Array a1 : \" , np.ndim(a1))\n",
    "print()\n",
    "\n",
    "print(\"Shape of Array a1 : \" , np.shape(a1))#(row,col)\n",
    "print()\n",
    "\n",
    "\n",
    "print(\"Number Values in Array a1 : \" , np.size(a1))\n"
   ]
  },
  {
   "cell_type": "code",
   "execution_count": 8,
   "id": "c1bb88b4",
   "metadata": {},
   "outputs": [
    {
     "name": "stdout",
     "output_type": "stream",
     "text": [
      "Array a2: \n",
      " [1 2 3 4 5 6]\n",
      "\n",
      "Dim of Array a2 :  1\n",
      "\n",
      "Shape of Array a2 :  (6,)\n",
      "\n",
      "Number Values in Array a2 :  6\n"
     ]
    }
   ],
   "source": [
    "a2 = np.array([1,2,3,4,5,6])\n",
    "\n",
    "print(\"Array a2: \\n\",a2)\n",
    "print()\n",
    "\n",
    "print(\"Dim of Array a2 : \" , np.ndim(a2))\n",
    "print()\n",
    "\n",
    "print(\"Shape of Array a2 : \" , np.shape(a2))#(row,col)\n",
    "print()\n",
    "\n",
    "\n",
    "print(\"Number Values in Array a2 : \" , np.size(a2))\n"
   ]
  },
  {
   "cell_type": "markdown",
   "id": "a301168c",
   "metadata": {},
   "source": [
    "# Reshaping of Numpy Array"
   ]
  },
  {
   "cell_type": "code",
   "execution_count": 17,
   "id": "a7f202a7",
   "metadata": {},
   "outputs": [
    {
     "name": "stdout",
     "output_type": "stream",
     "text": [
      "Shape of Array a3 : \n",
      " (6,)\n",
      "[1 2 3 4 5 6]\n",
      "Shape of Array a4 : \n",
      " (3, 2)\n",
      "[[1 2]\n",
      " [3 4]\n",
      " [5 6]]\n"
     ]
    }
   ],
   "source": [
    "a3 = np.array([1,2,3,4,5,6])\n",
    "\n",
    "print(\"Shape of Array a3 : \\n\" , np.shape(a3))\n",
    "print(a3)\n",
    "\n",
    "a4 = a3.reshape(3,2)\n",
    "\n",
    "print(\"Shape of Array a4 : \\n\" , np.shape(a4))\n",
    "print(a4)"
   ]
  },
  {
   "cell_type": "code",
   "execution_count": 21,
   "id": "0d0b28ca",
   "metadata": {},
   "outputs": [
    {
     "name": "stdout",
     "output_type": "stream",
     "text": [
      "[ 1  2  3  4  5  6  7  8  9 10 11 12]\n",
      "[[ 1  2  3  4]\n",
      " [ 5  6  7  8]\n",
      " [ 9 10 11 12]]\n",
      "[[ 1  2]\n",
      " [ 3  4]\n",
      " [ 5  6]\n",
      " [ 7  8]\n",
      " [ 9 10]\n",
      " [11 12]]\n"
     ]
    }
   ],
   "source": [
    "a5 = np.arange(1,13)\n",
    "\n",
    "print(a5)\n",
    "\n",
    "print(a5.reshape(3,4))\n",
    "print(a5.reshape(6,2))"
   ]
  },
  {
   "cell_type": "markdown",
   "id": "400af7a7",
   "metadata": {},
   "source": [
    "# flatten & ravel"
   ]
  },
  {
   "cell_type": "code",
   "execution_count": 25,
   "id": "a6fa45a7",
   "metadata": {},
   "outputs": [
    {
     "name": "stdout",
     "output_type": "stream",
     "text": [
      "Before Flatten : \n",
      " [[1 2 3]\n",
      " [4 5 6]]\n",
      "After Flatten : \n",
      " [1 2 3 4 5 6]\n"
     ]
    }
   ],
   "source": [
    "a6 = np.array([[1,2,3],[4,5,6]])\n",
    "\n",
    "print(\"Before Flatten : \\n\" ,a6)\n",
    "\n",
    "a7 = a6.flatten()\n",
    "\n",
    "print(\"After Flatten : \\n\" ,a7)"
   ]
  },
  {
   "cell_type": "code",
   "execution_count": 28,
   "id": "d77c586f",
   "metadata": {},
   "outputs": [
    {
     "name": "stdout",
     "output_type": "stream",
     "text": [
      "Before ravel : \n",
      " [[1 2 3]\n",
      " [4 5 6]]\n",
      "After ravel : \n",
      " [1 2 3 4 5 6]\n"
     ]
    }
   ],
   "source": [
    "a8 = np.array([[1,2,3],[4,5,6]])\n",
    "\n",
    "print(\"Before ravel : \\n\",a8)\n",
    "\n",
    "a9 =  a8.ravel()\n",
    "\n",
    "print(\"After ravel : \\n\" ,a9)"
   ]
  },
  {
   "cell_type": "code",
   "execution_count": 33,
   "id": "ba4dcb8d",
   "metadata": {},
   "outputs": [
    {
     "name": "stdout",
     "output_type": "stream",
     "text": [
      "Before Flatten : \n",
      " [[1 2 3]\n",
      " [4 5 6]]\n",
      "After Flatten : \n",
      " [10  2  3  4  5  6]\n",
      "After Flatten : \n",
      " [[1 2 3]\n",
      " [4 5 6]]\n"
     ]
    }
   ],
   "source": [
    "#flatten :--> shallow copy\n",
    "\n",
    "a6 = np.array([[1,2,3],[4,5,6]])\n",
    "\n",
    "print(\"Before Flatten : \\n\" ,a6)\n",
    "\n",
    "\n",
    "\n",
    "\n",
    "a7 = a6.flatten()\n",
    "\n",
    "a7[0] = 10\n",
    "print(\"After Flatten : \\n\" ,a7)\n",
    "print(\"After Flatten : \\n\" ,a6)"
   ]
  },
  {
   "cell_type": "code",
   "execution_count": 32,
   "id": "971151b3",
   "metadata": {},
   "outputs": [
    {
     "name": "stdout",
     "output_type": "stream",
     "text": [
      "Before ravel : \n",
      " [[1 2 3]\n",
      " [4 5 6]]\n",
      "After ravel : \n",
      " [10  2  3  4  5  6]\n",
      "After ravel : \n",
      " [[10  2  3]\n",
      " [ 4  5  6]]\n"
     ]
    }
   ],
   "source": [
    "#ravel :--> deep copy\n",
    "\n",
    "a8 = np.array([[1,2,3],[4,5,6]])\n",
    "\n",
    "print(\"Before ravel : \\n\",a8)\n",
    "\n",
    "a9 =  a8.ravel()\n",
    "a9[0] = 10\n",
    "\n",
    "print(\"After ravel : \\n\" ,a9)\n",
    "\n",
    "print(\"After ravel : \\n\",a8)"
   ]
  },
  {
   "cell_type": "code",
   "execution_count": 40,
   "id": "94d3f70d",
   "metadata": {},
   "outputs": [
    {
     "data": {
      "text/plain": [
       "array([[ 1,  2,  3],\n",
       "       [ 4,  5,  6],\n",
       "       [ 7,  8,  9],\n",
       "       [10, 11, 12],\n",
       "       [13, 14, 15],\n",
       "       [16, 17, 18],\n",
       "       [19, 20, 21],\n",
       "       [22, 23, 24],\n",
       "       [25, 26, 27],\n",
       "       [28, 29, 30],\n",
       "       [31, 32, 33],\n",
       "       [34, 35, 36]])"
      ]
     },
     "execution_count": 40,
     "metadata": {},
     "output_type": "execute_result"
    }
   ],
   "source": [
    "a10 = np.arange(1,37)\n",
    "\n",
    "a10.reshape(12,3)"
   ]
  },
  {
   "cell_type": "code",
   "execution_count": 44,
   "id": "f283c53c",
   "metadata": {},
   "outputs": [
    {
     "name": "stdout",
     "output_type": "stream",
     "text": [
      "1\n"
     ]
    }
   ],
   "source": [
    "a11 = np.array([1,2,3,4,5,6,6,7,8])\n",
    "\n",
    "print(np.ndim(a11))"
   ]
  }
 ],
 "metadata": {
  "kernelspec": {
   "display_name": "Python 3 (ipykernel)",
   "language": "python",
   "name": "python3"
  },
  "language_info": {
   "codemirror_mode": {
    "name": "ipython",
    "version": 3
   },
   "file_extension": ".py",
   "mimetype": "text/x-python",
   "name": "python",
   "nbconvert_exporter": "python",
   "pygments_lexer": "ipython3",
   "version": "3.11.5"
  }
 },
 "nbformat": 4,
 "nbformat_minor": 5
}
