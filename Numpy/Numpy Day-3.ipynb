{
 "cells": [
  {
   "cell_type": "markdown",
   "id": "721b2f36",
   "metadata": {},
   "source": [
    "# Transpose of Numpy Array :- np.transpose()\n",
    "\n"
   ]
  },
  {
   "cell_type": "code",
   "execution_count": 6,
   "id": "ac64c01b",
   "metadata": {},
   "outputs": [
    {
     "name": "stdout",
     "output_type": "stream",
     "text": [
      "Dim of a1 :  2\n",
      "Shape of a1 :  (2, 3)\n",
      "A1 \n",
      " [[1 2 3]\n",
      " [4 5 6]]\n",
      "\n",
      "Dim of b1 :  2\n",
      "Shape of b1 :  (3, 2)\n",
      "B1 \n",
      " [[1 4]\n",
      " [2 5]\n",
      " [3 6]]\n"
     ]
    }
   ],
   "source": [
    "import numpy as np\n",
    "\n",
    "a1 = np.array([[1,2,3],[4,5,6]])\n",
    "\n",
    "print(\"Dim of a1 : \" , np.ndim(a1))\n",
    "print(\"Shape of a1 : \" , np.shape(a1))\n",
    "print(\"A1 \\n\" , a1)\n",
    "print()\n",
    "\n",
    "b1 = a1.transpose()\n",
    "\n",
    "print(\"Dim of b1 : \" , np.ndim(b1))\n",
    "print(\"Shape of b1 : \" , np.shape(b1))\n",
    "print(\"B1 \\n\" , b1)"
   ]
  },
  {
   "cell_type": "markdown",
   "id": "73d1611f",
   "metadata": {},
   "source": [
    "# Squeezing a Numpy Array :- np.squeeze()\n",
    "\n"
   ]
  },
  {
   "cell_type": "code",
   "execution_count": 9,
   "id": "81388361",
   "metadata": {},
   "outputs": [
    {
     "name": "stdout",
     "output_type": "stream",
     "text": [
      "Shape of a2 :  (1, 2, 3)\n",
      "Dim of a2 :  3\n",
      "A2 \n",
      " [[[1 2 3]\n",
      "  [4 5 6]]]\n",
      "Shape of b2 :  (2, 3)\n",
      "Dim of b2 :  2\n",
      "B2 \n",
      " [[1 2 3]\n",
      " [4 5 6]]\n"
     ]
    }
   ],
   "source": [
    "a2 = np.array([[[1,2,3],[4,5,6]]])\n",
    "\n",
    "print(\"Shape of a2 : \" , np.shape(a2))\n",
    "print(\"Dim of a2 : \" , np.ndim(a2))\n",
    "print(\"A2 \\n\" , a2)\n",
    "\n",
    "b2 = a2.squeeze()\n",
    "\n",
    "print(\"Shape of b2 : \" , np.shape(b2))\n",
    "print(\"Dim of b2 : \" , np.ndim(b2))\n",
    "print(\"B2 \\n\" , b2)"
   ]
  },
  {
   "cell_type": "code",
   "execution_count": 11,
   "id": "90411043",
   "metadata": {},
   "outputs": [
    {
     "name": "stdout",
     "output_type": "stream",
     "text": [
      "Shape of a3 :  (2, 3)\n",
      "Dim of a3 :  2\n",
      "A3 \n",
      " [[1 2 3]\n",
      " [4 5 6]]\n",
      "\n",
      "[[1 2 3]\n",
      " [4 5 6]]\n"
     ]
    }
   ],
   "source": [
    "a3 = np.array([[1,2,3],[4,5,6]])\n",
    "\n",
    "print(\"Shape of a3 : \" , np.shape(a3))\n",
    "print(\"Dim of a3 : \" , np.ndim(a3))\n",
    "print(\"A3 \\n\" , a3)\n",
    "print()\n",
    "\n",
    "b3 = a3.squeeze()#Note that Squeeze function can be use on 3 & above Dim\n",
    "print(b3)"
   ]
  },
  {
   "cell_type": "markdown",
   "id": "2a855914",
   "metadata": {},
   "source": [
    "# Flip :-np.flip() method to reverse values in Numpy Array"
   ]
  },
  {
   "cell_type": "code",
   "execution_count": 15,
   "id": "ad5c3bf4",
   "metadata": {},
   "outputs": [
    {
     "name": "stdout",
     "output_type": "stream",
     "text": [
      "A4 \n",
      " [[1 2 3]\n",
      " [4 5 6]]\n",
      "\n",
      "B4 in Row \n",
      " [[4 5 6]\n",
      " [1 2 3]]\n",
      "\n",
      "B5 in Column \n",
      " [[3 2 1]\n",
      " [6 5 4]]\n"
     ]
    }
   ],
   "source": [
    "a4 = np.array([[1,2,3],[4,5,6]])\n",
    "\n",
    "print(\"A4 \\n\", a4)\n",
    "print()\n",
    "#Axis : Zero axis ---> Row | One axis ---> column\n",
    "\n",
    "b4 = np.flip(a4,axis=0)\n",
    "print(\"B4 in Row \\n\", b4)\n",
    "print()\n",
    "\n",
    "b5 = np.flip(a4,axis=1)\n",
    "print(\"B5 in Column \\n\", b5)"
   ]
  },
  {
   "cell_type": "markdown",
   "id": "f3a71331",
   "metadata": {},
   "source": [
    "# Indexing & Slicing of Numpy Array\n",
    "\n",
    "[start : end : step-size]"
   ]
  },
  {
   "cell_type": "code",
   "execution_count": 17,
   "id": "07d40af8",
   "metadata": {},
   "outputs": [
    {
     "name": "stdout",
     "output_type": "stream",
     "text": [
      "Using Postive indexing :  50\n",
      "Using Negative indexing :  80\n"
     ]
    }
   ],
   "source": [
    "a5 = np.array([10,20,30,40,50,60,70,80,90,100])\n",
    "#              0  1  2  3  4  5  6   7  8  9\n",
    "print(\"Using Postive indexing : \" , a5[4])\n",
    "print(\"Using Negative indexing : \" , a5[-3])"
   ]
  },
  {
   "cell_type": "code",
   "execution_count": 20,
   "id": "d0cef570",
   "metadata": {},
   "outputs": [
    {
     "name": "stdout",
     "output_type": "stream",
     "text": [
      "[30 50 70]\n",
      "[10 20 30 40 50 60 70 80]\n",
      "[30 60 90]\n"
     ]
    }
   ],
   "source": [
    "print(a5[2:7:2])\n",
    "print(a5[:8])#10-80\n",
    "print(a5[2::3])#30,60,90 / "
   ]
  },
  {
   "cell_type": "code",
   "execution_count": 22,
   "id": "84aa7eae",
   "metadata": {
    "scrolled": true
   },
   "outputs": [
    {
     "name": "stdout",
     "output_type": "stream",
     "text": [
      "[[1 2 3]\n",
      " [4 5 6]\n",
      " [7 8 9]]\n"
     ]
    }
   ],
   "source": [
    "a6 = np.array([[1,2,3],[4,5,6],[7,8,9]])\n",
    "\n",
    "print(a6)"
   ]
  },
  {
   "cell_type": "code",
   "execution_count": 25,
   "id": "d7c5b32c",
   "metadata": {},
   "outputs": [
    {
     "name": "stdout",
     "output_type": "stream",
     "text": [
      "5\n",
      "9\n",
      "4\n"
     ]
    }
   ],
   "source": [
    "print(a6[1,1])\n",
    "print(a6[2,2])\n",
    "print(a6[1,0])"
   ]
  },
  {
   "cell_type": "code",
   "execution_count": 30,
   "id": "925e442e",
   "metadata": {},
   "outputs": [
    {
     "name": "stdout",
     "output_type": "stream",
     "text": [
      "[[2 3]]\n",
      "[[5 6]\n",
      " [8 9]]\n"
     ]
    }
   ],
   "source": [
    "print(a6[0:1,1:])\n",
    "print(a6[1:,1:])"
   ]
  },
  {
   "cell_type": "code",
   "execution_count": 33,
   "id": "46148677",
   "metadata": {},
   "outputs": [
    {
     "name": "stdout",
     "output_type": "stream",
     "text": [
      "[[1 2]\n",
      " [4 5]]\n"
     ]
    }
   ],
   "source": [
    "print(a6[0:2,0:2])"
   ]
  }
 ],
 "metadata": {
  "kernelspec": {
   "display_name": "Python 3 (ipykernel)",
   "language": "python",
   "name": "python3"
  },
  "language_info": {
   "codemirror_mode": {
    "name": "ipython",
    "version": 3
   },
   "file_extension": ".py",
   "mimetype": "text/x-python",
   "name": "python",
   "nbconvert_exporter": "python",
   "pygments_lexer": "ipython3",
   "version": "3.11.5"
  }
 },
 "nbformat": 4,
 "nbformat_minor": 5
}
