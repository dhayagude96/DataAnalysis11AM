{
 "cells": [
  {
   "cell_type": "code",
   "execution_count": 3,
   "id": "1d482a92",
   "metadata": {},
   "outputs": [],
   "source": [
    "import numpy as np\n"
   ]
  },
  {
   "cell_type": "code",
   "execution_count": 2,
   "id": "e66d0344",
   "metadata": {},
   "outputs": [
    {
     "name": "stdout",
     "output_type": "stream",
     "text": [
      "[10, 15, 16, 11, 18, 17]\n"
     ]
    }
   ],
   "source": [
    "L1 = [10,15,16]\n",
    "L2 = [11,18,17]\n",
    "\n",
    "print(L1+L2)"
   ]
  },
  {
   "cell_type": "code",
   "execution_count": 4,
   "id": "57fed1c7",
   "metadata": {},
   "outputs": [
    {
     "name": "stdout",
     "output_type": "stream",
     "text": [
      "[21 33 33]\n"
     ]
    }
   ],
   "source": [
    "a1 = np.array([10,15,16])\n",
    "a2 = np.array([11,18,17])\n",
    "\n",
    "print(a1+a2)"
   ]
  },
  {
   "cell_type": "markdown",
   "id": "6dd53d69",
   "metadata": {},
   "source": [
    "\n",
    "# Broadcasting in NumPy arrays\n",
    "\n",
    "\n",
    "Broadcasting essentially stretches the smaller ndarray so that it matches the shape of the larger ndarray"
   ]
  },
  {
   "cell_type": "code",
   "execution_count": 12,
   "id": "3bb360fd",
   "metadata": {},
   "outputs": [
    {
     "name": "stdout",
     "output_type": "stream",
     "text": [
      "Shape a1 :  (3, 3)\n",
      "Dim of a1 :  2\n",
      "Shape a2 :  (3, 1)\n",
      "Dim of a2 :  2\n"
     ]
    }
   ],
   "source": [
    "a1 = np.array([[1,2,3],[4,5,6],[7,8,9]])\n",
    "\n",
    "print('Shape a1 : ' , np.shape(a1) )\n",
    "print(\"Dim of a1 : \" , np.ndim(a1))\n",
    "\n",
    "a2 = np.array([[3],[2],[1]])\n",
    "\n",
    "print('Shape a2 : ' , np.shape(a2) )\n",
    "print(\"Dim of a2 : \" , np.ndim(a2))\n"
   ]
  },
  {
   "cell_type": "code",
   "execution_count": 13,
   "id": "fdf60be9",
   "metadata": {},
   "outputs": [
    {
     "name": "stdout",
     "output_type": "stream",
     "text": [
      "[[1 2 3]\n",
      " [4 5 6]\n",
      " [7 8 9]]\n",
      "[[3]\n",
      " [2]\n",
      " [1]]\n"
     ]
    }
   ],
   "source": [
    "print(a1)\n",
    "print(a2)"
   ]
  },
  {
   "cell_type": "code",
   "execution_count": 14,
   "id": "57d78a98",
   "metadata": {},
   "outputs": [
    {
     "name": "stdout",
     "output_type": "stream",
     "text": [
      "[[ 4  5  6]\n",
      " [ 6  7  8]\n",
      " [ 8  9 10]]\n"
     ]
    }
   ],
   "source": [
    "print(a1+a2)"
   ]
  },
  {
   "cell_type": "markdown",
   "id": "f6f5551c",
   "metadata": {},
   "source": [
    "# Maths with NumPy arrays"
   ]
  },
  {
   "cell_type": "code",
   "execution_count": 28,
   "id": "114c2f06",
   "metadata": {},
   "outputs": [
    {
     "name": "stdout",
     "output_type": "stream",
     "text": [
      "A3 :  [17 49 34 36 24]\n",
      "A3 + 4 :  [21 53 38 40 28]\n",
      "A3 - 7 :  [10 42 27 29 17]\n",
      "A3 / 2 :  [ 8.5 24.5 17.  18.  12. ]\n",
      "A3 * 3 :  [ 51 147 102 108  72]\n"
     ]
    }
   ],
   "source": [
    "a3 = np.random.randint(10,50,size=5)\n",
    "\n",
    "print(\"A3 : \" ,a3)\n",
    "\n",
    "print(\"A3 + 4 : \" , a3+4)\n",
    "print(\"A3 - 7 : \" , a3-7)\n",
    "print(\"A3 / 2 : \" , a3/2)\n",
    "print(\"A3 * 3 : \" , a3*3)"
   ]
  },
  {
   "cell_type": "code",
   "execution_count": 29,
   "id": "b8bf6756",
   "metadata": {},
   "outputs": [
    {
     "name": "stdout",
     "output_type": "stream",
     "text": [
      "[  4913 117649  39304  46656  13824]\n",
      "False\n",
      "[ True False False False False]\n"
     ]
    }
   ],
   "source": [
    "print(a3**3)\n",
    "print(28 in a3)\n",
    "print(21>a3)"
   ]
  },
  {
   "cell_type": "markdown",
   "id": "f4925194",
   "metadata": {},
   "source": [
    "# Mean, Median and Standard deviation"
   ]
  },
  {
   "cell_type": "code",
   "execution_count": 34,
   "id": "4072f5c0",
   "metadata": {},
   "outputs": [
    {
     "name": "stdout",
     "output_type": "stream",
     "text": [
      "Mean :  17.0\n",
      "Mean :  17.0\n"
     ]
    }
   ],
   "source": [
    "age = [10,18,17,16,24,17,18,16]\n",
    "\n",
    "print(\"Mean : \" , np.mean(age))\n",
    "\n",
    "age = [10,18,17,16,24,17,180,16]\n",
    "print(\"Mean : \" , np.median(age))"
   ]
  },
  {
   "cell_type": "code",
   "execution_count": 35,
   "id": "1aee955c",
   "metadata": {},
   "outputs": [
    {
     "name": "stdout",
     "output_type": "stream",
     "text": [
      "Age1 Mean :  23.0 Age2  Mean :  23.0\n"
     ]
    }
   ],
   "source": [
    "age1 = [21,25]\n",
    "age2 = [22,24]\n",
    "\n",
    "print(\"Age1 Mean : \" , np.mean(age1) ,\"Age2  Mean : \", np.mean(age2))"
   ]
  },
  {
   "cell_type": "code",
   "execution_count": 36,
   "id": "5c8bd0f3",
   "metadata": {},
   "outputs": [
    {
     "name": "stdout",
     "output_type": "stream",
     "text": [
      "STD of Age 1 :  2.0 STD pf Age2 : 1.0\n"
     ]
    }
   ],
   "source": [
    "print(\"STD of Age 1 : \" , np.std(age1) ,\"STD pf Age2 :\" ,np.std(age2))"
   ]
  },
  {
   "cell_type": "markdown",
   "id": "d0102dbc",
   "metadata": {},
   "source": [
    "# Append"
   ]
  },
  {
   "cell_type": "code",
   "execution_count": 45,
   "id": "0d1af09f",
   "metadata": {},
   "outputs": [
    {
     "name": "stdout",
     "output_type": "stream",
     "text": [
      "Before append : \n",
      " [[1 2 3]\n",
      " [4 5 6]]\n",
      "After append : \n",
      " [[1 2 3]\n",
      " [4 5 6]\n",
      " [7 8 9]]\n"
     ]
    }
   ],
   "source": [
    "a4 = np.array([[1,2,3],[4,5,6]])\n",
    "\n",
    "print(\"Before append : \\n\" , a4)\n",
    "\n",
    "a5 = np.append(a4,[[7,8,9]],axis=0)\n",
    "\n",
    "print(\"After append : \\n\" , a5)"
   ]
  },
  {
   "cell_type": "markdown",
   "id": "dab1f621",
   "metadata": {},
   "source": [
    "# Max,Min,sqrt,log10"
   ]
  },
  {
   "cell_type": "code",
   "execution_count": 47,
   "id": "5b700103",
   "metadata": {},
   "outputs": [
    {
     "name": "stdout",
     "output_type": "stream",
     "text": [
      "MAX :  58\n",
      "MIN :  10\n",
      "SQRT :  [6.164414   7.61577311 4.47213595 6.244998   5.19615242 5.47722558\n",
      " 3.16227766 4.79583152]\n",
      "log10 :  [1.5797836  1.76342799 1.30103    1.59106461 1.43136376 1.47712125\n",
      " 1.         1.36172784]\n"
     ]
    }
   ],
   "source": [
    "a7 = np.random.randint(10,66,size=8)\n",
    "\n",
    "a7\n",
    "\n",
    "print(\"MAX : \" , np.max(a7))\n",
    "print(\"MIN : \" , np.min(a7))\n",
    "print(\"SQRT : \" , np.sqrt(a7))\n",
    "print(\"log10 : \" , np.log10(a7))"
   ]
  },
  {
   "cell_type": "markdown",
   "id": "4ee5d5f9",
   "metadata": {},
   "source": [
    "\n",
    "# Sort"
   ]
  },
  {
   "cell_type": "code",
   "execution_count": 49,
   "id": "75af4d53",
   "metadata": {},
   "outputs": [
    {
     "name": "stdout",
     "output_type": "stream",
     "text": [
      "[17 13 12 11  8  5  3  1]\n"
     ]
    }
   ],
   "source": [
    "a8 = np.array([11,17,5,13,12,8,1,3])\n",
    "\n",
    "print(np.sort(a8)[::-1])"
   ]
  }
 ],
 "metadata": {
  "kernelspec": {
   "display_name": "Python 3 (ipykernel)",
   "language": "python",
   "name": "python3"
  },
  "language_info": {
   "codemirror_mode": {
    "name": "ipython",
    "version": 3
   },
   "file_extension": ".py",
   "mimetype": "text/x-python",
   "name": "python",
   "nbconvert_exporter": "python",
   "pygments_lexer": "ipython3",
   "version": "3.11.5"
  }
 },
 "nbformat": 4,
 "nbformat_minor": 5
}
