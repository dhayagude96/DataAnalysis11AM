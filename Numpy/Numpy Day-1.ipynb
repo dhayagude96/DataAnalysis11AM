{
 "cells": [
  {
   "cell_type": "markdown",
   "id": "30a36a46",
   "metadata": {},
   "source": [
    "# NumPy\n",
    "NumPy is a Python package. It stands for 'Numerical Python'. It is a library consisting of multidimensional array objects and a collection of routines for processing of array."
   ]
  },
  {
   "cell_type": "markdown",
   "id": "3317f167",
   "metadata": {},
   "source": [
    "# What is NumPy?\n",
    "It is a library consisting of multidimensional array objects and a collection of routines for processing those arrays.\n",
    "\n",
    "NumPy has put python lists out of the job as NumPy arrays are more efficient, convenient and makes it faster to read or write an item."
   ]
  },
  {
   "cell_type": "code",
   "execution_count": 25,
   "id": "d6c86cd4",
   "metadata": {},
   "outputs": [
    {
     "name": "stdout",
     "output_type": "stream",
     "text": [
      "Age grp center is :  29.52\n"
     ]
    }
   ],
   "source": [
    "import numpy as np\n",
    "\n",
    "age = np.random.randint(15,45,size=100)\n",
    "\n",
    "print(\"Age grp center is : \" , np.mean(age))"
   ]
  },
  {
   "cell_type": "markdown",
   "id": "de2c3e61",
   "metadata": {},
   "source": [
    "# Python Lists vs NumPy Arrays – What’s the Difference?\n",
    "1.Python lists act as an array that can store elements of various types.A list is the Python equivalent of an array,but is resizeable and can contain elements of different types.\n",
    "\n",
    "2.NumPy arrays that contain only homogeneous elements, i.e. elements having the same data type.\n",
    "\n",
    "3.With NumPy arrays, you can perform element-wise operations, something which is not possible using Python lists!\n",
    "\n",
    "4.This is the reason why NumPy arrays are preferred over Python lists when performing mathematical operations on a large amount of data."
   ]
  },
  {
   "cell_type": "markdown",
   "id": "816ef0b0",
   "metadata": {},
   "source": [
    "# Why use NumPy?\n",
    "Using NumPy, mathematical and logical operations on arrays can be performed. NumPy also provides high performance.Some of the key features that contribute in the popularity of NumPyare:\n",
    "\n",
    "1.It is a powerful N-dimensional array object\n",
    "\n",
    "2.It is a sophisticated broadcasting functions\n",
    "\n",
    "3.It is a tool for integrating C/C++ and Fortran code\n",
    "\n",
    "4.It is useful linear algebra, Fourier transform, and random number capabilities"
   ]
  },
  {
   "cell_type": "markdown",
   "id": "9ca48a40",
   "metadata": {},
   "source": [
    "# Import Convention\n",
    "Since NumPy is a Python Library, it has to be imported first before you start using NumPy. To import NumPy, type in the following command:"
   ]
  },
  {
   "cell_type": "code",
   "execution_count": 35,
   "id": "298ab16a",
   "metadata": {},
   "outputs": [],
   "source": [
    "import numpy as np"
   ]
  },
  {
   "cell_type": "markdown",
   "id": "235a347d",
   "metadata": {},
   "source": [
    "# Creating Numpy Arrays\n",
    "\n",
    "1.np.array() 1D/2D\n",
    "\n",
    "2.np.zeros/ones/identity()\n",
    "\n",
    "3.np.arange()\n",
    "\n",
    "4.np.linspace()\n",
    "\n",
    "5.np.copy()\n",
    "\n",
    "6.np.random() :--. rand/randint\n",
    "\n",
    "7.np.full()"
   ]
  },
  {
   "cell_type": "code",
   "execution_count": 26,
   "id": "cd6f541d",
   "metadata": {},
   "outputs": [
    {
     "name": "stdout",
     "output_type": "stream",
     "text": [
      "Data Type of L1 :  <class 'list'>\n",
      "Data Type of A1 :  <class 'numpy.ndarray'>\n"
     ]
    }
   ],
   "source": [
    "#1.np.array() 1D/2D\n",
    "\n",
    "L1 = [1,2,3,4]\n",
    "\n",
    "A1 = np.array([1,2,3,4,])\n",
    "\n",
    "print(\"Data Type of L1 : \" , type(L1))\n",
    "print(\"Data Type of A1 : \" , type(A1))"
   ]
  },
  {
   "cell_type": "code",
   "execution_count": 27,
   "id": "f7fff27f",
   "metadata": {},
   "outputs": [
    {
     "name": "stdout",
     "output_type": "stream",
     "text": [
      "2D Array \n",
      " [[1 2 3]\n",
      " [4 5 6]]\n"
     ]
    }
   ],
   "source": [
    "A2 = np.array([[1,2,3],[4,5,6]])\n",
    "\n",
    "print(\"2D Array \\n\" , A2)"
   ]
  },
  {
   "cell_type": "code",
   "execution_count": 32,
   "id": "37078c4a",
   "metadata": {
    "scrolled": true
   },
   "outputs": [
    {
     "name": "stdout",
     "output_type": "stream",
     "text": [
      "Zeros: \n",
      " [[0. 0. 0.]\n",
      " [0. 0. 0.]\n",
      " [0. 0. 0.]]\n",
      "Ones: \n",
      " [[1. 1. 1.]\n",
      " [1. 1. 1.]\n",
      " [1. 1. 1.]]\n",
      "identity: \n",
      " [[1. 0. 0. 0. 0.]\n",
      " [0. 1. 0. 0. 0.]\n",
      " [0. 0. 1. 0. 0.]\n",
      " [0. 0. 0. 1. 0.]\n",
      " [0. 0. 0. 0. 1.]]\n"
     ]
    }
   ],
   "source": [
    "#2.np.zeros/ones/identity()\n",
    "\n",
    "A3 =  np.zeros((3,3))#Row,col\n",
    "\n",
    "print(\"Zeros: \\n\" , A3)\n",
    "\n",
    "A4 =  np.ones((3,3))#Row,col\n",
    "\n",
    "print(\"Ones: \\n\" , A4)\n",
    "\n",
    "A5 =  np.identity(5)\n",
    "\n",
    "print(\"identity: \\n\" , A5)"
   ]
  },
  {
   "cell_type": "code",
   "execution_count": 35,
   "id": "1ca80f13",
   "metadata": {},
   "outputs": [
    {
     "name": "stdout",
     "output_type": "stream",
     "text": [
      "Using Python Range Function :  [1, 2, 3, 4, 5, 6, 7, 8, 9, 10]\n",
      "Using Numpy Range Function  :  [ 1  2  3  4  5  6  7  8  9 10]\n"
     ]
    }
   ],
   "source": [
    "L3 = list(range(1,11))\n",
    "\n",
    "print(\"Using Python Range Function : \" , L3)\n",
    "\n",
    "A6 = np.arange(1,11)\n",
    "\n",
    "print(\"Using Numpy Range Function  : \" ,A6)"
   ]
  },
  {
   "cell_type": "code",
   "execution_count": 36,
   "id": "eb8d44d7",
   "metadata": {},
   "outputs": [
    {
     "data": {
      "text/plain": [
       "array([ 1,  3,  5,  7,  9, 11, 13, 15, 17, 19])"
      ]
     },
     "execution_count": 36,
     "metadata": {},
     "output_type": "execute_result"
    }
   ],
   "source": [
    "A7 = np.arange(1,21,2)\n",
    "\n",
    "A7"
   ]
  },
  {
   "cell_type": "code",
   "execution_count": 39,
   "id": "257548c4",
   "metadata": {},
   "outputs": [
    {
     "data": {
      "text/plain": [
       "array([10., 20., 30., 40., 50.])"
      ]
     },
     "execution_count": 39,
     "metadata": {},
     "output_type": "execute_result"
    }
   ],
   "source": [
    "#4.np.linspace()\n",
    "A8 = np.linspace(10,50,5)\n",
    "\n",
    "A8"
   ]
  },
  {
   "cell_type": "code",
   "execution_count": 40,
   "id": "93967528",
   "metadata": {},
   "outputs": [
    {
     "data": {
      "text/plain": [
       "array([10., 20., 30., 40., 50.])"
      ]
     },
     "execution_count": 40,
     "metadata": {},
     "output_type": "execute_result"
    }
   ],
   "source": [
    "#5.np.copy()\n",
    "\n",
    "A9 = np.copy(A8)\n",
    "\n",
    "A9"
   ]
  },
  {
   "cell_type": "code",
   "execution_count": 54,
   "id": "265f3305",
   "metadata": {},
   "outputs": [
    {
     "data": {
      "text/plain": [
       "array([24, 31, 43, 35, 47, 46])"
      ]
     },
     "execution_count": 54,
     "metadata": {},
     "output_type": "execute_result"
    }
   ],
   "source": [
    "#6.np.random() :--. rand/randint\n",
    "\n",
    "A10 = np.random.rand(2,3) #rand :--> 0 to 1\n",
    "\n",
    "A11 = np.round(np.random.rand(2,3), decimals = 2 )\n",
    "\n",
    "A11\n",
    "\n",
    "A12 = np.random.randint(10,50,6)#Starting,Ending,Size\n",
    "\n",
    "A12"
   ]
  },
  {
   "cell_type": "code",
   "execution_count": 56,
   "id": "28f47a43",
   "metadata": {},
   "outputs": [
    {
     "data": {
      "text/plain": [
       "array([[5.5, 5.5, 5.5, 5.5, 5.5],\n",
       "       [5.5, 5.5, 5.5, 5.5, 5.5],\n",
       "       [5.5, 5.5, 5.5, 5.5, 5.5]])"
      ]
     },
     "execution_count": 56,
     "metadata": {},
     "output_type": "execute_result"
    }
   ],
   "source": [
    "#7.np.full()\n",
    "\n",
    "A13 = np.full((3,5),5.5)\n",
    "\n",
    "A13"
   ]
  }
 ],
 "metadata": {
  "kernelspec": {
   "display_name": "Python 3 (ipykernel)",
   "language": "python",
   "name": "python3"
  },
  "language_info": {
   "codemirror_mode": {
    "name": "ipython",
    "version": 3
   },
   "file_extension": ".py",
   "mimetype": "text/x-python",
   "name": "python",
   "nbconvert_exporter": "python",
   "pygments_lexer": "ipython3",
   "version": "3.11.5"
  }
 },
 "nbformat": 4,
 "nbformat_minor": 5
}
