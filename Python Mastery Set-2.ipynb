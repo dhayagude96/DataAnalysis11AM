{
 "cells": [
  {
   "cell_type": "markdown",
   "id": "47589b13",
   "metadata": {},
   "source": [
    "# Assignment: Python Mastery Set-2\n",
    "\n",
    "\n",
    "Task:\n",
    "-----\n",
    "\n",
    "Write a Python program using any functions\n",
    "\n",
    "Instructions:\n",
    "\n",
    "1.Open your preferred Python environment.\n",
    "\n",
    "2.Write a Python script adhering to the specified task.\n",
    "\n",
    "3.use functions for this assignment.\n",
    "\n",
    "4.Once your program is complete, run it to test its functionality.\n",
    "\n",
    "5.Upload the PDF document to the Data Analysis Google Classroom assignment.\n",
    "\n",
    "Submission Deadline:\n",
    "-----\n",
    "20/11/2023\n",
    "\n",
    "\n",
    "Note:\n",
    "-----\n",
    "\n",
    "Ensure your code is well-commented for clarity.\n",
    "\n",
    "Follow the provided instructions strictly.\n",
    "\n",
    "If you face any issues, reach out for assistance.\n",
    "\n",
    "Happy coding!\n",
    "-----"
   ]
  },
  {
   "cell_type": "markdown",
   "id": "d793bec0",
   "metadata": {},
   "source": [
    "1.Write a Program to take input from user for the radius of a circle and the side length of a square. Calculate and print the area of the circle and the area of the square. Then, determine and print which one has a larger area."
   ]
  },
  {
   "cell_type": "code",
   "execution_count": null,
   "id": "fda2e16b",
   "metadata": {},
   "outputs": [],
   "source": []
  },
  {
   "cell_type": "markdown",
   "id": "b7551e0d",
   "metadata": {},
   "source": [
    "2.Write a Program to enter two numbers. If the sum of the numbers is even and greater than 10, print \"Even and greater than 10\"; if it's odd, print \"Odd\"; otherwise, print \"Not greater than 10.\""
   ]
  },
  {
   "cell_type": "code",
   "execution_count": null,
   "id": "e64c6baa",
   "metadata": {},
   "outputs": [],
   "source": []
  },
  {
   "cell_type": "markdown",
   "id": "f9b85916",
   "metadata": {},
   "source": [
    "3.Write a Program to request the user's birth year and their current age. Calculate their birth year and check if it matches the provided birth year. Print a message indicating whether they entered their birth year correctly."
   ]
  },
  {
   "cell_type": "code",
   "execution_count": null,
   "id": "382809dd",
   "metadata": {},
   "outputs": [],
   "source": []
  },
  {
   "cell_type": "markdown",
   "id": "a7a8c595",
   "metadata": {},
   "source": [
    "4.Write a Program to enter a value. Check if the value is a number (int or float) or a string. If it's a number, square it and print the result; if it's a string, print it in uppercase."
   ]
  },
  {
   "cell_type": "code",
   "execution_count": null,
   "id": "086c4576",
   "metadata": {},
   "outputs": [],
   "source": []
  }
 ],
 "metadata": {
  "kernelspec": {
   "display_name": "Python 3 (ipykernel)",
   "language": "python",
   "name": "python3"
  },
  "language_info": {
   "codemirror_mode": {
    "name": "ipython",
    "version": 3
   },
   "file_extension": ".py",
   "mimetype": "text/x-python",
   "name": "python",
   "nbconvert_exporter": "python",
   "pygments_lexer": "ipython3",
   "version": "3.11.3"
  }
 },
 "nbformat": 4,
 "nbformat_minor": 5
}
