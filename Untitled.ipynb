{
 "cells": [
  {
   "cell_type": "code",
   "execution_count": null,
   "id": "deb1fa15",
   "metadata": {},
   "outputs": [],
   "source": [
    "class EduTECH:\n",
    "def __init__(self):\n",
    "self.name = \"\"\n",
    "self.pwd = \"\"\n",
    "def createAct(self):\n",
    "self.name = input(\"enter your username : \")\n",
    "self.pwd = input(\"enter your password : \")\n",
    "print(f\"welcome to EduTECH {self.name}\")\n",
    "def login(self):\n",
    "temp1 = input(\"enterr your username : \")\n",
    "temp2 = input(\"enter your password : \")\n",
    "if temp1 == self.name and temp2 == self.pwd:\n",
    "print(f\"welcome back {self.name}\")\n",
    "else:\n",
    "print(\"check your password\")\n",
    "class student(EduTECH):\n",
    "def __init__(self):\n",
    "super().__init__()\n",
    "self.course = \"\"\n",
    "self.project = \"\"\n",
    "def studentDashboard(self):\n",
    "super().login()\n",
    "self.course = input(\"\"\"select your course :\n",
    "1.SAP\n",
    "2.DA\n",
    "3.DS\n",
    "4.FSD\"\"\")\n",
    "print(f\"{self.name} you have selected {self.course}\")\n",
    "def project(self):\n",
    "super().login()\n",
    "self.project = input(\"\"\"Plz select your project :\n",
    "1.python project\n",
    "2.powerBI project\n",
    "3.SQL project\n",
    "4.Excel project\"\"\")\n",
    "print(f\"{self.name} you have selected project is : {self.project}\")\n",
    "class Trainer(EduTECH):\n",
    "def __init__(self):\n",
    "super().__init__()\n",
    "self.batch = \"\"\n",
    "self.info = \"\"\n",
    "def Trainer_batch(self):\n",
    "super().login()\n",
    "self.batch = input(\"\"\"plz select your batch timing :\n",
    "1.7 AM\n",
    "2.11 AM\n",
    "3.2 PM\n",
    "4.5 PM\n",
    "5.7 PM\"\"\")\n",
    "print(f\"{self.name}your batch timing is : {self.batch}\")\n",
    "def Trainer_info(self):\n",
    "self.info = input(\"\"\"plz enter your information here : \"\"\")\n",
    "print(f\"{self.name}your name is {self.info}\")"
   ]
  }
 ],
 "metadata": {
  "kernelspec": {
   "display_name": "Python 3 (ipykernel)",
   "language": "python",
   "name": "python3"
  },
  "language_info": {
   "codemirror_mode": {
    "name": "ipython",
    "version": 3
   },
   "file_extension": ".py",
   "mimetype": "text/x-python",
   "name": "python",
   "nbconvert_exporter": "python",
   "pygments_lexer": "ipython3",
   "version": "3.11.3"
  }
 },
 "nbformat": 4,
 "nbformat_minor": 5
}
