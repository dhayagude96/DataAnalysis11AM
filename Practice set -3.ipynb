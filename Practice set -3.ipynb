{
 "cells": [
  {
   "cell_type": "markdown",
   "id": "bc606435",
   "metadata": {},
   "source": [
    "# Write Program to Swap Two Values"
   ]
  },
  {
   "cell_type": "code",
   "execution_count": 3,
   "id": "4ad56de4",
   "metadata": {},
   "outputs": [
    {
     "name": "stdout",
     "output_type": "stream",
     "text": [
      "Enter Number :5\n",
      "Enter Number :15\n",
      "Before Swap Value are :  5 15\n",
      "After Swap Value are :  15 5\n"
     ]
    }
   ],
   "source": [
    "a  = int(input(\"Enter Number :\"))\n",
    "\n",
    "b = int (input('Enter Number :'))\n",
    "\n",
    "print(\"Before Swap Value are : \" , a , b)\n",
    "\n",
    "temp = a\n",
    "\n",
    "a = b\n",
    "\n",
    "b = temp\n",
    "\n",
    "print(\"After Swap Value are : \" , a , b)\n"
   ]
  },
  {
   "cell_type": "markdown",
   "id": "7062c93b",
   "metadata": {},
   "source": [
    "# write a program to caculate count of repetation in list "
   ]
  },
  {
   "cell_type": "code",
   "execution_count": 6,
   "id": "ea25fcc9",
   "metadata": {},
   "outputs": [
    {
     "name": "stdout",
     "output_type": "stream",
     "text": [
      "Enter Number25\n",
      "25 is Repeted  3 Times\n"
     ]
    }
   ],
   "source": [
    "L1 = [10,10,20,25,25,10,18,16,17,20,25,16]\n",
    "\n",
    "num = int(input(\"Enter Number\"))\n",
    "\n",
    "count = 0\n",
    "\n",
    "for i in L1:\n",
    "    if i == num:\n",
    "        count += 1\n",
    "        \n",
    "print(num , \"is Repeted \" ,count,\"Times\")"
   ]
  },
  {
   "cell_type": "code",
   "execution_count": 9,
   "id": "64733c8b",
   "metadata": {},
   "outputs": [],
   "source": [
    "def listNum(l1,num):\n",
    "        count = 0\n",
    "\n",
    "        for i in L1:\n",
    "            if i == num:\n",
    "                count += 1\n",
    "        \n",
    "        print(num , \"is Repeted \" ,count,\"Times\")\n",
    "    "
   ]
  },
  {
   "cell_type": "code",
   "execution_count": 12,
   "id": "f494146d",
   "metadata": {},
   "outputs": [
    {
     "name": "stdout",
     "output_type": "stream",
     "text": [
      "17 is Repeted  1 Times\n"
     ]
    }
   ],
   "source": [
    "listNum(L1,17)"
   ]
  },
  {
   "cell_type": "markdown",
   "id": "3c3ad28d",
   "metadata": {},
   "source": [
    "# Write Program to Check wether enter Number is Prime or Not"
   ]
  },
  {
   "cell_type": "code",
   "execution_count": 1,
   "id": "6de8ea6d",
   "metadata": {},
   "outputs": [
    {
     "name": "stdout",
     "output_type": "stream",
     "text": [
      "enter the number:25\n",
      "Number is prime\n"
     ]
    }
   ],
   "source": [
    "num = int(input(\"enter the number:\"))\n",
    "\n",
    "if num / num == 1:\n",
    "    print(\"Number is prime\")\n",
    "else: \n",
    "    print(\"number is not prime\")"
   ]
  },
  {
   "cell_type": "code",
   "execution_count": 8,
   "id": "4d8847d5",
   "metadata": {},
   "outputs": [
    {
     "name": "stdout",
     "output_type": "stream",
     "text": [
      "Enter number: 17\n",
      "Prime Number\n"
     ]
    }
   ],
   "source": [
    "num = int(input(\"Enter number: \"))\n",
    "\n",
    "if num == 0 or num == 1:\n",
    "    print('Plz enter valid Number')\n",
    "else:\n",
    "    for i in range(2, num):\n",
    "        if num % i == 0:\n",
    "            print(\"Not prime Number\")\n",
    "            break\n",
    "    else:\n",
    "        print(\"Prime Number\")"
   ]
  },
  {
   "cell_type": "markdown",
   "id": "ad58cfa8",
   "metadata": {},
   "source": [
    "# Write a program to check number is armstrong number or not "
   ]
  }
 ],
 "metadata": {
  "kernelspec": {
   "display_name": "Python 3 (ipykernel)",
   "language": "python",
   "name": "python3"
  },
  "language_info": {
   "codemirror_mode": {
    "name": "ipython",
    "version": 3
   },
   "file_extension": ".py",
   "mimetype": "text/x-python",
   "name": "python",
   "nbconvert_exporter": "python",
   "pygments_lexer": "ipython3",
   "version": "3.11.5"
  }
 },
 "nbformat": 4,
 "nbformat_minor": 5
}
